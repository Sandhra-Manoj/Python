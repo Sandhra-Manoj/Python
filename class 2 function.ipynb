{
 "cells": [
  {
   "cell_type": "markdown",
   "id": "a7730f7d",
   "metadata": {},
   "source": [
    "## python function\n",
    "#### There are 2 types of function in python programming:\n",
    "##### Standard library function- These are built-in functions in python that are available to use.\n",
    "##### User-defined functions-We can create our own fuctions based on our requirements."
   ]
  },
  {
   "cell_type": "code",
   "execution_count": null,
   "id": "0633feef",
   "metadata": {},
   "outputs": [],
   "source": [
    "#python fuction declaration\n",
    "def function_name(arguments):\n",
    "    #function body\n",
    "    return output"
   ]
  },
  {
   "cell_type": "markdown",
   "id": "07822e81",
   "metadata": {},
   "source": [
    "### calling a function"
   ]
  },
  {
   "cell_type": "code",
   "execution_count": 1,
   "id": "fde74349",
   "metadata": {},
   "outputs": [],
   "source": [
    "def greet():\n",
    "    print(\"hello world\")"
   ]
  },
  {
   "cell_type": "code",
   "execution_count": 2,
   "id": "f6b20c7c",
   "metadata": {},
   "outputs": [
    {
     "name": "stdout",
     "output_type": "stream",
     "text": [
      "hello world\n",
      "hello world\n"
     ]
    }
   ],
   "source": [
    "greet()\n",
    "greet()"
   ]
  },
  {
   "cell_type": "code",
   "execution_count": 4,
   "id": "a525efd7",
   "metadata": {},
   "outputs": [
    {
     "name": "stdout",
     "output_type": "stream",
     "text": [
      "hello sandhra\n",
      "hello 10\n"
     ]
    }
   ],
   "source": [
    "def name_func(name):\n",
    "    print(\"hello\", name)\n",
    "    \n",
    "name_func(\"sandhra\")\n",
    "name_func(10)"
   ]
  },
  {
   "cell_type": "code",
   "execution_count": 5,
   "id": "ba964187",
   "metadata": {},
   "outputs": [
    {
     "name": "stdout",
     "output_type": "stream",
     "text": [
      "enter namesandhra\n",
      "hello sandhra\n"
     ]
    }
   ],
   "source": [
    "def name(name):\n",
    "    print(\"hello\", name)\n",
    "name(input(\"enter name\"))"
   ]
  },
  {
   "cell_type": "markdown",
   "id": "4b159058",
   "metadata": {},
   "source": [
    "### Function arguments\n",
    "#### An argument is a value that is accepted by a function"
   ]
  },
  {
   "cell_type": "code",
   "execution_count": 9,
   "id": "3026b2ca",
   "metadata": {},
   "outputs": [
    {
     "name": "stdout",
     "output_type": "stream",
     "text": [
      "sum: 7\n"
     ]
    }
   ],
   "source": [
    "#function with no arguments\n",
    "def add_num():\n",
    "    num1=3\n",
    "    num2=4\n",
    "    sum_=num1+num2\n",
    "    print(\"sum:\",sum_)\n",
    "#function with no value \n",
    "add_num()"
   ]
  },
  {
   "cell_type": "code",
   "execution_count": 10,
   "id": "8aaa9b7b",
   "metadata": {},
   "outputs": [
    {
     "name": "stdout",
     "output_type": "stream",
     "text": [
      "sum: 56\n"
     ]
    }
   ],
   "source": [
    "#function with 2 arguments\n",
    "def add_num(num1,num2):\n",
    "    sum_=num1+num2\n",
    "    print(\"sum:\",sum_)\n",
    "add_num(23,33)"
   ]
  },
  {
   "cell_type": "code",
   "execution_count": 11,
   "id": "38a45635",
   "metadata": {},
   "outputs": [
    {
     "name": "stdout",
     "output_type": "stream",
     "text": [
      "enter a number2\n",
      "enter a number4\n",
      "sum: 6\n"
     ]
    }
   ],
   "source": [
    "#function call with 2 values\n",
    "x=int(input(\"enter a number\"))\n",
    "y=int(input(\"enter a number\"))\n",
    "add_num(x,y)"
   ]
  },
  {
   "cell_type": "code",
   "execution_count": 12,
   "id": "f356e9dd",
   "metadata": {},
   "outputs": [
    {
     "name": "stdout",
     "output_type": "stream",
     "text": [
      "enter a number2\n",
      "enter a number5\n",
      "sum: 7\n"
     ]
    }
   ],
   "source": [
    "add_num(int(input(\"enter a number\")),int(input(\"enter a number\")))"
   ]
  },
  {
   "cell_type": "markdown",
   "id": "9fdc6800",
   "metadata": {},
   "source": [
    "### function argument with default values"
   ]
  },
  {
   "cell_type": "code",
   "execution_count": 13,
   "id": "2acfa1b7",
   "metadata": {},
   "outputs": [
    {
     "name": "stdout",
     "output_type": "stream",
     "text": [
      "sum 6\n",
      "sum 9\n",
      "sum 8\n"
     ]
    }
   ],
   "source": [
    "def add_num(a=2, s=4):\n",
    "    sum_=a+s\n",
    "    print(\"sum\", sum_)\n",
    "#function call without argument\n",
    "add_num()\n",
    "#function call with 2 argument\n",
    "add_num(3,6)\n",
    "#function call with 1 argument\n",
    "add_num(s=6)"
   ]
  },
  {
   "cell_type": "markdown",
   "id": "561a17bc",
   "metadata": {},
   "source": [
    "### function with arbitrary arfuments\n",
    "#### Sometimes, we do not know in advance the number of arguments that will be passed into a function. To handle this kind of situation, we can use arbitrary arguments in python.\n",
    "#### Arbitrary arguments allow us to pass a varing number of values during a function call."
   ]
  },
  {
   "cell_type": "code",
   "execution_count": 15,
   "id": "9d3fd481",
   "metadata": {},
   "outputs": [
    {
     "name": "stdout",
     "output_type": "stream",
     "text": [
      "sum= 15\n",
      "sum= 31\n"
     ]
    }
   ],
   "source": [
    "def find_sum (*numbers):\n",
    "    result=0\n",
    "    for num in numbers:\n",
    "        result=result+num\n",
    "    print(\"sum=\",result)\n",
    "#function call with 3 argument\n",
    "find_sum(2,5,8)\n",
    "#function call with more argument\n",
    "find_sum(1,4,6,8,9,3)"
   ]
  },
  {
   "cell_type": "markdown",
   "id": "d95d7e89",
   "metadata": {},
   "source": [
    "### return stmt"
   ]
  },
  {
   "cell_type": "code",
   "execution_count": 16,
   "id": "73d22285",
   "metadata": {},
   "outputs": [
    {
     "name": "stdout",
     "output_type": "stream",
     "text": [
      "square 64\n"
     ]
    }
   ],
   "source": [
    "def find_square(num):\n",
    "    result=num*num\n",
    "    return result\n",
    "square=find_square(8)\n",
    "print(\"square\",square)"
   ]
  },
  {
   "cell_type": "code",
   "execution_count": 19,
   "id": "2e209ebe",
   "metadata": {},
   "outputs": [
    {
     "name": "stdout",
     "output_type": "stream",
     "text": [
      "result 20 9 1\n"
     ]
    }
   ],
   "source": [
    "def calculation(num1,num2):\n",
    "    sqr=num1*num2\n",
    "    add= num1+num2\n",
    "    sub=num1-num2\n",
    "    return sqr,add,sub\n",
    "x,y,z=calculation(5,4)\n",
    "print(\"result\",x,y,z)"
   ]
  },
  {
   "cell_type": "markdown",
   "id": "b2975481",
   "metadata": {},
   "source": [
    "### python recursive function"
   ]
  },
  {
   "cell_type": "code",
   "execution_count": 27,
   "id": "8a820946",
   "metadata": {},
   "outputs": [
    {
     "name": "stdout",
     "output_type": "stream",
     "text": [
      "The factorial of 3 is 6\n"
     ]
    }
   ],
   "source": [
    "def factorial(x):\n",
    "    if x==1:\n",
    "        return 1\n",
    "    else:\n",
    "        return(x*factorial(x-1))\n",
    "num=3\n",
    "print(\"The factorial of\",num,\"is\",factorial(num))"
   ]
  },
  {
   "cell_type": "code",
   "execution_count": 61,
   "id": "06c4baf3",
   "metadata": {},
   "outputs": [
    {
     "name": "stdout",
     "output_type": "stream",
     "text": [
      "Enter a number: 8\n",
      " is even\n"
     ]
    }
   ],
   "source": [
    "def numbers(x):\n",
    "    if x%2==0:\n",
    "        return (\"is even\")\n",
    "    else:\n",
    "        return   (\"is odd\")\n",
    "x=int(input(\"Enter a number: \"))\n",
    "y=numbers(x)\n",
    "print(y)"
   ]
  },
  {
   "cell_type": "markdown",
   "id": "5a6a6259",
   "metadata": {},
   "source": [
    "### Python lambda/anonymous function\n",
    "#### python ,a lambda function is a spl type of function without the function name"
   ]
  },
  {
   "cell_type": "code",
   "execution_count": 1,
   "id": "4ce470f0",
   "metadata": {},
   "outputs": [
    {
     "name": "stdout",
     "output_type": "stream",
     "text": [
      "hello\n"
     ]
    }
   ],
   "source": [
    "greet=lambda :print(\"hello\")\n",
    "greet()\n"
   ]
  },
  {
   "cell_type": "code",
   "execution_count": 2,
   "id": "29a33ee3",
   "metadata": {},
   "outputs": [
    {
     "name": "stdout",
     "output_type": "stream",
     "text": [
      "hey there, sandhra\n"
     ]
    }
   ],
   "source": [
    "# lambda that accepts one argument\n",
    "greet_user =lambda name:print(\"hey there,\", name)\n",
    "#lambda call\n",
    "greet_user(\"sandhra\")"
   ]
  },
  {
   "cell_type": "code",
   "execution_count": 3,
   "id": "47062d6b",
   "metadata": {},
   "outputs": [
    {
     "data": {
      "text/plain": [
       "15"
      ]
     },
     "execution_count": 3,
     "metadata": {},
     "output_type": "execute_result"
    }
   ],
   "source": [
    "x=lambda a:a+10\n",
    "x(5)"
   ]
  },
  {
   "cell_type": "code",
   "execution_count": 4,
   "id": "80d4ffb4",
   "metadata": {},
   "outputs": [
    {
     "data": {
      "text/plain": [
       "40"
      ]
     },
     "execution_count": 4,
     "metadata": {},
     "output_type": "execute_result"
    }
   ],
   "source": [
    "x=lambda a,b:a*b\n",
    "x(5,8)"
   ]
  },
  {
   "cell_type": "markdown",
   "id": "51ce2fcf",
   "metadata": {},
   "source": [
    "### import modules in python"
   ]
  },
  {
   "cell_type": "code",
   "execution_count": 5,
   "id": "7ddd2527",
   "metadata": {},
   "outputs": [
    {
     "name": "stdout",
     "output_type": "stream",
     "text": [
      "9\n"
     ]
    }
   ],
   "source": [
    "import example\n",
    "x=example.add(4,5)\n",
    "print(x)"
   ]
  },
  {
   "cell_type": "code",
   "execution_count": 7,
   "id": "1c0d9a86",
   "metadata": {},
   "outputs": [
    {
     "name": "stdout",
     "output_type": "stream",
     "text": [
      "3.141592653589793\n"
     ]
    }
   ],
   "source": [
    "import math\n",
    "print(math.pi)"
   ]
  },
  {
   "cell_type": "markdown",
   "id": "7e799292",
   "metadata": {},
   "source": [
    "### python import with renaming"
   ]
  },
  {
   "cell_type": "code",
   "execution_count": 6,
   "id": "6f02dd0d",
   "metadata": {},
   "outputs": [
    {
     "name": "stdout",
     "output_type": "stream",
     "text": [
      "3.141592653589793\n"
     ]
    }
   ],
   "source": [
    "import math as m \n",
    "print(m.pi)"
   ]
  },
  {
   "cell_type": "markdown",
   "id": "486b9320",
   "metadata": {},
   "source": [
    "### python from..... import stmt"
   ]
  },
  {
   "cell_type": "code",
   "execution_count": 8,
   "id": "09433d19",
   "metadata": {},
   "outputs": [
    {
     "name": "stdout",
     "output_type": "stream",
     "text": [
      "3.141592653589793\n",
      "2.9444389791664403\n"
     ]
    }
   ],
   "source": [
    "from math import pi,log\n",
    "print(pi)\n",
    "print(log(19))"
   ]
  },
  {
   "cell_type": "markdown",
   "id": "eac1f663",
   "metadata": {},
   "source": [
    "### import all names"
   ]
  },
  {
   "cell_type": "code",
   "execution_count": 10,
   "id": "db3cfcb3",
   "metadata": {},
   "outputs": [
    {
     "name": "stdout",
     "output_type": "stream",
     "text": [
      "The value of pi is 3.141592653589793\n",
      "Radius:  31.41592653589793\n",
      "1.6094379124341003\n"
     ]
    }
   ],
   "source": [
    "from math import*\n",
    "print(\"The value of pi is\",pi)\n",
    "r=5\n",
    "print(\"Radius: \",2*pi*r)\n",
    "print(log(r))"
   ]
  },
  {
   "cell_type": "code",
   "execution_count": null,
   "id": "773fbce9",
   "metadata": {},
   "outputs": [],
   "source": []
  }
 ],
 "metadata": {
  "kernelspec": {
   "display_name": "Python 3 (ipykernel)",
   "language": "python",
   "name": "python3"
  },
  "language_info": {
   "codemirror_mode": {
    "name": "ipython",
    "version": 3
   },
   "file_extension": ".py",
   "mimetype": "text/x-python",
   "name": "python",
   "nbconvert_exporter": "python",
   "pygments_lexer": "ipython3",
   "version": "3.11.4"
  }
 },
 "nbformat": 4,
 "nbformat_minor": 5
}
