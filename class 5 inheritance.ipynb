{
 "cells": [
  {
   "cell_type": "code",
   "execution_count": 5,
   "id": "07c45488",
   "metadata": {},
   "outputs": [
    {
     "name": "stdout",
     "output_type": "stream",
     "text": [
      "Deposited 500. New balance: 1500\n",
      "Withdrew 200. New balance: 1300\n",
      "Account 10000 balance: 1300\n"
     ]
    }
   ],
   "source": [
    "class BankAccount:\n",
    "    def __init__(self, account_number, initial_balance=0):\n",
    "        self.account_number = account_number\n",
    "        self.balance = initial_balance\n",
    "\n",
    "    def deposit(self, amount):\n",
    "            self.balance += amount\n",
    "            return(f\"Deposited {amount}. New balance: {self.balance}\")\n",
    "    def withdraw(self, amount):\n",
    "            self.balance -= amount\n",
    "            return(f\"Withdrew {amount}. New balance: {self.balance}\")\n",
    "\n",
    "    def print_balance(self):\n",
    "            return(f\"Account {self.account_number} balance: {self.balance}\")\n",
    "\n",
    "account1 = BankAccount(\"10000\", 1000)\n",
    "print(account1.deposit(500))\n",
    "print(account1.withdraw(200))\n",
    "print(account1.print_balance())\n"
   ]
  },
  {
   "cell_type": "code",
   "execution_count": 1,
   "id": "afbbe416",
   "metadata": {},
   "outputs": [],
   "source": [
    "### str "
   ]
  },
  {
   "cell_type": "code",
   "execution_count": 10,
   "id": "bf6c2299",
   "metadata": {},
   "outputs": [
    {
     "name": "stdout",
     "output_type": "stream",
     "text": [
      "<__main__.person object at 0x00000173F0AF9150>\n",
      "sandhra\n",
      "24\n"
     ]
    }
   ],
   "source": [
    "class person:\n",
    "    def __init__(self, name, age):\n",
    "        self.name=name\n",
    "        self.age=age\n",
    "p1=person(\"sandhra\",24)\n",
    "print(p1)\n",
    "print(p1.name)\n",
    "print(p1.age)"
   ]
  },
  {
   "cell_type": "code",
   "execution_count": 11,
   "id": "00249e18",
   "metadata": {},
   "outputs": [
    {
     "name": "stdout",
     "output_type": "stream",
     "text": [
      "sandhra - 24\n",
      "sandhra\n",
      "24\n"
     ]
    }
   ],
   "source": [
    "class person:\n",
    "    def __init__(self, name, age):\n",
    "        self.name=name\n",
    "        self.age=age\n",
    "    def __str__(self):\n",
    "        return f\"{self.name} - {self.age}\"\n",
    "p1=person(\"sandhra\",24)\n",
    "print(p1)\n",
    "print(p1.name)\n",
    "print(p1.age)"
   ]
  },
  {
   "cell_type": "markdown",
   "id": "7280e3e8",
   "metadata": {},
   "source": [
    "### inheritance"
   ]
  },
  {
   "cell_type": "code",
   "execution_count": 13,
   "id": "23ba6ed1",
   "metadata": {},
   "outputs": [
    {
     "name": "stdout",
     "output_type": "stream",
     "text": [
      "I can eat\n",
      "my name is  Rahu\n"
     ]
    }
   ],
   "source": [
    "class Animal:\n",
    "    name=\"\"\n",
    "    def eat(self):\n",
    "        print(\"I can eat\")\n",
    "    \n",
    "class Dog(Animal):\n",
    "    def display(self):\n",
    "        print(\"my name is \",self.name)\n",
    "labrador=Dog()\n",
    "labrador.name=\"Rahu\"\n",
    "labrador.eat()\n",
    "labrador.display()"
   ]
  },
  {
   "cell_type": "code",
   "execution_count": 2,
   "id": "bd69ecb4",
   "metadata": {},
   "outputs": [
    {
     "name": "stdout",
     "output_type": "stream",
     "text": [
      "Enter side 1 : 2\n",
      "Enter side 2 : 4\n",
      "Enter side 3 : 2\n",
      "side 1 is 2.0\n",
      "side 2 is 4.0\n",
      "side 3 is 2.0\n",
      "The area of the triangle is 0.00\n",
      "Enter side 1 : 2\n",
      "Enter side 2 : 3\n",
      "Enter side 3 : 4\n",
      "Enter side 4 : 5\n",
      "side 1 is 2.0\n",
      "side 2 is 3.0\n",
      "side 3 is 4.0\n",
      "side 4 is 5.0\n",
      "The area of the rectangle is 6.000000\n"
     ]
    }
   ],
   "source": [
    "class Polygon:\n",
    "    def __init__(self, no_of_sides):\n",
    "        self.n=no_of_sides\n",
    "        self.sides=[0 for i in range(no_of_sides)]\n",
    "    def inputSides(self):\n",
    "        self.sides=[float(input(\"Enter side \"+str(i+1)+\" : \")) for i in range(self.n)]\n",
    "    def dispSides(self):\n",
    "        for i in range(self.n):\n",
    "            print(\"side\",i+1,\"is\",self.sides[i])\n",
    "            \n",
    "class Triangle(Polygon):\n",
    "    def __init(self):\n",
    "        Polygon.__init__(self,3)\n",
    "    def findArea(self):\n",
    "        a,b,c=self.sides\n",
    "        s=(a+b+c)/2\n",
    "        area=(s*(s-a)*(s-b)*(s-c))**0.5\n",
    "        print(\"The area of the triangle is %0.2f\" %area)\n",
    "t=Triangle(3)\n",
    "t.inputSides()\n",
    "t.dispSides()\n",
    "t.findArea()\n",
    "class rectangle(Polygon):\n",
    "    def __init(self):\n",
    "        Polygon.__init__(self,4)\n",
    "    def findarea(self):\n",
    "        a,b,c,d=self.sides\n",
    "        \n",
    "        area=a*b\n",
    "        print(\"The area of the rectangle is %2f\" %area)\n",
    "r=rectangle(4)\n",
    "r.inputSides()\n",
    "r.dispSides()\n",
    "r.findarea()"
   ]
  },
  {
   "cell_type": "markdown",
   "id": "964d0617",
   "metadata": {},
   "source": [
    "## Polymorphism"
   ]
  },
  {
   "cell_type": "markdown",
   "id": "cf891899",
   "metadata": {},
   "source": [
    "### method over riding"
   ]
  },
  {
   "cell_type": "code",
   "execution_count": 9,
   "id": "c67f4ea8",
   "metadata": {},
   "outputs": [
    {
     "name": "stdout",
     "output_type": "stream",
     "text": [
      "I like to eat bones\n"
     ]
    }
   ],
   "source": [
    "class Animal:\n",
    "    name=\"\"\n",
    "    def eat(self):\n",
    "        print(\"I can eat\")\n",
    "class Dog(Animal):\n",
    "    def eat(self):\n",
    "        print(\"I like to eat bones\")\n",
    "labrador=Dog()\n",
    "labrador.eat()"
   ]
  },
  {
   "cell_type": "code",
   "execution_count": 10,
   "id": "f684e5c4",
   "metadata": {},
   "outputs": [
    {
     "name": "stdout",
     "output_type": "stream",
     "text": [
      "I can eat\n",
      "I like to eat bones\n"
     ]
    }
   ],
   "source": [
    "class Animal:\n",
    "    name=\"\"\n",
    "    def eat(self):\n",
    "        print(\"I can eat\")\n",
    "class Dog(Animal):\n",
    "    def eat(self):\n",
    "        super().eat()\n",
    "        print(\"I like to eat bones\")\n",
    "labrador=Dog()\n",
    "labrador.eat()"
   ]
  },
  {
   "cell_type": "markdown",
   "id": "748eced9",
   "metadata": {},
   "source": [
    "### multiple inheritance"
   ]
  },
  {
   "cell_type": "code",
   "execution_count": 11,
   "id": "74ac1513",
   "metadata": {},
   "outputs": [
    {
     "name": "stdout",
     "output_type": "stream",
     "text": [
      "mammals can give direct birth.\n",
      "winged animals can flap.\n"
     ]
    }
   ],
   "source": [
    "class Mammal:\n",
    "    def mammal_info(self):\n",
    "        print(\"mammals can give direct birth.\")\n",
    "class WingedAnimal:\n",
    "    def winged_animal_info(self):\n",
    "        print(\"winged animals can flap.\")\n",
    "class Bat(Mammal,WingedAnimal):\n",
    "    pass\n",
    "b1=Bat()\n",
    "b1.mammal_info()\n",
    "b1.winged_animal_info()"
   ]
  },
  {
   "cell_type": "markdown",
   "id": "b15cdadf",
   "metadata": {},
   "source": [
    "### multilevel inheritance"
   ]
  },
  {
   "cell_type": "code",
   "execution_count": 2,
   "id": "06b68b70",
   "metadata": {},
   "outputs": [
    {
     "name": "stdout",
     "output_type": "stream",
     "text": [
      "fido says: woof!\n",
      "whiskers says: meow!\n",
      "baldy says: screech!\n"
     ]
    }
   ],
   "source": [
    "class animal:\n",
    "    def __init__(self, name):\n",
    "        self.name=name\n",
    "    def speak(self):\n",
    "        pass\n",
    "class mammal(animal):\n",
    "    def give_birth(self):\n",
    "        pass\n",
    "class dog(mammal):\n",
    "    def speak(self):\n",
    "        return \"woof!\"\n",
    "class cat(mammal):\n",
    "    def speak(self):\n",
    "        return \"meow!\"\n",
    "class bird(animal):\n",
    "    def fly(self):\n",
    "        pass\n",
    "class eagle(bird):\n",
    "    def speak(self):\n",
    "        return \"screech!\"\n",
    "# creating instances\n",
    "Dog=dog(\"fido\")\n",
    "Cat=cat(\"whiskers\")\n",
    "Eagle=eagle(\"baldy\")\n",
    "# accessing methods\n",
    "print(f\"{Dog.name} says: {Dog.speak()}\")\n",
    "print(f\"{Cat.name} says: {Cat.speak()}\")\n",
    "print(f\"{Eagle.name} says: {Eagle.speak()}\")"
   ]
  },
  {
   "cell_type": "markdown",
   "id": "ddcec51c",
   "metadata": {},
   "source": [
    "### data abstraction"
   ]
  },
  {
   "cell_type": "code",
   "execution_count": 3,
   "id": "4f290139",
   "metadata": {},
   "outputs": [
    {
     "name": "stdout",
     "output_type": "stream",
     "text": [
      "Area: 78.5\n",
      "Area: 24\n"
     ]
    }
   ],
   "source": [
    "from abc import ABC, abstractmethod\n",
    "class Shape(ABC):\n",
    "    @abstractmethod\n",
    "    def area(self):\n",
    "        pass\n",
    "class Circle(Shape):\n",
    "    def __init__(self, radius):\n",
    "        self.radius=radius\n",
    "    def area(self):\n",
    "        return 3.14 * self.radius * self.radius\n",
    "class Rectangle(Shape):\n",
    "    def __init__(self, width,height):\n",
    "        self.width=width\n",
    "        self.height=height\n",
    "    def area(self):\n",
    "        return self.width * self.height\n",
    "circle=Circle(5)\n",
    "rectangle=Rectangle(4,6)\n",
    "shapes=[circle, rectangle]\n",
    "for shape in shapes:\n",
    "    print(f\"Area: {shape.area()}\")"
   ]
  },
  {
   "cell_type": "code",
   "execution_count": null,
   "id": "c264e6e7",
   "metadata": {},
   "outputs": [],
   "source": []
  }
 ],
 "metadata": {
  "kernelspec": {
   "display_name": "Python 3 (ipykernel)",
   "language": "python",
   "name": "python3"
  },
  "language_info": {
   "codemirror_mode": {
    "name": "ipython",
    "version": 3
   },
   "file_extension": ".py",
   "mimetype": "text/x-python",
   "name": "python",
   "nbconvert_exporter": "python",
   "pygments_lexer": "ipython3",
   "version": "3.11.4"
  }
 },
 "nbformat": 4,
 "nbformat_minor": 5
}
