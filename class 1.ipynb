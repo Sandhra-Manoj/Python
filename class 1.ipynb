{
 "cells": [
  {
   "cell_type": "code",
   "execution_count": 7,
   "id": "6c811a71",
   "metadata": {},
   "outputs": [
    {
     "name": "stdout",
     "output_type": "stream",
     "text": [
      "HELLO\n",
      "WORLD\n"
     ]
    }
   ],
   "source": [
    "print(\"HELLO\")\n",
    "print(\"WORLD\")"
   ]
  },
  {
   "cell_type": "code",
   "execution_count": 3,
   "id": "bafb84ce",
   "metadata": {},
   "outputs": [
    {
     "name": "stdout",
     "output_type": "stream",
     "text": [
      "1 SANDHRA True\n",
      "1.5\n",
      "(1+2j)\n"
     ]
    }
   ],
   "source": [
    "x = 1\n",
    "y = \"SANDHRA\"\n",
    "z = True\n",
    "var1 = 1.5\n",
    "_num1 = 1+2j\n",
    "print(x,y,z)\n",
    "print(var1)\n",
    "print(_num1)"
   ]
  },
  {
   "cell_type": "code",
   "execution_count": 16,
   "id": "d8a46bc0",
   "metadata": {},
   "outputs": [
    {
     "name": "stdout",
     "output_type": "stream",
     "text": [
      "55\n"
     ]
    }
   ],
   "source": [
    "num1 = 5\n",
    "num2 = 50\n",
    "print(num1+num2)"
   ]
  },
  {
   "cell_type": "code",
   "execution_count": 17,
   "id": "bdf61540",
   "metadata": {},
   "outputs": [
    {
     "name": "stdout",
     "output_type": "stream",
     "text": [
      "55\n"
     ]
    }
   ],
   "source": [
    "num3 = num1+num2\n",
    "print(num3)"
   ]
  },
  {
   "cell_type": "code",
   "execution_count": 18,
   "id": "d8dc116f",
   "metadata": {},
   "outputs": [
    {
     "name": "stdout",
     "output_type": "stream",
     "text": [
      "5 50 55\n"
     ]
    }
   ],
   "source": [
    "print(num1,num2,num3)"
   ]
  },
  {
   "cell_type": "code",
   "execution_count": 20,
   "id": "73b34731",
   "metadata": {},
   "outputs": [
    {
     "name": "stdout",
     "output_type": "stream",
     "text": [
      "2 2.5 hello\n"
     ]
    }
   ],
   "source": [
    "x,y,z = 2,2.5,\"hello\"\n",
    "print(x,y,z)"
   ]
  },
  {
   "cell_type": "code",
   "execution_count": 21,
   "id": "f820680e",
   "metadata": {},
   "outputs": [
    {
     "name": "stdout",
     "output_type": "stream",
     "text": [
      "hello hello hello\n"
     ]
    }
   ],
   "source": [
    "x=y=z=\"hello\"\n",
    "print(x,y,z)"
   ]
  },
  {
   "cell_type": "code",
   "execution_count": 8,
   "id": "92c17776",
   "metadata": {},
   "outputs": [
    {
     "name": "stdout",
     "output_type": "stream",
     "text": [
      "sandhra\n"
     ]
    }
   ],
   "source": [
    "# This is a  single comment\n",
    "print(\"sandhra\")"
   ]
  },
  {
   "cell_type": "code",
   "execution_count": 5,
   "id": "79b925d0",
   "metadata": {},
   "outputs": [
    {
     "name": "stdout",
     "output_type": "stream",
     "text": [
      "This is a comment\n",
      "multi line comment\n",
      "this is a comment\n",
      "\n"
     ]
    }
   ],
   "source": [
    "x=\"\"\"This is a comment\n",
    "multi line comment\n",
    "this is a comment\n",
    "\"\"\"\n",
    "print(x)"
   ]
  },
  {
   "cell_type": "code",
   "execution_count": 10,
   "id": "7153b957",
   "metadata": {},
   "outputs": [
    {
     "name": "stdout",
     "output_type": "stream",
     "text": [
      "5 hello\n"
     ]
    }
   ],
   "source": [
    "x=5\n",
    "y=\"hello\"\n",
    "print(x,y)"
   ]
  },
  {
   "cell_type": "markdown",
   "id": "a72cf107",
   "metadata": {},
   "source": [
    "## function type"
   ]
  },
  {
   "cell_type": "code",
   "execution_count": 20,
   "id": "4e8d7530",
   "metadata": {},
   "outputs": [
    {
     "name": "stdout",
     "output_type": "stream",
     "text": [
      "<class 'int'>\n",
      "<class 'str'>\n",
      "<class 'list'>\n"
     ]
    }
   ],
   "source": [
    "x=5\n",
    "y=\"hello\"\n",
    "z=[1,2,3]\n",
    "print(type(x))\n",
    "print(type(y))\n",
    "print(type(z))"
   ]
  },
  {
   "cell_type": "code",
   "execution_count": 13,
   "id": "a1ec8bc9",
   "metadata": {},
   "outputs": [
    {
     "name": "stdout",
     "output_type": "stream",
     "text": [
      "<class 'str'>\n",
      "<class 'int'>\n"
     ]
    }
   ],
   "source": [
    "num_str=\"10\"\n",
    "print(type(num_str))\n",
    "\n",
    "num_int =int(num_str) # num_int will be an integer 10\n",
    "print(type(num_int))\n"
   ]
  },
  {
   "cell_type": "code",
   "execution_count": 18,
   "id": "24320423",
   "metadata": {},
   "outputs": [
    {
     "name": "stdout",
     "output_type": "stream",
     "text": [
      "<class 'str'>\n",
      "<class 'float'>\n"
     ]
    }
   ],
   "source": [
    "num_str=\"10.5\"\n",
    "print(type(num_str))\n",
    "\n",
    "num_float=float(num_str) # num_float will be a float 10.5\n",
    "print(type(num_float))"
   ]
  },
  {
   "cell_type": "code",
   "execution_count": 17,
   "id": "4a9f35cd",
   "metadata": {},
   "outputs": [
    {
     "name": "stdout",
     "output_type": "stream",
     "text": [
      "<class 'list'>\n",
      "<class 'tuple'>\n"
     ]
    }
   ],
   "source": [
    "my_list=[1,2,3]\n",
    "print(type(my_list))\n",
    "\n",
    "my_tuple=tuple(my_list) # my_tuple will be a (1,2,3)\n",
    "print(type(my_tuple))"
   ]
  },
  {
   "cell_type": "code",
   "execution_count": 1,
   "id": "2dc2dee6",
   "metadata": {},
   "outputs": [
    {
     "name": "stdout",
     "output_type": "stream",
     "text": [
      "Enter your name:sandhra\n",
      "Name: sandhra\n"
     ]
    }
   ],
   "source": [
    "# user input\n",
    "Name = input(\"Enter your name:\")\n",
    "\n",
    "print(\"Name: \" + Name)"
   ]
  },
  {
   "cell_type": "code",
   "execution_count": 3,
   "id": "e287452d",
   "metadata": {},
   "outputs": [
    {
     "name": "stdout",
     "output_type": "stream",
     "text": [
      "Enter your first number: 11\n",
      "Enter your second number: 12\n",
      "The addition result is:  1112\n"
     ]
    }
   ],
   "source": [
    "x=input(\"Enter your first number: \")\n",
    "y=input(\"Enter your second number: \")\n",
    "\n",
    "print(\"The addition result is: \" ,x+y)"
   ]
  },
  {
   "cell_type": "code",
   "execution_count": 5,
   "id": "4241d74a",
   "metadata": {},
   "outputs": [
    {
     "name": "stdout",
     "output_type": "stream",
     "text": [
      "Enter your first number: 1.0\n",
      "Enter your second number: 2\n",
      "The addition result is:  3.0\n"
     ]
    }
   ],
   "source": [
    "x= float(input(\"Enter your first number: \"))\n",
    "y= int(input(\"Enter your second number: \"))\n",
    "\n",
    "print(\"The addition result is: \" ,x+y)"
   ]
  },
  {
   "cell_type": "markdown",
   "id": "28556597",
   "metadata": {},
   "source": [
    "# String\n",
    "### paragraph"
   ]
  },
  {
   "cell_type": "code",
   "execution_count": 7,
   "id": "1e5829ff",
   "metadata": {},
   "outputs": [
    {
     "name": "stdout",
     "output_type": "stream",
     "text": [
      "sandhrakmanoj\n",
      "kalluvettukuzhiyil\n",
      "perinthalmanna\n"
     ]
    }
   ],
   "source": [
    "a =\"\"\"sandhrakmanoj\n",
    "kalluvettukuzhiyil\n",
    "perinthalmanna\"\"\"\n",
    "print(a)\n"
   ]
  },
  {
   "cell_type": "markdown",
   "id": "d630b75a",
   "metadata": {},
   "source": [
    "### Length"
   ]
  },
  {
   "cell_type": "code",
   "execution_count": 9,
   "id": "a4279801",
   "metadata": {},
   "outputs": [
    {
     "name": "stdout",
     "output_type": "stream",
     "text": [
      "7\n"
     ]
    }
   ],
   "source": [
    "my_string =\"Sandhra\"\n",
    "length = len(my_string)\n",
    "\n",
    "print(length)"
   ]
  },
  {
   "cell_type": "markdown",
   "id": "d73451a3",
   "metadata": {},
   "source": [
    "### String indexing"
   ]
  },
  {
   "cell_type": "code",
   "execution_count": 11,
   "id": "9f840eba",
   "metadata": {},
   "outputs": [
    {
     "name": "stdout",
     "output_type": "stream",
     "text": [
      "S\n"
     ]
    }
   ],
   "source": [
    "my_string =\"Sandhra\"\n",
    "first_char = my_string[0]\n",
    "print(first_char)"
   ]
  },
  {
   "cell_type": "code",
   "execution_count": 29,
   "id": "258479eb",
   "metadata": {},
   "outputs": [
    {
     "name": "stdout",
     "output_type": "stream",
     "text": [
      "manoj\n"
     ]
    }
   ],
   "source": [
    "my_string =\"sandhra manoj\"\n",
    "slice_char=my_string[8:13]\n",
    "print(slice_char)"
   ]
  },
  {
   "cell_type": "code",
   "execution_count": 33,
   "id": "fa46c393",
   "metadata": {},
   "outputs": [
    {
     "name": "stdout",
     "output_type": "stream",
     "text": [
      "k\n"
     ]
    }
   ],
   "source": [
    "my_string =\"sandhrak\"\n",
    "last_char=my_string[-1]\n",
    "print(last_char)"
   ]
  },
  {
   "cell_type": "code",
   "execution_count": 25,
   "id": "39ab0b4c",
   "metadata": {},
   "outputs": [
    {
     "name": "stdout",
     "output_type": "stream",
     "text": [
      "sandhr\n"
     ]
    }
   ],
   "source": [
    "my_string =\"sandhra\"\n",
    "start_omitted_char=my_string[:6]\n",
    "print(start_omitted_char)"
   ]
  },
  {
   "cell_type": "code",
   "execution_count": 26,
   "id": "6b4750f5",
   "metadata": {},
   "outputs": [
    {
     "name": "stdout",
     "output_type": "stream",
     "text": [
      "ndhra\n"
     ]
    }
   ],
   "source": [
    "my_string =\"sandhra\"\n",
    "end_omitted_char=my_string[2:]\n",
    "print(end_omitted_char)"
   ]
  },
  {
   "cell_type": "code",
   "execution_count": 27,
   "id": "dbbc91e5",
   "metadata": {},
   "outputs": [
    {
     "name": "stdout",
     "output_type": "stream",
     "text": [
      "sh\n"
     ]
    }
   ],
   "source": [
    "my_string =\"sandhra\"\n",
    "select_char=my_string[0:5:4]\n",
    "print(select_char)"
   ]
  },
  {
   "cell_type": "code",
   "execution_count": 36,
   "id": "66073977",
   "metadata": {},
   "outputs": [
    {
     "name": "stdout",
     "output_type": "stream",
     "text": [
      "ARHDNAS\n"
     ]
    }
   ],
   "source": [
    "my_string =\"SANDHRA\"\n",
    "reverse_char=my_string[::-1]\n",
    "print(reverse_char)"
   ]
  },
  {
   "cell_type": "markdown",
   "id": "d9952e0e",
   "metadata": {},
   "source": [
    "### Concat"
   ]
  },
  {
   "cell_type": "code",
   "execution_count": 37,
   "id": "952a502b",
   "metadata": {},
   "outputs": [
    {
     "name": "stdout",
     "output_type": "stream",
     "text": [
      "sandhramanoj\n"
     ]
    }
   ],
   "source": [
    "x=\"sandhra\"\n",
    "y=\"manoj\"\n",
    "z=x+y\n",
    "print(z)"
   ]
  },
  {
   "cell_type": "code",
   "execution_count": 39,
   "id": "987b625a",
   "metadata": {},
   "outputs": [
    {
     "name": "stdout",
     "output_type": "stream",
     "text": [
      "sandhra manoj\n"
     ]
    }
   ],
   "source": [
    "x=\"sandhra\"\n",
    "y=\"manoj\"\n",
    "z=x+ \" \"+y\n",
    "print(z)"
   ]
  },
  {
   "cell_type": "code",
   "execution_count": 43,
   "id": "38be0f77",
   "metadata": {},
   "outputs": [
    {
     "name": "stdout",
     "output_type": "stream",
     "text": [
      "sandhra manoj !!!!!!!!!!\n"
     ]
    }
   ],
   "source": [
    "z= x+\" \"+y+\" \"+('!'*10)\n",
    "print(z)"
   ]
  },
  {
   "cell_type": "markdown",
   "id": "ef62ca11",
   "metadata": {},
   "source": [
    "### string methods"
   ]
  },
  {
   "cell_type": "code",
   "execution_count": 45,
   "id": "8657d394",
   "metadata": {},
   "outputs": [
    {
     "name": "stdout",
     "output_type": "stream",
     "text": [
      "SANDHRA\n"
     ]
    }
   ],
   "source": [
    "a= \"sandhra\"\n",
    "print(a.upper()) # conerted uppercase"
   ]
  },
  {
   "cell_type": "code",
   "execution_count": 46,
   "id": "5c9631d6",
   "metadata": {},
   "outputs": [
    {
     "name": "stdout",
     "output_type": "stream",
     "text": [
      "sandhra\n"
     ]
    }
   ],
   "source": [
    "a=\"SANDHRA\"\n",
    "print(a.lower()) # converted lowercase"
   ]
  },
  {
   "cell_type": "code",
   "execution_count": 48,
   "id": "be018fc2",
   "metadata": {},
   "outputs": [
    {
     "name": "stdout",
     "output_type": "stream",
     "text": [
      "sandhra\n"
     ]
    }
   ],
   "source": [
    "a=\"      sandhra     \"\n",
    "print(a.strip()) # removes white spacing(end nd start)"
   ]
  },
  {
   "cell_type": "code",
   "execution_count": 49,
   "id": "8a37be34",
   "metadata": {},
   "outputs": [
    {
     "name": "stdout",
     "output_type": "stream",
     "text": [
      "True\n",
      "True\n",
      "True\n"
     ]
    }
   ],
   "source": [
    "alpha_check =\"sandhra\".isalpha()\n",
    "print(alpha_check)\n",
    "\n",
    "digit_check =\"123\".isdigit()\n",
    "print(digit_check)\n",
    "\n",
    "alnum_check =\"sandhrakmanoj99\".isalnum()\n",
    "print(alnum_check)"
   ]
  },
  {
   "cell_type": "code",
   "execution_count": 51,
   "id": "91d5f175",
   "metadata": {},
   "outputs": [
    {
     "name": "stdout",
     "output_type": "stream",
     "text": [
      "['apple', 'banana', 'orange']\n",
      "apple-banana-orange\n"
     ]
    }
   ],
   "source": [
    "string=\"apple,banana,orange\"\n",
    "fruits=string.split(\",\")\n",
    "print(fruits)\n",
    "\n",
    "joined_string=\"-\".join(fruits)\n",
    "print(joined_string)"
   ]
  },
  {
   "cell_type": "code",
   "execution_count": 52,
   "id": "68395e0e",
   "metadata": {},
   "outputs": [
    {
     "name": "stdout",
     "output_type": "stream",
     "text": [
      "hi world\n"
     ]
    }
   ],
   "source": [
    "mystring=\"hello world\"\n",
    "new_string=mystring.replace(\"hello\",\"hi\")\n",
    "print(new_string)"
   ]
  },
  {
   "cell_type": "markdown",
   "id": "13b342f6",
   "metadata": {},
   "source": [
    "### formating"
   ]
  },
  {
   "cell_type": "code",
   "execution_count": 55,
   "id": "c85cc6ef",
   "metadata": {},
   "outputs": [
    {
     "name": "stdout",
     "output_type": "stream",
     "text": [
      "my name is SANDHRA and i am 24 years old\n"
     ]
    }
   ],
   "source": [
    "name=\"SANDHRA\"\n",
    "age=24\n",
    "formating_string=\"my name is %s and i am %d years old\" %(name, age)\n",
    "print(formating_string)"
   ]
  },
  {
   "cell_type": "code",
   "execution_count": 57,
   "id": "aeff3920",
   "metadata": {},
   "outputs": [
    {
     "name": "stdout",
     "output_type": "stream",
     "text": [
      "my name is SANDHRA and i am 24 years old\n"
     ]
    }
   ],
   "source": [
    "name=\"SANDHRA\"\n",
    "age=24\n",
    "formating_string= f\"my name is {name} and i am {age} years old\"\n",
    "print(formating_string)"
   ]
  },
  {
   "cell_type": "code",
   "execution_count": 58,
   "id": "03f4629a",
   "metadata": {},
   "outputs": [
    {
     "name": "stdout",
     "output_type": "stream",
     "text": [
      "my name is SANDHRA and i am 24 years old\n"
     ]
    }
   ],
   "source": [
    "name=\"SANDHRA\"\n",
    "age=24\n",
    "formating_string=\"my name is {} and i am {} years old\" .format(name, age)\n",
    "print(formating_string)"
   ]
  },
  {
   "cell_type": "code",
   "execution_count": 63,
   "id": "9c40b6b9",
   "metadata": {},
   "outputs": [
    {
     "name": "stdout",
     "output_type": "stream",
     "text": [
      "The pi value is: 3.142\n"
     ]
    }
   ],
   "source": [
    "pi= 3.141592653559\n",
    "formatted_pi =\"The pi value is: {:0.3f}\".format(pi)\n",
    "print(formatted_pi)"
   ]
  },
  {
   "cell_type": "markdown",
   "id": "2e09a030",
   "metadata": {},
   "source": [
    "## boolean"
   ]
  },
  {
   "cell_type": "markdown",
   "id": "25fd8921",
   "metadata": {},
   "source": [
    "### Arithemetic operator"
   ]
  },
  {
   "cell_type": "code",
   "execution_count": 7,
   "id": "fc260491",
   "metadata": {},
   "outputs": [
    {
     "name": "stdout",
     "output_type": "stream",
     "text": [
      "add :  15\n",
      "sub :  5\n",
      "mul :  50\n",
      "div :  2.0\n",
      "modulus :  0\n",
      "exponentiation :  100000\n",
      "floor_division :  2\n"
     ]
    }
   ],
   "source": [
    "x=10\n",
    "y=5\n",
    "\n",
    "add= x+y\n",
    "sub=x-y\n",
    "mul=x*y\n",
    "div=x/y\n",
    "modulus=x%y\n",
    "exponentiation = x**y\n",
    "floor_division = x//y\n",
    "\n",
    "print(\"add : \",add)\n",
    "print(\"sub : \",sub)\n",
    "print(\"mul : \",mul)\n",
    "print(\"div : \",div)\n",
    "print(\"modulus : \",modulus)\n",
    "print(\"exponentiation : \",exponentiation)\n",
    "print(\"floor_division : \",floor_division)\n"
   ]
  },
  {
   "cell_type": "code",
   "execution_count": 3,
   "id": "9972a742",
   "metadata": {},
   "outputs": [
    {
     "name": "stdout",
     "output_type": "stream",
     "text": [
      "True\n",
      "False\n",
      "True\n",
      "False\n",
      "True\n",
      "False\n"
     ]
    }
   ],
   "source": [
    "x=[\"apple\", \"banana\"]\n",
    "y=[\"apple\", \"banana\"]\n",
    "z=x\n",
    "print(x is z)\n",
    "print(x is y)\n",
    "print(x == y)\n",
    "print(x is not z)\n",
    "print(x is not y)\n",
    "print(x != y)"
   ]
  },
  {
   "cell_type": "markdown",
   "id": "8fa051c1",
   "metadata": {},
   "source": [
    "### Membership operator"
   ]
  },
  {
   "cell_type": "code",
   "execution_count": 8,
   "id": "8d99992f",
   "metadata": {},
   "outputs": [
    {
     "name": "stdout",
     "output_type": "stream",
     "text": [
      "True\n"
     ]
    }
   ],
   "source": [
    "x=[\"apple\", \"banana\"]\n",
    "print(\"banana\" in x)"
   ]
  },
  {
   "cell_type": "code",
   "execution_count": 9,
   "id": "b9caaa95",
   "metadata": {},
   "outputs": [
    {
     "name": "stdout",
     "output_type": "stream",
     "text": [
      "True\n"
     ]
    }
   ],
   "source": [
    "x=[\"apple\", \"banana\"]\n",
    "print(\"pineapple\" not in x)"
   ]
  },
  {
   "cell_type": "markdown",
   "id": "9428dac5",
   "metadata": {},
   "source": [
    "## List"
   ]
  },
  {
   "cell_type": "code",
   "execution_count": 10,
   "id": "24481d00",
   "metadata": {},
   "outputs": [
    {
     "name": "stdout",
     "output_type": "stream",
     "text": [
      "1\n",
      "2\n",
      "10\n"
     ]
    }
   ],
   "source": [
    "numbers=[1,2,3,4,5,6,7,8,9,10]\n",
    "first_element=numbers[0]\n",
    "second_element=numbers[1]\n",
    "last_element=numbers[-1]\n",
    "\n",
    "print(first_element)\n",
    "print(second_element)\n",
    "print(last_element)"
   ]
  },
  {
   "cell_type": "code",
   "execution_count": 11,
   "id": "c4726c5d",
   "metadata": {},
   "outputs": [
    {
     "name": "stdout",
     "output_type": "stream",
     "text": [
      "[3, 4, 5]\n"
     ]
    }
   ],
   "source": [
    "print(numbers[2:5])\n"
   ]
  },
  {
   "cell_type": "code",
   "execution_count": 12,
   "id": "72ce1fb5",
   "metadata": {},
   "outputs": [
    {
     "name": "stdout",
     "output_type": "stream",
     "text": [
      "10\n"
     ]
    }
   ],
   "source": [
    "print(len(numbers))"
   ]
  },
  {
   "cell_type": "markdown",
   "id": "2ebe8c33",
   "metadata": {},
   "source": [
    "### Adding element"
   ]
  },
  {
   "cell_type": "code",
   "execution_count": 13,
   "id": "689ad754",
   "metadata": {},
   "outputs": [
    {
     "name": "stdout",
     "output_type": "stream",
     "text": [
      "['apple', 'banana', 'cherry']\n"
     ]
    }
   ],
   "source": [
    "fruits=[\"apple\",\"banana\"]\n",
    "fruits.append(\"cherry\")\n",
    "print(fruits)"
   ]
  },
  {
   "cell_type": "code",
   "execution_count": 14,
   "id": "babfc4fd",
   "metadata": {},
   "outputs": [
    {
     "name": "stdout",
     "output_type": "stream",
     "text": [
      "['apple', 'orange', 'banana', 'cherry']\n"
     ]
    }
   ],
   "source": [
    "fruits.insert(1,\"orange\")\n",
    "print(fruits)"
   ]
  },
  {
   "cell_type": "code",
   "execution_count": 19,
   "id": "2afb92d9",
   "metadata": {},
   "outputs": [
    {
     "name": "stdout",
     "output_type": "stream",
     "text": [
      "['apple', 'banana', 'cherry', 'grapes']\n"
     ]
    }
   ],
   "source": [
    "fruits=[\"apple\",\"banana\"]\n",
    "more_fruits=[\"cherry\", \"grapes\"]\n",
    "fruits.extend(more_fruits)\n",
    "print(fruits)"
   ]
  },
  {
   "cell_type": "markdown",
   "id": "3ecf0b89",
   "metadata": {},
   "source": [
    "### Changing item value"
   ]
  },
  {
   "cell_type": "code",
   "execution_count": 20,
   "id": "e83d2841",
   "metadata": {},
   "outputs": [
    {
     "name": "stdout",
     "output_type": "stream",
     "text": [
      "['apple', 'melon', 'cherry', 'grapes']\n"
     ]
    }
   ],
   "source": [
    "fruits=[\"apple\",\"banana\",\"cherry\",\"grapes\"]\n",
    "fruits[1]=\"melon\"\n",
    "\n",
    "print(fruits)"
   ]
  },
  {
   "cell_type": "code",
   "execution_count": 21,
   "id": "3f42261f",
   "metadata": {},
   "outputs": [
    {
     "name": "stdout",
     "output_type": "stream",
     "text": [
      "['apple', 'papaya', 'kiwi', 'grapes']\n"
     ]
    }
   ],
   "source": [
    "fruits[1:3]=[\"papaya\", \"kiwi\"]\n",
    "print(fruits)"
   ]
  },
  {
   "cell_type": "markdown",
   "id": "f90b40b0",
   "metadata": {},
   "source": [
    "### Remove"
   ]
  },
  {
   "cell_type": "code",
   "execution_count": 22,
   "id": "19ed4056",
   "metadata": {},
   "outputs": [
    {
     "name": "stdout",
     "output_type": "stream",
     "text": [
      "['apple', 'cherry', 'banana']\n"
     ]
    }
   ],
   "source": [
    "fruits=[\"apple\",\"banana\",\"cherry\",\"banana\"]\n",
    "fruits.remove(\"banana\")\n",
    "print(fruits)"
   ]
  },
  {
   "cell_type": "code",
   "execution_count": 23,
   "id": "236928f5",
   "metadata": {},
   "outputs": [
    {
     "name": "stdout",
     "output_type": "stream",
     "text": [
      "['apple', 'banana', 'cherry']\n"
     ]
    }
   ],
   "source": [
    "fruits=[\"apple\",\"banana\",\"cherry\",\"mango\"]\n",
    "remove_fruit =fruits.pop()\n",
    "print(fruits)"
   ]
  },
  {
   "cell_type": "code",
   "execution_count": 24,
   "id": "a4069d7b",
   "metadata": {},
   "outputs": [
    {
     "name": "stdout",
     "output_type": "stream",
     "text": [
      "[]\n"
     ]
    }
   ],
   "source": [
    "fruits=[\"apple\",\"banana\",\"cherry\",\"mango\"]\n",
    "fruits.clear()\n",
    "print(fruits)"
   ]
  },
  {
   "cell_type": "code",
   "execution_count": 25,
   "id": "1c0984ea",
   "metadata": {},
   "outputs": [
    {
     "name": "stdout",
     "output_type": "stream",
     "text": [
      "['banana', 'cherry', 'mango']\n"
     ]
    }
   ],
   "source": [
    "my_list=[\"apple\",\"banana\",\"cherry\",\"mango\"]\n",
    "del my_list[0]\n",
    "print(my_list)"
   ]
  },
  {
   "cell_type": "markdown",
   "id": "c6862290",
   "metadata": {},
   "source": [
    "### reversing \n"
   ]
  },
  {
   "cell_type": "code",
   "execution_count": 26,
   "id": "705de02e",
   "metadata": {},
   "outputs": [
    {
     "name": "stdout",
     "output_type": "stream",
     "text": [
      "[5, 4, 3, 2, 1]\n"
     ]
    }
   ],
   "source": [
    "numbers=[1,2,3,4,5]\n",
    "numbers.reverse()\n",
    "print(numbers)"
   ]
  },
  {
   "cell_type": "markdown",
   "id": "2593c018",
   "metadata": {},
   "source": [
    "### sort"
   ]
  },
  {
   "cell_type": "code",
   "execution_count": 2,
   "id": "6ca6c088",
   "metadata": {},
   "outputs": [
    {
     "name": "stdout",
     "output_type": "stream",
     "text": [
      "[1, 2, 3, 6, 5]\n"
     ]
    }
   ],
   "source": [
    "numbers=[1,2,3,6,5]\n",
    "print(numbers)"
   ]
  },
  {
   "cell_type": "code",
   "execution_count": 5,
   "id": "e1e4dad4",
   "metadata": {},
   "outputs": [
    {
     "name": "stdout",
     "output_type": "stream",
     "text": [
      "[6, 5, 3, 2, 1]\n"
     ]
    }
   ],
   "source": [
    "numbers.sort(reverse = True)\n",
    "print(numbers)"
   ]
  },
  {
   "cell_type": "markdown",
   "id": "05ea46cf",
   "metadata": {},
   "source": [
    "### nested list"
   ]
  },
  {
   "cell_type": "code",
   "execution_count": 47,
   "id": "6513c311",
   "metadata": {},
   "outputs": [
    {
     "name": "stdout",
     "output_type": "stream",
     "text": [
      "[[1, 2, 3], [4, 5, 6], [7, 8, 9]]\n"
     ]
    }
   ],
   "source": [
    "nested_list=[[1,2,3],[4,5,6],[7,8,9]]\n",
    "print(nested_list)\n"
   ]
  },
  {
   "cell_type": "markdown",
   "id": "fa0ac05b",
   "metadata": {},
   "source": [
    "### count"
   ]
  },
  {
   "cell_type": "code",
   "execution_count": 4,
   "id": "a6d0b672",
   "metadata": {},
   "outputs": [
    {
     "name": "stdout",
     "output_type": "stream",
     "text": [
      "3\n"
     ]
    }
   ],
   "source": [
    "numbers=[1,2,3,4,5,2,2,3,4]\n",
    "count=numbers.count(2)\n",
    "print(count)"
   ]
  },
  {
   "cell_type": "markdown",
   "id": "61349b9d",
   "metadata": {},
   "source": [
    "### max, min, sum"
   ]
  },
  {
   "cell_type": "code",
   "execution_count": 33,
   "id": "9180108d",
   "metadata": {},
   "outputs": [
    {
     "name": "stdout",
     "output_type": "stream",
     "text": [
      "5\n",
      "1\n",
      "15\n"
     ]
    }
   ],
   "source": [
    "numbers =[1,2,3,4,5]\n",
    "print(max(numbers))\n",
    "print(min(numbers))\n",
    "print(sum(numbers))"
   ]
  },
  {
   "cell_type": "code",
   "execution_count": 6,
   "id": "d6f29f9b",
   "metadata": {},
   "outputs": [
    {
     "name": "stdout",
     "output_type": "stream",
     "text": [
      "[10, 2, 3, 4, 5, 6, 7, 8, 9, 1]\n"
     ]
    }
   ],
   "source": [
    "num=[1,2,3,4,5,6,7,8,9,10]\n",
    "n=len(num)\n",
    "a=num[0]\n",
    "num[0]=num[n-1]\n",
    "num[n-1]=a\n",
    "print(num)"
   ]
  },
  {
   "cell_type": "markdown",
   "id": "52e015f4",
   "metadata": {},
   "source": [
    "## TUPLE"
   ]
  },
  {
   "cell_type": "code",
   "execution_count": 3,
   "id": "d9b146de",
   "metadata": {},
   "outputs": [
    {
     "name": "stdout",
     "output_type": "stream",
     "text": [
      "('apple', 'kiwi', 'cherry')\n"
     ]
    }
   ],
   "source": [
    "x = (\"apple\",\"banana\",\"cherry\")\n",
    "y= list(x)\n",
    "y[1]=\"kiwi\"\n",
    "x=tuple(y)\n",
    "print(x)"
   ]
  },
  {
   "cell_type": "markdown",
   "id": "2c4b1558",
   "metadata": {},
   "source": [
    "### Add items"
   ]
  },
  {
   "cell_type": "code",
   "execution_count": 2,
   "id": "b9745ec4",
   "metadata": {},
   "outputs": [
    {
     "name": "stdout",
     "output_type": "stream",
     "text": [
      "('apple', 'banana', 'cherry', 'orange')\n"
     ]
    }
   ],
   "source": [
    "my_tuple=(\"apple\",\"banana\",\"cherry\")\n",
    "y=list(my_tuple)\n",
    "y.append(\"orange\")\n",
    "my_tuple=tuple(y)\n",
    "\n",
    "print(my_tuple)"
   ]
  },
  {
   "cell_type": "code",
   "execution_count": 8,
   "id": "99baf8a6",
   "metadata": {},
   "outputs": [
    {
     "name": "stdout",
     "output_type": "stream",
     "text": [
      "('apple', 'banana', 'cherry', 'orange')\n"
     ]
    }
   ],
   "source": [
    "my_tuple=(\"apple\",\"banana\",\"cherry\")\n",
    "y=(\"orange\",)\n",
    "my_tuple+=y\n",
    "print(my_tuple)"
   ]
  },
  {
   "cell_type": "markdown",
   "id": "0279b3fe",
   "metadata": {},
   "source": [
    "### unpack"
   ]
  },
  {
   "cell_type": "code",
   "execution_count": 9,
   "id": "c625f2dc",
   "metadata": {},
   "outputs": [
    {
     "name": "stdout",
     "output_type": "stream",
     "text": [
      "apple\n",
      "banana\n",
      "cherry\n"
     ]
    }
   ],
   "source": [
    "fruits=(\"apple\",\"banana\",\"cherry\")\n",
    "x,y,z=fruits\n",
    "print(x)\n",
    "print(y)\n",
    "print(z)"
   ]
  },
  {
   "cell_type": "code",
   "execution_count": 12,
   "id": "49065af2",
   "metadata": {},
   "outputs": [
    {
     "name": "stdout",
     "output_type": "stream",
     "text": [
      "apple\n",
      "['banana', 'cherrymango', 'kiwi']\n",
      "melon\n"
     ]
    }
   ],
   "source": [
    "fruits=(\"apple\",\"banana\",\"cherry\"\"mango\",\"kiwi\",\"melon\")\n",
    "x,*y,z=fruits\n",
    "print(x)\n",
    "print(y)\n",
    "print(z)"
   ]
  },
  {
   "cell_type": "code",
   "execution_count": 2,
   "id": "49204d03",
   "metadata": {},
   "outputs": [
    {
     "name": "stdout",
     "output_type": "stream",
     "text": [
      "apple\n",
      "banana\n",
      "['cherry', 'mango', 'kiwi']\n",
      "melon\n"
     ]
    }
   ],
   "source": [
    "fruits=(\"apple\",\"banana\",\"cherry\",\"mango\",\"kiwi\",\"melon\")\n",
    "x,y,*z,p=fruits\n",
    "print(x)\n",
    "print(y)\n",
    "print(z)\n",
    "print(p)"
   ]
  },
  {
   "cell_type": "markdown",
   "id": "66f0a156",
   "metadata": {},
   "source": [
    "## SET\n",
    "### unique elements\n",
    " #### sets automatically eliminate duplicate.if you to add a duplicate elemenets.it won't be included in the set"
   ]
  },
  {
   "cell_type": "code",
   "execution_count": 13,
   "id": "909efc86",
   "metadata": {},
   "outputs": [
    {
     "name": "stdout",
     "output_type": "stream",
     "text": [
      "{1, 2, 3}\n"
     ]
    }
   ],
   "source": [
    "numbers={1,2,3,2,1}\n",
    "print(numbers)"
   ]
  },
  {
   "cell_type": "code",
   "execution_count": 16,
   "id": "4f52bd7d",
   "metadata": {},
   "outputs": [
    {
     "name": "stdout",
     "output_type": "stream",
     "text": [
      "{1, 2, 3, 4, 5}\n",
      "{'melon', 'banana', 'apple', 'kiwi', 'cherrymango'}\n",
      "{1, 'apple', 1.3}\n"
     ]
    }
   ],
   "source": [
    "numbers={1,2,3,4,5}\n",
    "fruits={\"apple\",\"banana\",\"cherry\"\"mango\",\"kiwi\",\"melon\"}\n",
    "mixed={1,1.3,\"apple\",True}\n",
    "print(numbers)\n",
    "print(fruits)\n",
    "print(mixed)"
   ]
  },
  {
   "cell_type": "markdown",
   "id": "dc75a635",
   "metadata": {},
   "source": [
    "### add items"
   ]
  },
  {
   "cell_type": "code",
   "execution_count": 18,
   "id": "c17eed80",
   "metadata": {},
   "outputs": [
    {
     "name": "stdout",
     "output_type": "stream",
     "text": [
      "{'cherry', 'apple', 'orange', 'banana'}\n"
     ]
    }
   ],
   "source": [
    "set1={\"apple\",\"banana\",\"cherry\"}\n",
    "set1.add(\"orange\")\n",
    "print(set1)"
   ]
  },
  {
   "cell_type": "code",
   "execution_count": 19,
   "id": "b624c731",
   "metadata": {},
   "outputs": [
    {
     "name": "stdout",
     "output_type": "stream",
     "text": [
      "{'cherry', 'melon', 'mango', 'banana', 'apple', 'kiwi'}\n"
     ]
    }
   ],
   "source": [
    "set1={\"apple\",\"banana\",\"cherry\"}\n",
    "set2={\"mango\",\"kiwi\",\"melon\"}\n",
    "set1.update(set2)\n",
    "print(set1)"
   ]
  },
  {
   "cell_type": "markdown",
   "id": "2b283754",
   "metadata": {},
   "source": [
    "### remove,clear,discard"
   ]
  },
  {
   "cell_type": "code",
   "execution_count": 20,
   "id": "8ebd524b",
   "metadata": {},
   "outputs": [
    {
     "name": "stdout",
     "output_type": "stream",
     "text": [
      "{'cherry', 'apple'}\n"
     ]
    }
   ],
   "source": [
    "remove={\"apple\",\"banana\",\"cherry\"}\n",
    "remove.remove(\"banana\")\n",
    "print(remove)"
   ]
  },
  {
   "cell_type": "code",
   "execution_count": 21,
   "id": "713c992e",
   "metadata": {},
   "outputs": [
    {
     "name": "stdout",
     "output_type": "stream",
     "text": [
      "{'cherry', 'apple'}\n"
     ]
    }
   ],
   "source": [
    "discard={\"apple\",\"banana\",\"cherry\"}\n",
    "discard.discard(\"banana\")\n",
    "print(discard)"
   ]
  },
  {
   "cell_type": "code",
   "execution_count": 22,
   "id": "a50a660d",
   "metadata": {},
   "outputs": [
    {
     "name": "stdout",
     "output_type": "stream",
     "text": [
      "cherry\n",
      "{'apple', 'banana'}\n"
     ]
    }
   ],
   "source": [
    "set1={\"apple\",\"banana\",\"cherry\"}\n",
    "x=set1.pop()\n",
    "print(x)\n",
    "print(set1)"
   ]
  },
  {
   "cell_type": "code",
   "execution_count": 23,
   "id": "1e0789ed",
   "metadata": {},
   "outputs": [
    {
     "name": "stdout",
     "output_type": "stream",
     "text": [
      "set()\n"
     ]
    }
   ],
   "source": [
    "set1={\"apple\",\"banana\",\"cherry\"}\n",
    "set1.clear()\n",
    "print(set1)"
   ]
  },
  {
   "cell_type": "markdown",
   "id": "8e21a830",
   "metadata": {},
   "source": [
    "### set operations"
   ]
  },
  {
   "cell_type": "code",
   "execution_count": 24,
   "id": "8a0888df",
   "metadata": {},
   "outputs": [
    {
     "name": "stdout",
     "output_type": "stream",
     "text": [
      "{1, 2, 3, 4, 5, 6}\n"
     ]
    }
   ],
   "source": [
    "set1={1,2,3}\n",
    "set2={4,5,6}\n",
    "union_set=set1.union(set2)\n",
    "print(union_set)"
   ]
  },
  {
   "cell_type": "code",
   "execution_count": 26,
   "id": "76a7a4e8",
   "metadata": {},
   "outputs": [
    {
     "name": "stdout",
     "output_type": "stream",
     "text": [
      "{3}\n"
     ]
    }
   ],
   "source": [
    "set1={1,2,3}\n",
    "set2={3,4,5}\n",
    "intersection_set=set1.intersection(set2)\n",
    "print(intersection_set)"
   ]
  },
  {
   "cell_type": "code",
   "execution_count": 29,
   "id": "c6bf4849",
   "metadata": {},
   "outputs": [
    {
     "name": "stdout",
     "output_type": "stream",
     "text": [
      "{1, 2}\n"
     ]
    }
   ],
   "source": [
    "set1={1,2,3}\n",
    "set2={3,4,5}\n",
    "diff_set=set1.difference(set2)\n",
    "print(diff_set)"
   ]
  },
  {
   "cell_type": "code",
   "execution_count": 30,
   "id": "20118172",
   "metadata": {},
   "outputs": [
    {
     "name": "stdout",
     "output_type": "stream",
     "text": [
      "{1, 2, 4, 5}\n"
     ]
    }
   ],
   "source": [
    "set1={1,2,3}\n",
    "set2={3,4,5}\n",
    "symmetric_diff_set=set1.symmetric_difference(set2)\n",
    "print(symmetric_diff_set)"
   ]
  },
  {
   "cell_type": "markdown",
   "id": "e3542e71",
   "metadata": {},
   "source": [
    "## IF"
   ]
  },
  {
   "cell_type": "code",
   "execution_count": 3,
   "id": "867c7195",
   "metadata": {},
   "outputs": [
    {
     "name": "stdout",
     "output_type": "stream",
     "text": [
      "b is greater than a\n",
      "condition checked\n"
     ]
    }
   ],
   "source": [
    "a=208\n",
    "b=209\n",
    "\n",
    "if (b>a):\n",
    "    print(\"b is greater than a\")\n",
    "    \n",
    "print(\"condition checked\")    "
   ]
  },
  {
   "cell_type": "code",
   "execution_count": 4,
   "id": "9ee6e402",
   "metadata": {},
   "outputs": [
    {
     "name": "stdout",
     "output_type": "stream",
     "text": [
      "b is greater than a\n",
      "condition checked\n"
     ]
    }
   ],
   "source": [
    "a=208\n",
    "b=209\n",
    "\n",
    "if (b>a or b==a):\n",
    "    print(\"b is greater than a\")\n",
    "    print(\"condition checked\") "
   ]
  },
  {
   "cell_type": "code",
   "execution_count": 5,
   "id": "ff778c4c",
   "metadata": {},
   "outputs": [
    {
     "name": "stdout",
     "output_type": "stream",
     "text": [
      "b is greater than a\n"
     ]
    }
   ],
   "source": [
    "a=200\n",
    "b=330\n",
    "if b>a:\n",
    "    print(\"b is greater than a\")\n",
    "else:\n",
    "    print(\"a is greater than b\")"
   ]
  },
  {
   "cell_type": "code",
   "execution_count": 7,
   "id": "75f3bbd0",
   "metadata": {},
   "outputs": [
    {
     "name": "stdout",
     "output_type": "stream",
     "text": [
      "string\n"
     ]
    }
   ],
   "source": [
    "x=5\n",
    "y=\"hello\"\n",
    "typ = type(y)\n",
    "\n",
    "if typ==int:\n",
    "    print(\"number\")\n",
    "else:\n",
    "    print(\"string\")\n",
    "    "
   ]
  },
  {
   "cell_type": "code",
   "execution_count": 2,
   "id": "fb093120",
   "metadata": {},
   "outputs": [
    {
     "name": "stdout",
     "output_type": "stream",
     "text": [
      "First number : 3\n",
      "Second number : 3\n",
      "a and b are equal\n"
     ]
    }
   ],
   "source": [
    "a=int(input(\"First number : \"))\n",
    "b=int(input(\"Second number : \"))\n",
    "\n",
    "if b>a:\n",
    "    print(\"b is greater than a\")\n",
    "elif a>b:\n",
    "    print(\"a is greater than b\")\n",
    "else:\n",
    "    print(\"a and b are equal\")\n",
    "    "
   ]
  },
  {
   "cell_type": "markdown",
   "id": "b40557e4",
   "metadata": {},
   "source": [
    "### short hand if,if-else"
   ]
  },
  {
   "cell_type": "code",
   "execution_count": 9,
   "id": "2bd71b06",
   "metadata": {},
   "outputs": [
    {
     "name": "stdout",
     "output_type": "stream",
     "text": [
      "a is greater than b\n"
     ]
    }
   ],
   "source": [
    "a=200\n",
    "b=33\n",
    "if a>b: print(\"a is greater than b\")"
   ]
  },
  {
   "cell_type": "code",
   "execution_count": 10,
   "id": "e327b1ce",
   "metadata": {},
   "outputs": [
    {
     "name": "stdout",
     "output_type": "stream",
     "text": [
      "B\n"
     ]
    }
   ],
   "source": [
    "a=2\n",
    "b=330\n",
    "print(\"A\") if a>b else print(\"B\")"
   ]
  },
  {
   "cell_type": "markdown",
   "id": "ced0fcc9",
   "metadata": {},
   "source": [
    "### nested if"
   ]
  },
  {
   "cell_type": "code",
   "execution_count": 11,
   "id": "b2947bb9",
   "metadata": {},
   "outputs": [
    {
     "name": "stdout",
     "output_type": "stream",
     "text": [
      "Above ten, \n",
      "and also above 20 \n"
     ]
    }
   ],
   "source": [
    "x=41\n",
    "\n",
    "if x > 10:\n",
    "    print(\"Above ten, \")\n",
    "    if x>20:\n",
    "        print(\"and also above 20 \")\n",
    "    else:\n",
    "        print(\"but not above 20 \")\n",
    "else:\n",
    "    print(\"finished\")\n",
    "    "
   ]
  },
  {
   "cell_type": "markdown",
   "id": "59010892",
   "metadata": {},
   "source": [
    "### The pass stmt\n",
    "#### If statements cannot be empty ,but if you for some reason have an if stmt with no content, put in the pass stmt to avoid getting an error"
   ]
  },
  {
   "cell_type": "code",
   "execution_count": 12,
   "id": "d797d25e",
   "metadata": {},
   "outputs": [
    {
     "name": "stdout",
     "output_type": "stream",
     "text": [
      "stage 1\n",
      "stage 2\n",
      "222\n",
      "stage 3\n"
     ]
    }
   ],
   "source": [
    "a=33\n",
    "b=220\n",
    "print(\"stage 1\")\n",
    "if b>a:\n",
    "    pass\n",
    "print(\"stage 2\")\n",
    "print(b+2)\n",
    "print(\"stage 3\")"
   ]
  },
  {
   "cell_type": "code",
   "execution_count": null,
   "id": "2ccf7540",
   "metadata": {},
   "outputs": [],
   "source": [
    "a=int(input(\"enter a number: \"))\n",
    "if a>=0:\n",
    "    print(\"it is positive\")\n",
    "else:\n",
    "    print(\"it is negative\")\n"
   ]
  },
  {
   "cell_type": "code",
   "execution_count": 4,
   "id": "d9258958",
   "metadata": {},
   "outputs": [
    {
     "name": "stdout",
     "output_type": "stream",
     "text": [
      "Enter your age: 54\n",
      "Enter your age: 32\n",
      "Enter your age: 11\n",
      "x is elder.\n",
      "y is youngest\n",
      "z is younger\n"
     ]
    }
   ],
   "source": [
    "x=int(input(\"Enter your age: \"))\n",
    "y=int(input(\"Enter your age: \"))\n",
    "z=int(input(\"Enter your age: \"))\n",
    "if x>y and x>z:\n",
    "    print(\"x is elder.\")\n",
    "elif x<y and x<z:\n",
    "    print(\"x is younger\")\n",
    "else:\n",
    "    print(\"x is youngest\")\n",
    "if y>x and y>z:\n",
    "    print(\"y is elder.\")\n",
    "elif y<x and y<z:\n",
    "    print(\"y is younger\")\n",
    "else:\n",
    "    print(\"y is youngest\")\n",
    "if z>x and z>y:\n",
    "    print(\"z is elder.\")\n",
    "elif z<y and x>z:\n",
    "    print(\"z is younger\")\n",
    "else:\n",
    "    print(\"z is youngest\")\n",
    "    \n",
    "    "
   ]
  },
  {
   "cell_type": "code",
   "execution_count": 12,
   "id": "aeab9e30",
   "metadata": {},
   "outputs": [
    {
     "name": "stdout",
     "output_type": "stream",
     "text": [
      "Enter a alphabet: G\n",
      "not a vowels\n"
     ]
    }
   ],
   "source": [
    "a=(input(\"Enter a alphabet: \"))\n",
    "if a==\"a\" or a==\"e\" or a==\"i\" or a==\"o\" or a==\"u\":\n",
    "    print(\"it is vowels\")\n",
    "elif a==\"A\" or a==\"E\" or a==\"I\" or a==\"O\" or a==\"U\":\n",
    "    print(\"it is vowels\")\n",
    "else:\n",
    "    print(\"not a vowels\")"
   ]
  },
  {
   "cell_type": "markdown",
   "id": "ac25a938",
   "metadata": {},
   "source": [
    "## while loop\n",
    " #### while condition:\n",
    " \n",
    "      # body of while loop"
   ]
  },
  {
   "cell_type": "code",
   "execution_count": 8,
   "id": "1ceac6bf",
   "metadata": {},
   "outputs": [
    {
     "name": "stdout",
     "output_type": "stream",
     "text": [
      "1\n",
      "2\n",
      "3\n",
      "4\n",
      "5\n",
      "finish\n"
     ]
    }
   ],
   "source": [
    "i=1\n",
    "n=5\n",
    "while i<=n:\n",
    "    print(i)\n",
    "    i=i+1\n",
    "    \n",
    "print(\"finish\")"
   ]
  },
  {
   "cell_type": "code",
   "execution_count": 12,
   "id": "7d2d4a61",
   "metadata": {},
   "outputs": [
    {
     "name": "stdout",
     "output_type": "stream",
     "text": [
      "total: 5050\n"
     ]
    }
   ],
   "source": [
    "i=1\n",
    "n=100\n",
    "total=0\n",
    "while i<=n:\n",
    "    total=total+i\n",
    "    i=i+1\n",
    "print(\"total:\", total)"
   ]
  },
  {
   "cell_type": "code",
   "execution_count": 13,
   "id": "3d231a9a",
   "metadata": {},
   "outputs": [
    {
     "name": "stdout",
     "output_type": "stream",
     "text": [
      "Enter a number: 234\n",
      "The reversed number is:  432\n"
     ]
    }
   ],
   "source": [
    "num=int(input(\"Enter a number: \"))\n",
    "rev =0\n",
    "while (num !=0):\n",
    "    rem=num%10\n",
    "    rev=rev*10+rem\n",
    "    num=num//10\n",
    "print(\"The reversed number is: \",rev)"
   ]
  },
  {
   "cell_type": "code",
   "execution_count": 1,
   "id": "d35af3b3",
   "metadata": {},
   "outputs": [
    {
     "name": "stdout",
     "output_type": "stream",
     "text": [
      "10\n",
      "9\n",
      "8\n",
      "7\n",
      "6\n",
      "5\n",
      "4\n",
      "3\n",
      "2\n",
      "1\n",
      "finish\n"
     ]
    }
   ],
   "source": [
    "i=10\n",
    "n=1\n",
    "while i>=n:\n",
    "    print(i)\n",
    "    i=i-1\n",
    "    \n",
    "print(\"finish\")"
   ]
  },
  {
   "cell_type": "markdown",
   "id": "520ba8a0",
   "metadata": {},
   "source": [
    "### list"
   ]
  },
  {
   "cell_type": "code",
   "execution_count": 5,
   "id": "9815ff33",
   "metadata": {},
   "outputs": [
    {
     "name": "stdout",
     "output_type": "stream",
     "text": [
      "2\n",
      "5\n",
      "3\n",
      "8\n",
      "1\n"
     ]
    }
   ],
   "source": [
    "my_list=[2,5,3,8,1]\n",
    "i=0\n",
    "while i<len(my_list):\n",
    "    print(my_list[i])\n",
    "    i=i+1"
   ]
  },
  {
   "cell_type": "code",
   "execution_count": 6,
   "id": "8433d12d",
   "metadata": {},
   "outputs": [
    {
     "name": "stdout",
     "output_type": "stream",
     "text": [
      "[4, 16, 36, 64, 100]\n"
     ]
    }
   ],
   "source": [
    "my_list=[2,4,6,8,10]\n",
    "i=0\n",
    "list2=[]\n",
    "while i<len(my_list):\n",
    "    x=my_list[i]*my_list[i]\n",
    "    list2.append(x)\n",
    "    i=i+1\n",
    "print(list2)"
   ]
  },
  {
   "cell_type": "code",
   "execution_count": 2,
   "id": "5e951c3e",
   "metadata": {},
   "outputs": [
    {
     "name": "stdout",
     "output_type": "stream",
     "text": [
      "Enter a number: 1\n",
      "Enter a number: 2\n",
      "Enter a number: 3\n",
      "Enter a number: 4\n",
      "Enter a number: 0\n",
      "total= 10\n"
     ]
    }
   ],
   "source": [
    "# program to calculate the sum of numbers\n",
    "#until the user enters 0\n",
    "total = 0\n",
    "num=int(input(\"Enter a number: \"))\n",
    "# add numbers until num is 0\n",
    "while num !=0:\n",
    "    total+=num #total =total+number\n",
    "    #take integer input again\n",
    "    num=int(input(\"Enter a number: \"))\n",
    "print(\"total=\",total)"
   ]
  },
  {
   "cell_type": "code",
   "execution_count": 12,
   "id": "fdf529c2",
   "metadata": {},
   "outputs": [
    {
     "name": "stdout",
     "output_type": "stream",
     "text": [
      "Enter a number: 5\n",
      "1\n",
      "2\n",
      "6\n",
      "24\n",
      "120\n",
      "factorial of  5 is 120\n"
     ]
    }
   ],
   "source": [
    "# factorial \n",
    "num=int(input(\"Enter a number: \"))\n",
    "fac=1\n",
    "i=1\n",
    "while i<=num:\n",
    "    fac=fac*i\n",
    "    print(fac)\n",
    "    i=i+1\n",
    "print(\"factorial of \", num,\"is\",fac)"
   ]
  },
  {
   "cell_type": "code",
   "execution_count": 2,
   "id": "29812698",
   "metadata": {},
   "outputs": [
    {
     "name": "stdout",
     "output_type": "stream",
     "text": [
      "1\n",
      "2\n",
      "3\n",
      "4\n",
      "16\n"
     ]
    }
   ],
   "source": [
    "#break stmt\n",
    "i=1\n",
    "while i<6:\n",
    "    print(i)\n",
    "    if i==4:\n",
    "        print(i*i)\n",
    "        break\n",
    "    i+=1"
   ]
  },
  {
   "cell_type": "code",
   "execution_count": 1,
   "id": "c1c69eb1",
   "metadata": {},
   "outputs": [
    {
     "name": "stdout",
     "output_type": "stream",
     "text": [
      "1\n",
      "2\n",
      "4\n",
      "5\n",
      "6\n"
     ]
    }
   ],
   "source": [
    "# continue stmt\n",
    "i=0\n",
    "while i<6:\n",
    "    i+=1\n",
    "    if i==3:\n",
    "        continue\n",
    "    print(i)"
   ]
  },
  {
   "cell_type": "markdown",
   "id": "11fbe131",
   "metadata": {},
   "source": [
    "### for loop"
   ]
  },
  {
   "cell_type": "code",
   "execution_count": 3,
   "id": "add52562",
   "metadata": {},
   "outputs": [
    {
     "name": "stdout",
     "output_type": "stream",
     "text": [
      "b\n",
      "a\n",
      "n\n",
      "a\n",
      "n\n",
      "a\n"
     ]
    }
   ],
   "source": [
    "for x in \"banana\":\n",
    "    print(x)"
   ]
  },
  {
   "cell_type": "code",
   "execution_count": 5,
   "id": "8ad36a33",
   "metadata": {},
   "outputs": [
    {
     "name": "stdout",
     "output_type": "stream",
     "text": [
      "apple\n"
     ]
    }
   ],
   "source": [
    "fruits=[\"apple\",\"banana\",\"cherry\"]\n",
    "for x in fruits:\n",
    "    #print(x)\n",
    "    if x== \"banana\":\n",
    "        break\n",
    "    print(x)"
   ]
  },
  {
   "cell_type": "code",
   "execution_count": 6,
   "id": "c26b46aa",
   "metadata": {},
   "outputs": [
    {
     "name": "stdout",
     "output_type": "stream",
     "text": [
      "apple\n",
      "cherry\n"
     ]
    }
   ],
   "source": [
    "fruits=[\"apple\",\"banana\",\"cherry\"]\n",
    "for x in fruits:\n",
    "    #print(x)\n",
    "    if x== \"banana\":\n",
    "        continue\n",
    "    print(x)"
   ]
  },
  {
   "cell_type": "markdown",
   "id": "828485b0",
   "metadata": {},
   "source": [
    "### range"
   ]
  },
  {
   "cell_type": "code",
   "execution_count": 9,
   "id": "608b300c",
   "metadata": {},
   "outputs": [
    {
     "name": "stdout",
     "output_type": "stream",
     "text": [
      "0\n",
      "1\n",
      "2\n",
      "3\n",
      "4\n",
      "5\n",
      "6\n",
      "7\n",
      "8\n",
      "9\n"
     ]
    }
   ],
   "source": [
    "for x in range(10):\n",
    "    print(x)"
   ]
  },
  {
   "cell_type": "code",
   "execution_count": 7,
   "id": "c918b9e9",
   "metadata": {},
   "outputs": [
    {
     "name": "stdout",
     "output_type": "stream",
     "text": [
      "2\n",
      "3\n",
      "4\n",
      "5\n",
      "6\n",
      "7\n",
      "8\n",
      "9\n"
     ]
    }
   ],
   "source": [
    "for x in range(2,10):\n",
    "    print(x)"
   ]
  },
  {
   "cell_type": "code",
   "execution_count": 8,
   "id": "f4ba59ee",
   "metadata": {},
   "outputs": [
    {
     "name": "stdout",
     "output_type": "stream",
     "text": [
      "2\n",
      "4\n",
      "6\n",
      "8\n",
      "10\n",
      "12\n",
      "14\n",
      "16\n",
      "18\n"
     ]
    }
   ],
   "source": [
    "for x in range(2,20,2):\n",
    "    print(x)"
   ]
  },
  {
   "cell_type": "markdown",
   "id": "739a9119",
   "metadata": {},
   "source": [
    "### Nested loops"
   ]
  },
  {
   "cell_type": "code",
   "execution_count": 11,
   "id": "67336ee3",
   "metadata": {},
   "outputs": [
    {
     "name": "stdout",
     "output_type": "stream",
     "text": [
      "red apple\n",
      "red banana\n",
      "red cherry\n",
      "------------------------\n",
      "big apple\n",
      "big banana\n",
      "big cherry\n",
      "------------------------\n",
      "tasty apple\n",
      "tasty banana\n",
      "tasty cherry\n",
      "------------------------\n"
     ]
    }
   ],
   "source": [
    "colors=[\"red\",\"big\",\"tasty\"]\n",
    "fruits=[\"apple\",\"banana\",\"cherry\"]\n",
    "for  x in colors:\n",
    "    for y in fruits:\n",
    "        print(x,y)\n",
    "    print(\"------------------------\")"
   ]
  },
  {
   "cell_type": "code",
   "execution_count": 12,
   "id": "8d7bf8aa",
   "metadata": {},
   "outputs": [
    {
     "name": "stdout",
     "output_type": "stream",
     "text": [
      "The sum of squares is:  4862\n"
     ]
    }
   ],
   "source": [
    "# code to find the sum of squares od each element of the list using for loop\n",
    "# creating the list of numbers\n",
    "numbers=[3,4,23,5,2,65,7,2,1]\n",
    "#initializing a variable that will store the sum\n",
    "sum_num=0\n",
    "# using for loop to iterate over the list\n",
    "for num in numbers:\n",
    "    sqr=num**2\n",
    "    sum_num=sum_num+sqr\n",
    "    #print(sqr)\n",
    "print(\"The sum of squares is: \",sum_num)"
   ]
  },
  {
   "cell_type": "code",
   "execution_count": 1,
   "id": "7593fa85",
   "metadata": {},
   "outputs": [
    {
     "name": "stdout",
     "output_type": "stream",
     "text": [
      "11 It is a prime number\n",
      "13 It is a prime number\n",
      "17 It is a prime number\n",
      "19 It is a prime number\n"
     ]
    }
   ],
   "source": [
    "# searches for prime numbers from 10 through 20.\n",
    "for num in range(10,20):             # to iterate between 10 to 20\n",
    "    for i in range(2,num):           # to iterate on the factors of the numbers\n",
    "        if num%i==0:                 # to determine the first factor\n",
    "            j=num/i                  # to calculate the second factor \n",
    "            # print(\"%d equals %d * %d\" %(num,i,j))\n",
    "            \n",
    "            break  # to move to the next number,the #first FOR\n",
    "    else:             # else part of the loop\n",
    "        print(num,\"It is a prime number\")"
   ]
  },
  {
   "cell_type": "code",
   "execution_count": 17,
   "id": "fed4266b",
   "metadata": {},
   "outputs": [
    {
     "name": "stdout",
     "output_type": "stream",
     "text": [
      "7 x 1 =7 \n",
      "7 x 2 =14 \n",
      "7 x 3 =21 \n",
      "7 x 4 =28 \n",
      "7 x 5 =35 \n",
      "7 x 6 =42 \n",
      "7 x 7 =49 \n",
      "7 x 8 =56 \n",
      "7 x 9 =63 \n",
      "7 x 10 =70 \n"
     ]
    }
   ],
   "source": [
    "n=7\n",
    "for i in range(1,11):\n",
    "    product=n*i\n",
    "    print(\"%d x %d =%d \"%(n,i,product))"
   ]
  },
  {
   "cell_type": "code",
   "execution_count": 18,
   "id": "d0b1f70c",
   "metadata": {},
   "outputs": [
    {
     "name": "stdout",
     "output_type": "stream",
     "text": [
      "1 \n",
      "1 2 \n",
      "1 2 3 \n",
      "1 2 3 4 \n",
      "1 2 3 4 5 \n"
     ]
    }
   ],
   "source": [
    "# decide the row count.(above pattern contains 5 rows)\n",
    "row = 5\n",
    "# strat:1\n",
    "#stop:row+1(range never include stop number in result)\n",
    "# step: 1\n",
    "# run loop 5 times\n",
    "for i in range(1,row +1):\n",
    "    for j in range(1,i+1): # Run inner loop i+1 times\n",
    "        print(j, end=' ')\n",
    "    print(\"\")               #empty line after each row"
   ]
  },
  {
   "cell_type": "code",
   "execution_count": 21,
   "id": "cc3f1803",
   "metadata": {},
   "outputs": [
    {
     "name": "stdout",
     "output_type": "stream",
     "text": [
      "6 5 4 3 2 1 \n",
      "5 4 3 2 1 \n",
      "4 3 2 1 \n",
      "3 2 1 \n",
      "2 1 \n",
      "1 \n",
      "\n"
     ]
    }
   ],
   "source": [
    "n = 6\n",
    "k = 6\n",
    "for i in range(0,n+1):\n",
    "    for j in range(k-i,0,-1):\n",
    "        \n",
    "        print(j, end=' ')\n",
    "    print()"
   ]
  },
  {
   "cell_type": "code",
   "execution_count": 22,
   "id": "7d2bd6b6",
   "metadata": {},
   "outputs": [
    {
     "name": "stdout",
     "output_type": "stream",
     "text": [
      "0 0 0 0 0 0 \n",
      "1 1 1 1 1 \n",
      "2 2 2 2 \n",
      "3 3 3 \n",
      "4 4 \n",
      "5 \n",
      "\n"
     ]
    }
   ],
   "source": [
    "n = 6\n",
    "k = 6\n",
    "for i in range(0,n+1):\n",
    "    for j in range(k-i,0,-1):\n",
    "        \n",
    "        print(i, end=' ')\n",
    "    print()"
   ]
  },
  {
   "cell_type": "code",
   "execution_count": 23,
   "id": "9b09cc08",
   "metadata": {},
   "outputs": [
    {
     "name": "stdout",
     "output_type": "stream",
     "text": [
      "+  \n",
      "+ +  \n",
      "+ + +  \n",
      "+ + + +  \n",
      "+ + + + +  \n",
      "+ + + +  \n",
      "+ + +  \n",
      "+ +  \n",
      "+  \n",
      " \n"
     ]
    }
   ],
   "source": [
    "# single carriage return chracter,\n",
    "# which will move the cursor back to the beginning of\n",
    "# the current line without advancing to the next line.\n",
    "row = 5\n",
    "for i in range(0, row):\n",
    "    for j in range (0,i+1):\n",
    "        print(\"+\", end=\" \")\n",
    "    print(\" \")\n",
    "    \n",
    "for i in range(row, 0,-1):\n",
    "    for j in range (0,i-1):\n",
    "        print(\"+\", end=\" \")\n",
    "    print(\" \")\n",
    "    "
   ]
  },
  {
   "cell_type": "markdown",
   "id": "9176134a",
   "metadata": {},
   "source": [
    "### List comprehention"
   ]
  },
  {
   "cell_type": "code",
   "execution_count": 27,
   "id": "09af8d94",
   "metadata": {},
   "outputs": [
    {
     "name": "stdout",
     "output_type": "stream",
     "text": [
      "['apple', 'banana', 'mango']\n"
     ]
    }
   ],
   "source": [
    "fruits=[\"apple\",\"banana\",\"cherry\",\"kiwi\",\"mango\"]\n",
    "newlist=[]\n",
    "for x in fruits:\n",
    "    if \"a\" in x:\n",
    "        newlist.append(x)\n",
    "print(newlist)"
   ]
  },
  {
   "cell_type": "code",
   "execution_count": 34,
   "id": "83c9ed40",
   "metadata": {},
   "outputs": [
    {
     "name": "stdout",
     "output_type": "stream",
     "text": [
      "['banana', 'cherry', 'kiwi', 'mango']\n"
     ]
    }
   ],
   "source": [
    "newlist=[x for x in fruits if x!= \"apple\"]\n",
    "print(newlist)"
   ]
  },
  {
   "cell_type": "code",
   "execution_count": 26,
   "id": "f240e3b4",
   "metadata": {},
   "outputs": [
    {
     "name": "stdout",
     "output_type": "stream",
     "text": [
      "['apple', 'banana', 'mango']\n"
     ]
    }
   ],
   "source": [
    "fruits=[\"apple\",\"banana\",\"cherry\",\"kiwi\",\"mango\"]\n",
    "newlist=[x for x in fruits if \"a\" in x]\n",
    "print(newlist)"
   ]
  },
  {
   "cell_type": "markdown",
   "id": "2f4c90bc",
   "metadata": {},
   "source": [
    "### The syntax \n",
    "#### newlist=[expression for item in iterable if condition==true]\n",
    "#### The return value is a new list,leaving the old list unchanged"
   ]
  },
  {
   "cell_type": "code",
   "execution_count": 28,
   "id": "abc9e964",
   "metadata": {},
   "outputs": [
    {
     "name": "stdout",
     "output_type": "stream",
     "text": [
      "['apple', 'banana', 'cherry', 'kiwi', 'mango']\n"
     ]
    }
   ],
   "source": [
    "newlist=[x for x in fruits]\n",
    "print(newlist)\n"
   ]
  },
  {
   "cell_type": "code",
   "execution_count": 30,
   "id": "c22df980",
   "metadata": {},
   "outputs": [
    {
     "name": "stdout",
     "output_type": "stream",
     "text": [
      "[0, 1, 4, 9, 16, 25, 36, 49, 64, 81]\n"
     ]
    }
   ],
   "source": [
    "newlist_=[x*x for x in range(10)]\n",
    "print(newlist_)"
   ]
  },
  {
   "cell_type": "code",
   "execution_count": 31,
   "id": "042a11e1",
   "metadata": {},
   "outputs": [
    {
     "name": "stdout",
     "output_type": "stream",
     "text": [
      "['APPLE', 'BANANA', 'CHERRY', 'KIWI', 'MANGO']\n"
     ]
    }
   ],
   "source": [
    "newlist__=[x.upper() for x in fruits]\n",
    "print(newlist__)"
   ]
  },
  {
   "cell_type": "code",
   "execution_count": 35,
   "id": "5782cb8f",
   "metadata": {},
   "outputs": [
    {
     "name": "stdout",
     "output_type": "stream",
     "text": [
      "0 The\n",
      "1 Big\n",
      "2 Bang\n",
      "3 Theory\n"
     ]
    }
   ],
   "source": [
    "for key,value in enumerate([\"The\",\"Big\",\"Bang\",\"Theory\"]):\n",
    "    print(key,value)"
   ]
  },
  {
   "cell_type": "markdown",
   "id": "246b4d96",
   "metadata": {},
   "source": [
    "### Using enumerate():\n",
    "#### enumerate() is used to loop through the containers printing the intex number along with the value present in that particular index."
   ]
  },
  {
   "cell_type": "code",
   "execution_count": 36,
   "id": "dce50fa4",
   "metadata": {},
   "outputs": [
    {
     "name": "stdout",
     "output_type": "stream",
     "text": [
      "<class 'enumerate'>\n",
      "[(0, 'bread'), (1, 'milk'), (2, 'butter')]\n",
      "[(10, 'bread'), (11, 'milk'), (12, 'butter')]\n"
     ]
    }
   ],
   "source": [
    "grocery=[\"bread\",\"milk\",\"butter\"]\n",
    "enumerategrocery=enumerate(grocery)\n",
    "\n",
    "print(type(enumerategrocery))\n",
    "# cinverting to list\n",
    "print(list(enumerategrocery))\n",
    "\n",
    "# changing the default counter\n",
    "enumerategrocery=enumerate(grocery,10)\n",
    "print(list(enumerategrocery))"
   ]
  },
  {
   "cell_type": "markdown",
   "id": "4459ff25",
   "metadata": {},
   "source": [
    "###  using zip()\n",
    "#### zip() is used to combine 2 similar containers(list-list or dict-dict)printing the values sequentially. The loop exists only till the similar containers ends"
   ]
  },
  {
   "cell_type": "code",
   "execution_count": 5,
   "id": "18f85125",
   "metadata": {},
   "outputs": [
    {
     "name": "stdout",
     "output_type": "stream",
     "text": [
      "What is your name? I am apple.\n",
      "What is your color? I am red.\n",
      "What is your shape? I am a circle.\n"
     ]
    }
   ],
   "source": [
    "# initializing list\n",
    "question=[\"name\",\"color\",\"shape\"]\n",
    "answer=[\"apple\",\"red\",\"a circle\"]\n",
    "# using zip() to combine two containers\n",
    "# end print values\n",
    "for question, answer in zip(question, answer):\n",
    "        print(\"What is your {0}? I am {1}.\".format(question, answer))"
   ]
  },
  {
   "cell_type": "markdown",
   "id": "5bc082c0",
   "metadata": {},
   "source": [
    "### using sorted():\n",
    "#### sorted() is used to print the containers in sorted order.it dosen't sort the container but just prints the container in sorted order for 1 instance.The use of set() can be combined to remove duplicate occurrences."
   ]
  },
  {
   "cell_type": "code",
   "execution_count": 42,
   "id": "7aabfffa",
   "metadata": {},
   "outputs": [
    {
     "name": "stdout",
     "output_type": "stream",
     "text": [
      "The list in sorted order is : \n",
      "1 2 2 3 4 6 8 \r\n",
      "The list in sorted order (without duplicates) is : \n",
      "1 2 3 4 6 8 "
     ]
    }
   ],
   "source": [
    "# initializing list\n",
    "list_=[1,2,6,3,2,8,4,]\n",
    "# using sorted() to print the list in sorted order\n",
    "print(\"The list in sorted order is : \")\n",
    "for i in sorted(list_):\n",
    "    print(i, end=\" \")\n",
    "print(\"\\r\")\n",
    "\n",
    "# using sorted() and set() to print the list in sorted order\n",
    "# use of set() removes duplicates.\n",
    "print(\"The list in sorted order (without duplicates) is : \")\n",
    "for i in sorted(set(list_)):\n",
    "    print(i, end=\" \")\n"
   ]
  },
  {
   "cell_type": "markdown",
   "id": "d36de2a9",
   "metadata": {},
   "source": [
    "### using reversed():\n",
    "#### reversed() is used to print the values of the container in the reversed order. it does not reflect any changes to the oringinal list"
   ]
  },
  {
   "cell_type": "code",
   "execution_count": 1,
   "id": "c10b56a4",
   "metadata": {},
   "outputs": [
    {
     "name": "stdout",
     "output_type": "stream",
     "text": [
      "The list in reversed order is: \n",
      "2 1 3 7 5 3 1 "
     ]
    }
   ],
   "source": [
    "# initializing list\n",
    "list_=[1,3,5,7,3,1,2]\n",
    "\n",
    "# using reversed() to print the list in reversed order\n",
    "print(\"The list in reversed order is: \")\n",
    "for i in reversed(list_):\n",
    "    print(i, end=\" \")"
   ]
  },
  {
   "cell_type": "markdown",
   "id": "a41b2c46",
   "metadata": {},
   "source": [
    "### Dictionary\n",
    "#### dictionaries are used to store data values in key:value pairs.\n",
    "#### A dictionary is collection which is orderd*, changeable and do not allow duplicates."
   ]
  },
  {
   "cell_type": "code",
   "execution_count": 6,
   "id": "be768628",
   "metadata": {},
   "outputs": [
    {
     "name": "stdout",
     "output_type": "stream",
     "text": [
      "{'brand': 'ford', 'model': 'mustang', 'year': [1943, 2023]}\n"
     ]
    }
   ],
   "source": [
    "d={\n",
    "    \"brand\": \"ford\",\n",
    "    \"model\":\"mustang\",\n",
    "    \"year\":[1943,2023]\n",
    "}\n",
    "print(d)"
   ]
  },
  {
   "cell_type": "code",
   "execution_count": 7,
   "id": "59cd8692",
   "metadata": {},
   "outputs": [
    {
     "name": "stdout",
     "output_type": "stream",
     "text": [
      "{'brand': 'ford', 'model': 'mustang', 'year': [1943, 2023]}\n"
     ]
    }
   ],
   "source": [
    "mydict={\n",
    "     \"brand\": \"ford\",\n",
    "    \"model\":\"mustang\",\n",
    "    \"year\":1943,\n",
    "    \"year\":1999\n",
    "}\n",
    "print(d)"
   ]
  },
  {
   "cell_type": "markdown",
   "id": "5476cc62",
   "metadata": {},
   "source": [
    "### Accessing items\n",
    "#### you can access the items of a dictionary by referring to its key name, inside square brackets"
   ]
  },
  {
   "cell_type": "code",
   "execution_count": 2,
   "id": "7c2600e7",
   "metadata": {},
   "outputs": [
    {
     "name": "stdout",
     "output_type": "stream",
     "text": [
      "mustang\n"
     ]
    }
   ],
   "source": [
    "#get the value of the \"model\" key\n",
    "mydict={\n",
    "     \"brand\": \"ford\",\n",
    "    \"model\":\"mustang\",\n",
    "    \"year\":1943,\n",
    "    \"year\":1999\n",
    "}\n",
    "x=mydict[\"model\"]\n",
    "print(x)"
   ]
  },
  {
   "cell_type": "code",
   "execution_count": 11,
   "id": "6df3fcd5",
   "metadata": {},
   "outputs": [
    {
     "name": "stdout",
     "output_type": "stream",
     "text": [
      "mustang\n"
     ]
    }
   ],
   "source": [
    "mydict={\n",
    "     \"brand\": \"ford\",\n",
    "    \"model\":\"mustang\",\n",
    "    \"year\":1943,\n",
    "    \"year\":1999\n",
    "}\n",
    "y=mydict.get(\"model\")\n",
    "print(y)"
   ]
  },
  {
   "cell_type": "code",
   "execution_count": 12,
   "id": "bbe14057",
   "metadata": {},
   "outputs": [
    {
     "name": "stdout",
     "output_type": "stream",
     "text": [
      "dict_keys(['brand', 'model', 'year'])\n",
      "dict_values(['ford', 'mustang', 1999])\n",
      "dict_items([('brand', 'ford'), ('model', 'mustang'), ('year', 1999)])\n"
     ]
    }
   ],
   "source": [
    "x=mydict.keys()\n",
    "print(x)\n",
    "\n",
    "y=mydict.values()\n",
    "print(y)\n",
    "\n",
    "z=mydict.items()\n",
    "print(z)\n"
   ]
  },
  {
   "cell_type": "markdown",
   "id": "fe9b368d",
   "metadata": {},
   "source": [
    "### update"
   ]
  },
  {
   "cell_type": "code",
   "execution_count": 13,
   "id": "6c6fb707",
   "metadata": {},
   "outputs": [
    {
     "name": "stdout",
     "output_type": "stream",
     "text": [
      "{'brand': 'ford', 'model': 'mustang', 'year': 2020}\n"
     ]
    }
   ],
   "source": [
    "x={\n",
    "    \"brand\": \"ford\",\n",
    "    \"model\":\"mustang\",\n",
    "    \"year\":1943\n",
    "}\n",
    "x.update({\"year\":2020})\n",
    "print(x)"
   ]
  },
  {
   "cell_type": "markdown",
   "id": "81401509",
   "metadata": {},
   "source": [
    "### adding"
   ]
  },
  {
   "cell_type": "code",
   "execution_count": 14,
   "id": "438e4a18",
   "metadata": {},
   "outputs": [
    {
     "name": "stdout",
     "output_type": "stream",
     "text": [
      "{'brand': 'ford', 'model': 'mustang', 'year': 1943, 'color': 'red'}\n"
     ]
    }
   ],
   "source": [
    "x={\n",
    "    \"brand\": \"ford\",\n",
    "    \"model\":\"mustang\",\n",
    "    \"year\":1943\n",
    "}\n",
    "x[\"color\"]=\"red\"\n",
    "print(x)"
   ]
  },
  {
   "cell_type": "markdown",
   "id": "f9b4f552",
   "metadata": {},
   "source": [
    "### remove"
   ]
  },
  {
   "cell_type": "code",
   "execution_count": 15,
   "id": "6b6a7bc2",
   "metadata": {},
   "outputs": [
    {
     "name": "stdout",
     "output_type": "stream",
     "text": [
      "{'brand': 'ford', 'year': 1943}\n"
     ]
    }
   ],
   "source": [
    "x={\n",
    "    \"brand\": \"ford\",\n",
    "    \"model\":\"mustang\",\n",
    "    \"year\":1943\n",
    "}\n",
    "x.pop(\"model\")\n",
    "print(x)"
   ]
  },
  {
   "cell_type": "code",
   "execution_count": 16,
   "id": "e44e9b8a",
   "metadata": {},
   "outputs": [
    {
     "name": "stdout",
     "output_type": "stream",
     "text": [
      "{'brand': 'ford', 'model': 'mustang'}\n"
     ]
    }
   ],
   "source": [
    "x={\n",
    "    \"brand\": \"ford\",\n",
    "    \"model\":\"mustang\",\n",
    "    \"year\":1943\n",
    "}\n",
    "x.popitem()\n",
    "print(x)"
   ]
  },
  {
   "cell_type": "code",
   "execution_count": 17,
   "id": "82cad70c",
   "metadata": {},
   "outputs": [
    {
     "name": "stdout",
     "output_type": "stream",
     "text": [
      "{}\n"
     ]
    }
   ],
   "source": [
    "x={\n",
    "    \"brand\": \"ford\",\n",
    "    \"model\":\"mustang\",\n",
    "    \"year\":1943\n",
    "}\n",
    "x.clear()\n",
    "print(x)"
   ]
  },
  {
   "cell_type": "code",
   "execution_count": 24,
   "id": "ca09e58b",
   "metadata": {},
   "outputs": [],
   "source": [
    "x={\n",
    "    \"brand\": \"ford\",\n",
    "    \"model\":\"mustang\",\n",
    "    \"year\":1943\n",
    "}\n",
    "del (x)\n"
   ]
  },
  {
   "cell_type": "code",
   "execution_count": 26,
   "id": "60668455",
   "metadata": {},
   "outputs": [
    {
     "name": "stdout",
     "output_type": "stream",
     "text": [
      "brand\n",
      "model\n",
      "year\n"
     ]
    }
   ],
   "source": [
    "#print key\n",
    "xdict={\n",
    "    \"brand\": \"ford\",\n",
    "    \"model\":\"mustang\",\n",
    "    \"year\":1943\n",
    "}\n",
    "\n",
    "for i in xdict:\n",
    "    print(i)"
   ]
  },
  {
   "cell_type": "code",
   "execution_count": 27,
   "id": "7a84a038",
   "metadata": {},
   "outputs": [
    {
     "name": "stdout",
     "output_type": "stream",
     "text": [
      "ford\n",
      "mustang\n",
      "1943\n"
     ]
    }
   ],
   "source": [
    "#print values\n",
    "xdict={\n",
    "    \"brand\": \"ford\",\n",
    "    \"model\":\"mustang\",\n",
    "    \"year\":1943\n",
    "}\n",
    "\n",
    "for i in xdict:\n",
    "    print(xdict[i])"
   ]
  },
  {
   "cell_type": "code",
   "execution_count": 1,
   "id": "562f9c5f",
   "metadata": {},
   "outputs": [
    {
     "name": "stdout",
     "output_type": "stream",
     "text": [
      "brand\n",
      "model\n",
      "year\n"
     ]
    }
   ],
   "source": [
    "dict1={\n",
    "    \"brand\": \"ford\",\n",
    "    \"model\":\"mustang\",\n",
    "    \"year\":1943\n",
    "}\n",
    "for x in dict1.keys():\n",
    "    print(x)"
   ]
  },
  {
   "cell_type": "markdown",
   "id": "75fdbd37",
   "metadata": {},
   "source": [
    "### sorted"
   ]
  },
  {
   "cell_type": "code",
   "execution_count": 30,
   "id": "88180edf",
   "metadata": {},
   "outputs": [
    {
     "name": "stdout",
     "output_type": "stream",
     "text": [
      "banana -> 0.12\n",
      "bread -> 3.2\n",
      "butter -> 5.0\n"
     ]
    }
   ],
   "source": [
    "prices={\n",
    "    'bread':3.2,\n",
    "    'butter':5.0,\n",
    "    'banana':0.12\n",
    "}\n",
    "for k in sorted(prices.keys()):\n",
    "    print(k, '->',prices[k])"
   ]
  },
  {
   "cell_type": "markdown",
   "id": "3a961e1a",
   "metadata": {},
   "source": [
    "### copy"
   ]
  },
  {
   "cell_type": "code",
   "execution_count": 2,
   "id": "6f8dfb9c",
   "metadata": {},
   "outputs": [
    {
     "name": "stdout",
     "output_type": "stream",
     "text": [
      "{'brand': 'ford', 'model': 'mustang', 'year': 1943}\n"
     ]
    }
   ],
   "source": [
    "dict2={\n",
    "    \"brand\": \"ford\",\n",
    "    \"model\":\"mustang\",\n",
    "    \"year\":1943\n",
    "}\n",
    "mydict=dict2.copy()\n",
    "print(mydict)"
   ]
  },
  {
   "cell_type": "markdown",
   "id": "c696f0d0",
   "metadata": {},
   "source": [
    "### nested"
   ]
  },
  {
   "cell_type": "code",
   "execution_count": 6,
   "id": "e12bb4e7",
   "metadata": {},
   "outputs": [
    {
     "name": "stdout",
     "output_type": "stream",
     "text": [
      "{'child1': {'name': 'sandhra', 'year': 1999}, 'child2': {'name': 'sivani', 'year': 2011}, 'child3': {'name': 'gopika', 'year': 2005}}\n"
     ]
    }
   ],
   "source": [
    "myfamily={\n",
    "    \"child1\" :{ \"name\":\"sandhra\",\n",
    "                \"year\":1999},\n",
    "    \n",
    "    \"child2\" :{ \"name\":\"sivani\",\n",
    "                \"year\":2011},\n",
    "    \n",
    "    \"child3\" :{ \"name\":\"gopika\",\n",
    "                \"year\":2005}\n",
    "}\n",
    "print(myfamily)"
   ]
  },
  {
   "cell_type": "markdown",
   "id": "f8ddd693",
   "metadata": {},
   "source": [
    "### task"
   ]
  },
  {
   "cell_type": "code",
   "execution_count": 32,
   "id": "31bc6949",
   "metadata": {},
   "outputs": [
    {
     "name": "stdout",
     "output_type": "stream",
     "text": [
      "dict_keys(['a', 'b', 'c'])\n",
      "dict_values([4, 5, 6])\n"
     ]
    }
   ],
   "source": [
    "dict1={\n",
    "    \"a\":1,\n",
    "    \"b\":2,\n",
    "    \"c\":3\n",
    "}\n",
    "dict2={\n",
    "    \"x\":4,\n",
    "    \"y\":5,\n",
    "    \"z\":6\n",
    "}\n",
    "for i in dict1.keys(),dict2.values():\n",
    "    print(i)"
   ]
  },
  {
   "cell_type": "code",
   "execution_count": 33,
   "id": "0c58dba7",
   "metadata": {},
   "outputs": [
    {
     "name": "stdout",
     "output_type": "stream",
     "text": [
      "a 4\n",
      "b 5\n",
      "c 6\n"
     ]
    }
   ],
   "source": [
    "dict1={\n",
    "    \"a\":1,\n",
    "    \"b\":2,\n",
    "    \"c\":3\n",
    "}\n",
    "dict2={\n",
    "    \"x\":4,\n",
    "    \"y\":5,\n",
    "    \"z\":6\n",
    "}\n",
    "\n",
    "for dict1, dict2 in zip(dict1, dict2.values()):\n",
    "    print(\"{0} {1}\".format(dict1, dict2))"
   ]
  },
  {
   "cell_type": "markdown",
   "id": "4eb4836c",
   "metadata": {},
   "source": [
    "## Files"
   ]
  },
  {
   "cell_type": "markdown",
   "id": "b4879637",
   "metadata": {},
   "source": [
    "## file.path\n",
    "#### A path that specifies all folder starting from the root is an absolute path.\n",
    "#### A path that specifies relative to the current working directory is a relative path"
   ]
  },
  {
   "cell_type": "code",
   "execution_count": 1,
   "id": "e9c614e9",
   "metadata": {},
   "outputs": [
    {
     "name": "stdout",
     "output_type": "stream",
     "text": [
      "D:\\python\\basics\n"
     ]
    }
   ],
   "source": [
    "import os\n",
    "cwd =os.getcwd() #store current working dir \n",
    "print(cwd) #print current working dir"
   ]
  },
  {
   "cell_type": "code",
   "execution_count": 60,
   "id": "c567a25e",
   "metadata": {},
   "outputs": [
    {
     "name": "stdout",
     "output_type": "stream",
     "text": [
      "D:\\painting\n"
     ]
    }
   ],
   "source": [
    "os.chdir(\"D:\\\\painting\") #change dir\n",
    "print(os.getcwd()) # print current working dir"
   ]
  },
  {
   "cell_type": "code",
   "execution_count": 3,
   "id": "bca4dce3",
   "metadata": {},
   "outputs": [
    {
     "name": "stdout",
     "output_type": "stream",
     "text": [
      "D:\\python\\basics\n"
     ]
    }
   ],
   "source": [
    "os.chdir(cwd) # change working dir back to original\n",
    "print(os.getcwd())"
   ]
  },
  {
   "cell_type": "code",
   "execution_count": 4,
   "id": "31909fd2",
   "metadata": {},
   "outputs": [
    {
     "name": "stdout",
     "output_type": "stream",
     "text": [
      "D:\\python\\basics\n"
     ]
    }
   ],
   "source": [
    "print(os.getcwd())"
   ]
  },
  {
   "cell_type": "code",
   "execution_count": 17,
   "id": "951be2b9",
   "metadata": {},
   "outputs": [],
   "source": [
    "os.makedirs(\"code\\\\python\")"
   ]
  },
  {
   "cell_type": "code",
   "execution_count": null,
   "id": "e4724a6f",
   "metadata": {},
   "outputs": [],
   "source": [
    "os.chdir('code\\\\python')"
   ]
  },
  {
   "cell_type": "code",
   "execution_count": 19,
   "id": "dcb17680",
   "metadata": {},
   "outputs": [
    {
     "name": "stdout",
     "output_type": "stream",
     "text": [
      "D:\\python\\basics\\code\\python\n"
     ]
    }
   ],
   "source": [
    "print(os.getcwd())"
   ]
  },
  {
   "cell_type": "code",
   "execution_count": 22,
   "id": "20d3f005",
   "metadata": {},
   "outputs": [
    {
     "name": "stdout",
     "output_type": "stream",
     "text": [
      "D:\\python\\basics\\code\n"
     ]
    }
   ],
   "source": [
    "os.chdir(\"..\")\n",
    "print(os.getcwd())"
   ]
  },
  {
   "cell_type": "code",
   "execution_count": 63,
   "id": "3bec6f25",
   "metadata": {},
   "outputs": [
    {
     "name": "stdout",
     "output_type": "stream",
     "text": [
      "D:\\\n"
     ]
    }
   ],
   "source": [
    "os.chdir(\"..\")\n",
    "print(os.getcwd())"
   ]
  },
  {
   "cell_type": "code",
   "execution_count": 66,
   "id": "ac56aff2",
   "metadata": {},
   "outputs": [],
   "source": [
    "os.removedirs(\"code\\\\python\")"
   ]
  },
  {
   "cell_type": "code",
   "execution_count": 61,
   "id": "26ba71c3",
   "metadata": {},
   "outputs": [
    {
     "ename": "FileNotFoundError",
     "evalue": "[WinError 3] The system cannot find the path specified: 'code\\\\python'",
     "output_type": "error",
     "traceback": [
      "\u001b[1;31m---------------------------------------------------------------------------\u001b[0m",
      "\u001b[1;31mFileNotFoundError\u001b[0m                         Traceback (most recent call last)",
      "Cell \u001b[1;32mIn[61], line 1\u001b[0m\n\u001b[1;32m----> 1\u001b[0m os\u001b[38;5;241m.\u001b[39mchdir(\u001b[38;5;124m\"\u001b[39m\u001b[38;5;124mcode\u001b[39m\u001b[38;5;130;01m\\\\\u001b[39;00m\u001b[38;5;124mpython\u001b[39m\u001b[38;5;124m\"\u001b[39m)\n",
      "\u001b[1;31mFileNotFoundError\u001b[0m: [WinError 3] The system cannot find the path specified: 'code\\\\python'"
     ]
    }
   ],
   "source": [
    "os.chdir(\"code\\\\python\")"
   ]
  },
  {
   "cell_type": "markdown",
   "id": "191b7ca5",
   "metadata": {},
   "source": [
    "## os.path\n",
    "#### os.path.join() function can be used to generate file path that matches the current operating system"
   ]
  },
  {
   "cell_type": "code",
   "execution_count": 26,
   "id": "86b34f73",
   "metadata": {},
   "outputs": [
    {
     "name": "stdout",
     "output_type": "stream",
     "text": [
      "D:\\python\\basics\n"
     ]
    }
   ],
   "source": [
    "import os \n",
    "cwd=os.getcwd()\n",
    "print(cwd)"
   ]
  },
  {
   "cell_type": "code",
   "execution_count": 27,
   "id": "78650607",
   "metadata": {},
   "outputs": [
    {
     "name": "stdout",
     "output_type": "stream",
     "text": [
      "D:\\python\\basics\\code\\python\n"
     ]
    }
   ],
   "source": [
    "path=os.path.join(cwd,\"code\",\"python\")\n",
    "print(path)"
   ]
  },
  {
   "cell_type": "markdown",
   "id": "63ccbd3d",
   "metadata": {},
   "source": [
    "## listing directories"
   ]
  },
  {
   "cell_type": "code",
   "execution_count": 30,
   "id": "c90b8deb",
   "metadata": {},
   "outputs": [
    {
     "name": "stdout",
     "output_type": "stream",
     "text": [
      ".ipynb_checkpoints\n",
      "Dictionary.ipynb\n",
      "ex\n",
      "for loop.ipynb\n",
      "If condition.ipynb\n",
      "list task.ipynb\n",
      "program.ipynb\n",
      "py\n",
      "python code\n",
      "set.ipynb\n",
      "strings task.ipynb\n",
      "try.py\n",
      "tuple.ipynb\n",
      "while loop.ipynb\n"
     ]
    }
   ],
   "source": [
    "file=os.listdir(cwd)\n",
    "for x in file:\n",
    "    print(x)"
   ]
  },
  {
   "cell_type": "markdown",
   "id": "b17c190d",
   "metadata": {},
   "source": [
    "### check for a specific file"
   ]
  },
  {
   "cell_type": "code",
   "execution_count": 35,
   "id": "b1a591a8",
   "metadata": {},
   "outputs": [
    {
     "name": "stdout",
     "output_type": "stream",
     "text": [
      "file exists\n"
     ]
    }
   ],
   "source": [
    "file=\"py\"\n",
    "if os.path.exists(\"py\"):\n",
    "#if os.path.exists(file):\n",
    "    print(\"file exists\")\n",
    "else:\n",
    "    print(\"file does not exists\")"
   ]
  },
  {
   "cell_type": "markdown",
   "id": "374a7538",
   "metadata": {},
   "source": [
    "### checking file or directory"
   ]
  },
  {
   "cell_type": "code",
   "execution_count": 37,
   "id": "d2168ccc",
   "metadata": {},
   "outputs": [
    {
     "name": "stdout",
     "output_type": "stream",
     "text": [
      "it is a directory\n"
     ]
    }
   ],
   "source": [
    "path=\"py\"\n",
    "if os.path.isfile(path):\n",
    "    print(\" it is a file\")\n",
    "elif os.path.isdir(path):\n",
    "    print(\"it is a directory\")\n",
    "else:\n",
    "    print(\"neither \")"
   ]
  },
  {
   "cell_type": "markdown",
   "id": "ea9925c3",
   "metadata": {},
   "source": [
    "### creating files"
   ]
  },
  {
   "cell_type": "code",
   "execution_count": 43,
   "id": "ac8fb8c6",
   "metadata": {},
   "outputs": [],
   "source": [
    "file_name=\"newfile.txt\"\n",
    "f=open(file_name,\"w\")\n",
    "f.write(\"new file created\")\n",
    "f.close()"
   ]
  },
  {
   "cell_type": "code",
   "execution_count": 16,
   "id": "747a027b",
   "metadata": {},
   "outputs": [],
   "source": [
    "with open(\"newfiles.txt\",\"w\") as sa:\n",
    "    sa.write(\"sandhra\\n\")\n",
    "    sa.write(\"manoj\\n\") \n",
    "    sa.write(\"\\n\")\n",
    "    sa.write(\"SANDHRA\\n\")\n",
    "    sa.write(\"MANOJ\")         #'w'=write\n",
    "                              #'a'=append\n",
    "                              #'r'=read"
   ]
  },
  {
   "cell_type": "markdown",
   "id": "09abf5bb",
   "metadata": {},
   "source": [
    "### reading\n",
    "##### there are three steps to reading files in python:\n",
    "#### Call the open() function to receive a file object,\n",
    "#### Call the read() method on the file object to receive file content.\n",
    "#### Call the file by calling the close() method on the file object."
   ]
  },
  {
   "cell_type": "code",
   "execution_count": 51,
   "id": "00a99f85",
   "metadata": {},
   "outputs": [
    {
     "name": "stdout",
     "output_type": "stream",
     "text": [
      "sandhramanojsandhramanoj\n"
     ]
    }
   ],
   "source": [
    "file_path=os.path.join(\"newfiles.txt\")\n",
    "f=open(file_path,\"r\") #open in read mode\n",
    "items=f.read()\n",
    "print(items)\n",
    "f.close()"
   ]
  },
  {
   "cell_type": "code",
   "execution_count": 55,
   "id": "2be5ccf1",
   "metadata": {},
   "outputs": [
    {
     "name": "stdout",
     "output_type": "stream",
     "text": [
      "['sandhramanojsandhramanoj']\n"
     ]
    }
   ],
   "source": [
    "file_path=os.path.join(\"newfiles.txt\")\n",
    "f=open(file_path,\"r\")\n",
    "items=f.readlines()\n",
    "print(items) #print as a list\n",
    "f.close()"
   ]
  },
  {
   "cell_type": "code",
   "execution_count": 2,
   "id": "265eb64e",
   "metadata": {},
   "outputs": [
    {
     "ename": "NameError",
     "evalue": "name 'os' is not defined",
     "output_type": "error",
     "traceback": [
      "\u001b[1;31m---------------------------------------------------------------------------\u001b[0m",
      "\u001b[1;31mNameError\u001b[0m                                 Traceback (most recent call last)",
      "Cell \u001b[1;32mIn[2], line 1\u001b[0m\n\u001b[1;32m----> 1\u001b[0m file_path\u001b[38;5;241m=\u001b[39mos\u001b[38;5;241m.\u001b[39mpath\u001b[38;5;241m.\u001b[39mjoin(\u001b[38;5;124m\"\u001b[39m\u001b[38;5;124mnewfiles.txt\u001b[39m\u001b[38;5;124m\"\u001b[39m)\n\u001b[0;32m      2\u001b[0m f\u001b[38;5;241m=\u001b[39m\u001b[38;5;28mopen\u001b[39m(file_path,\u001b[38;5;124m\"\u001b[39m\u001b[38;5;124mr\u001b[39m\u001b[38;5;124m\"\u001b[39m)\n\u001b[0;32m      3\u001b[0m items\u001b[38;5;241m=\u001b[39mf\u001b[38;5;241m.\u001b[39mreadlines()\n",
      "\u001b[1;31mNameError\u001b[0m: name 'os' is not defined"
     ]
    }
   ],
   "source": [
    "file_path=os.path.join(\"newfiles.txt\")\n",
    "f=open(file_path,\"r\")\n",
    "items=f.readlines()\n",
    "for i in items: # use strip()to remove linebreak at the end of each line\n",
    "    print(i.strip()) #print as a list\n",
    "f.close()"
   ]
  },
  {
   "cell_type": "code",
   "execution_count": null,
   "id": "7a6c7d36",
   "metadata": {},
   "outputs": [],
   "source": []
  }
 ],
 "metadata": {
  "kernelspec": {
   "display_name": "Python 3 (ipykernel)",
   "language": "python",
   "name": "python3"
  },
  "language_info": {
   "codemirror_mode": {
    "name": "ipython",
    "version": 3
   },
   "file_extension": ".py",
   "mimetype": "text/x-python",
   "name": "python",
   "nbconvert_exporter": "python",
   "pygments_lexer": "ipython3",
   "version": "3.11.4"
  }
 },
 "nbformat": 4,
 "nbformat_minor": 5
}
