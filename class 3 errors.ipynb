{
 "cells": [
  {
   "cell_type": "markdown",
   "id": "5b03523f",
   "metadata": {},
   "source": [
    "## Python Errors"
   ]
  },
  {
   "cell_type": "code",
   "execution_count": 2,
   "id": "d11a2c1e",
   "metadata": {},
   "outputs": [
    {
     "name": "stdout",
     "output_type": "stream",
     "text": [
      "starting calculation\n",
      "3 / 1 = 3.0\n",
      "calculation over!.....\n"
     ]
    }
   ],
   "source": [
    "def divide (number,divisor):\n",
    "    print(\"starting calculation\")\n",
    "    result=number/divisor\n",
    "    print(number,\"/\",divisor,\"=\",result)\n",
    "    print(\"calculation over!.....\")\n",
    "divide(3,1)"
   ]
  },
  {
   "cell_type": "markdown",
   "id": "b21bcfde",
   "metadata": {},
   "source": [
    "### try-except\n",
    "#### The try clause contains the code that can possibly raise an exception while the except clause contains the code that handles the exception"
   ]
  },
  {
   "cell_type": "code",
   "execution_count": 16,
   "id": "832c5804",
   "metadata": {},
   "outputs": [
    {
     "name": "stdout",
     "output_type": "stream",
     "text": [
      "starting calculation\n",
      "cannot divide by zero\n",
      "calculation over!.....\n"
     ]
    }
   ],
   "source": [
    "def divide2(number,divisor):\n",
    "    print(\"starting calculation\")\n",
    "    try:\n",
    "        result=number/divisor\n",
    "        print(number,\"/\",divisor,\"=\",result)\n",
    "    except ZeroDivisionError:\n",
    "        print(\"cannot divide by zero\")\n",
    "    print(\"calculation over!.....\")\n",
    "divide2(3,0)\n",
    "#divide2(3,1.5)"
   ]
  },
  {
   "cell_type": "markdown",
   "id": "dcf17392",
   "metadata": {},
   "source": [
    "#### you can specify multiple except clauses,one for each type of exception expected."
   ]
  },
  {
   "cell_type": "code",
   "execution_count": 12,
   "id": "edafbbd4",
   "metadata": {},
   "outputs": [
    {
     "name": "stdout",
     "output_type": "stream",
     "text": [
      "calculating 3 / abc\n",
      "cannot divide non-numbers\n",
      "calculation over!.....\n"
     ]
    }
   ],
   "source": [
    "def divide3(number,divisor):\n",
    "    print(\"calculating\",number,\"/\",divisor)\n",
    "    try:\n",
    "        result=float(number)/float(divisor)\n",
    "        print(number,\"/\",divisor,\"=\",result)\n",
    "    except ZeroDivisionError:\n",
    "        print(\"cannot divide by zero\")\n",
    "    except ValueError:\n",
    "        print(\"cannot divide non-numbers\")\n",
    "    print(\"calculation over!.....\")\n",
    "#divide3(3,0)\n",
    "divide3(3,\"abc\")"
   ]
  },
  {
   "cell_type": "markdown",
   "id": "469db3db",
   "metadata": {},
   "source": [
    "### it is possible to specify multiple types in one except clause."
   ]
  },
  {
   "cell_type": "code",
   "execution_count": 19,
   "id": "a747f1e5",
   "metadata": {},
   "outputs": [
    {
     "name": "stdout",
     "output_type": "stream",
     "text": [
      "calculating 3 / 0\n",
      "Incorrect inputs\n",
      "calculation over!.....\n",
      "calculating 3 / abc\n",
      "Incorrect inputs\n",
      "calculation over!.....\n"
     ]
    }
   ],
   "source": [
    "def divide4(number,divisor):\n",
    "    print(\"calculating\",number,\"/\",divisor)\n",
    "    try:\n",
    "        result=float(number)/float(divisor)\n",
    "        print(number,\"/\",divisor,\"=\",result)\n",
    "    except (ZeroDivisionError,ValueError):\n",
    "        print(\"Incorrect inputs\")\n",
    "    print(\"calculation over!.....\")\n",
    "divide4(3,0)\n",
    "\n",
    "divide4(3,\"abc\")"
   ]
  },
  {
   "cell_type": "markdown",
   "id": "ef49d9a5",
   "metadata": {},
   "source": [
    "### index error"
   ]
  },
  {
   "cell_type": "code",
   "execution_count": 22,
   "id": "2fa426da",
   "metadata": {},
   "outputs": [
    {
     "ename": "IndexError",
     "evalue": "list index out of range",
     "output_type": "error",
     "traceback": [
      "\u001b[1;31m---------------------------------------------------------------------------\u001b[0m",
      "\u001b[1;31mIndexError\u001b[0m                                Traceback (most recent call last)",
      "Cell \u001b[1;32mIn[22], line 4\u001b[0m\n\u001b[0;32m      2\u001b[0m     \u001b[38;5;28;01mreturn\u001b[39;00m items[\u001b[38;5;241m0\u001b[39m]\n\u001b[0;32m      3\u001b[0m \u001b[38;5;66;03m#print(get_head([6,7,8])\u001b[39;00m\n\u001b[1;32m----> 4\u001b[0m \u001b[38;5;28mprint\u001b[39m(get_head([]))\n",
      "Cell \u001b[1;32mIn[22], line 2\u001b[0m, in \u001b[0;36mget_head\u001b[1;34m(items)\u001b[0m\n\u001b[0;32m      1\u001b[0m \u001b[38;5;28;01mdef\u001b[39;00m \u001b[38;5;21mget_head\u001b[39m(items):\n\u001b[1;32m----> 2\u001b[0m     \u001b[38;5;28;01mreturn\u001b[39;00m items[\u001b[38;5;241m0\u001b[39m]\n",
      "\u001b[1;31mIndexError\u001b[0m: list index out of range"
     ]
    }
   ],
   "source": [
    "def get_head(items):\n",
    "    return items[0]\n",
    "#print(get_head([6,7,8])\n",
    "print(get_head([]))"
   ]
  },
  {
   "cell_type": "code",
   "execution_count": 24,
   "id": "6848a790",
   "metadata": {},
   "outputs": [
    {
     "ename": "NameError",
     "evalue": "name 'IndecError' is not defined",
     "output_type": "error",
     "traceback": [
      "\u001b[1;31m---------------------------------------------------------------------------\u001b[0m",
      "\u001b[1;31mIndexError\u001b[0m                                Traceback (most recent call last)",
      "Cell \u001b[1;32mIn[24], line 3\u001b[0m, in \u001b[0;36mget_head\u001b[1;34m(items)\u001b[0m\n\u001b[0;32m      2\u001b[0m \u001b[38;5;28;01mtry\u001b[39;00m:\n\u001b[1;32m----> 3\u001b[0m     \u001b[38;5;28;01mreturn\u001b[39;00m items[\u001b[38;5;241m0\u001b[39m]\n\u001b[0;32m      4\u001b[0m \u001b[38;5;28;01mexcept\u001b[39;00m IndecError:\n",
      "\u001b[1;31mIndexError\u001b[0m: list index out of range",
      "\nDuring handling of the above exception, another exception occurred:\n",
      "\u001b[1;31mNameError\u001b[0m                                 Traceback (most recent call last)",
      "Cell \u001b[1;32mIn[24], line 6\u001b[0m\n\u001b[0;32m      4\u001b[0m     \u001b[38;5;28;01mexcept\u001b[39;00m IndecError:\n\u001b[0;32m      5\u001b[0m         \u001b[38;5;28;01mreturn\u001b[39;00m \u001b[38;5;124m\"\u001b[39m\u001b[38;5;124mlist too short\u001b[39m\u001b[38;5;124m\"\u001b[39m\n\u001b[1;32m----> 6\u001b[0m \u001b[38;5;28mprint\u001b[39m(get_head([]))\n",
      "Cell \u001b[1;32mIn[24], line 4\u001b[0m, in \u001b[0;36mget_head\u001b[1;34m(items)\u001b[0m\n\u001b[0;32m      2\u001b[0m \u001b[38;5;28;01mtry\u001b[39;00m:\n\u001b[0;32m      3\u001b[0m     \u001b[38;5;28;01mreturn\u001b[39;00m items[\u001b[38;5;241m0\u001b[39m]\n\u001b[1;32m----> 4\u001b[0m \u001b[38;5;28;01mexcept\u001b[39;00m IndecError:\n\u001b[0;32m      5\u001b[0m     \u001b[38;5;28;01mreturn\u001b[39;00m \u001b[38;5;124m\"\u001b[39m\u001b[38;5;124mlist too short\u001b[39m\u001b[38;5;124m\"\u001b[39m\n",
      "\u001b[1;31mNameError\u001b[0m: name 'IndecError' is not defined"
     ]
    }
   ],
   "source": [
    "def get_head(items):\n",
    "    try:\n",
    "        return items[0]\n",
    "    except IndecError:\n",
    "        return \"list too short\"\n",
    "print(get_head([]))"
   ]
  },
  {
   "cell_type": "code",
   "execution_count": 37,
   "id": "84801ecb",
   "metadata": {},
   "outputs": [
    {
     "name": "stdout",
     "output_type": "stream",
     "text": [
      "y is not defind\n"
     ]
    }
   ],
   "source": [
    "try:\n",
    "    print(y)\n",
    "except:\n",
    "    print(\"y is not defind\")\n",
    "else:\n",
    "    print(\"nothing\")"
   ]
  },
  {
   "cell_type": "markdown",
   "id": "d3a5fd93",
   "metadata": {},
   "source": [
    "### finally"
   ]
  },
  {
   "cell_type": "code",
   "execution_count": 26,
   "id": "007a2f16",
   "metadata": {},
   "outputs": [
    {
     "name": "stdout",
     "output_type": "stream",
     "text": [
      "somthing went wrong\n",
      "the 'try except is finished'\n"
     ]
    }
   ],
   "source": [
    "try:\n",
    "    print(x)\n",
    "except:\n",
    "    print(\"somthing went wrong\")\n",
    "finally:\n",
    "    print(\"the 'try except is finished'\")"
   ]
  },
  {
   "cell_type": "markdown",
   "id": "f20fc714",
   "metadata": {},
   "source": [
    "### raise an exception"
   ]
  },
  {
   "cell_type": "code",
   "execution_count": 27,
   "id": "3cdd662f",
   "metadata": {},
   "outputs": [
    {
     "ename": "Exception",
     "evalue": "Sorry, no numbers below zero",
     "output_type": "error",
     "traceback": [
      "\u001b[1;31m---------------------------------------------------------------------------\u001b[0m",
      "\u001b[1;31mException\u001b[0m                                 Traceback (most recent call last)",
      "Cell \u001b[1;32mIn[27], line 4\u001b[0m\n\u001b[0;32m      2\u001b[0m x\u001b[38;5;241m=\u001b[39m\u001b[38;5;241m-\u001b[39m\u001b[38;5;241m8\u001b[39m\n\u001b[0;32m      3\u001b[0m \u001b[38;5;28;01mif\u001b[39;00m x\u001b[38;5;241m<\u001b[39m\u001b[38;5;241m0\u001b[39m:\n\u001b[1;32m----> 4\u001b[0m     \u001b[38;5;28;01mraise\u001b[39;00m \u001b[38;5;167;01mException\u001b[39;00m (\u001b[38;5;124m\"\u001b[39m\u001b[38;5;124mSorry, no numbers below zero\u001b[39m\u001b[38;5;124m\"\u001b[39m)\n",
      "\u001b[1;31mException\u001b[0m: Sorry, no numbers below zero"
     ]
    }
   ],
   "source": [
    "# raise an error an stop the program if x is lower than 0:\n",
    "x=-8\n",
    "if x<0:\n",
    "    raise Exception (\"Sorry, no numbers below zero\")"
   ]
  },
  {
   "cell_type": "markdown",
   "id": "1465a89a",
   "metadata": {},
   "source": [
    "#### "
   ]
  },
  {
   "cell_type": "code",
   "execution_count": 29,
   "id": "20709dba",
   "metadata": {},
   "outputs": [
    {
     "ename": "TypeError",
     "evalue": "only integers are allowed",
     "output_type": "error",
     "traceback": [
      "\u001b[1;31m---------------------------------------------------------------------------\u001b[0m",
      "\u001b[1;31mTypeError\u001b[0m                                 Traceback (most recent call last)",
      "Cell \u001b[1;32mIn[29], line 3\u001b[0m\n\u001b[0;32m      1\u001b[0m x\u001b[38;5;241m=\u001b[39m\u001b[38;5;124m\"\u001b[39m\u001b[38;5;124mhello\u001b[39m\u001b[38;5;124m\"\u001b[39m\n\u001b[0;32m      2\u001b[0m \u001b[38;5;28;01mif\u001b[39;00m \u001b[38;5;129;01mnot\u001b[39;00m \u001b[38;5;28mtype\u001b[39m(x) \u001b[38;5;129;01mis\u001b[39;00m \u001b[38;5;28mint\u001b[39m:\n\u001b[1;32m----> 3\u001b[0m     \u001b[38;5;28;01mraise\u001b[39;00m \u001b[38;5;167;01mTypeError\u001b[39;00m(\u001b[38;5;124m\"\u001b[39m\u001b[38;5;124monly integers are allowed\u001b[39m\u001b[38;5;124m\"\u001b[39m)\n",
      "\u001b[1;31mTypeError\u001b[0m: only integers are allowed"
     ]
    }
   ],
   "source": [
    "x=\"hello\"\n",
    "if not type(x) is int:\n",
    "    raise TypeError(\"only integers are allowed\")"
   ]
  },
  {
   "cell_type": "markdown",
   "id": "db46abdd",
   "metadata": {},
   "source": [
    "#### task"
   ]
  },
  {
   "cell_type": "code",
   "execution_count": 41,
   "id": "0d6e66da",
   "metadata": {},
   "outputs": [
    {
     "name": "stdout",
     "output_type": "stream",
     "text": [
      "Enter an integer: 2\n",
      "You entered 2\n"
     ]
    }
   ],
   "source": [
    "a = input(\"Enter an integer: \")\n",
    "try:\n",
    "    value = int(a)\n",
    "    print(\"You entered\", value)\n",
    "except ValueError:\n",
    "    print(\"This is not an integer.\")\n"
   ]
  },
  {
   "cell_type": "code",
   "execution_count": null,
   "id": "5ae46047",
   "metadata": {},
   "outputs": [],
   "source": []
  }
 ],
 "metadata": {
  "kernelspec": {
   "display_name": "Python 3 (ipykernel)",
   "language": "python",
   "name": "python3"
  },
  "language_info": {
   "codemirror_mode": {
    "name": "ipython",
    "version": 3
   },
   "file_extension": ".py",
   "mimetype": "text/x-python",
   "name": "python",
   "nbconvert_exporter": "python",
   "pygments_lexer": "ipython3",
   "version": "3.11.4"
  }
 },
 "nbformat": 4,
 "nbformat_minor": 5
}
