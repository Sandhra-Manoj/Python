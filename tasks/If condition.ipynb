{
 "cells": [
  {
   "cell_type": "markdown",
   "id": "76894157",
   "metadata": {},
   "source": [
    "### 1. positive,negative,zero"
   ]
  },
  {
   "cell_type": "code",
   "execution_count": 4,
   "id": "9d58f4ca",
   "metadata": {},
   "outputs": [
    {
     "name": "stdout",
     "output_type": "stream",
     "text": [
      "enter a number: 0\n",
      "0  is zero\n"
     ]
    }
   ],
   "source": [
    "a=int(input(\"enter a number: \"))\n",
    "if a>0:\n",
    "    print(a ,\" is positive\")\n",
    "elif a<0:\n",
    "    print(a ,\" is negative\")\n",
    "else:\n",
    "    print(a ,\" is zero\")"
   ]
  },
  {
   "cell_type": "markdown",
   "id": "e7879157",
   "metadata": {},
   "source": [
    "### Mark"
   ]
  },
  {
   "cell_type": "code",
   "execution_count": 5,
   "id": "3c8f0865",
   "metadata": {},
   "outputs": [
    {
     "name": "stdout",
     "output_type": "stream",
     "text": [
      "Enter the mark: 88\n",
      "B\n"
     ]
    }
   ],
   "source": [
    "a=int(input(\"Enter the mark: \"))\n",
    "if a>=90:\n",
    "        print(\"A\")\n",
    "elif a>=80:\n",
    "        print(\"B\")\n",
    "elif a>=70:\n",
    "        print(\"C\")\n",
    "elif a>=60:\n",
    "        print(\"D\")\n",
    "elif a<=60:\n",
    "        print(\"Fail\")\n",
    "    "
   ]
  },
  {
   "cell_type": "markdown",
   "id": "6cfadd92",
   "metadata": {},
   "source": [
    "### Age"
   ]
  },
  {
   "cell_type": "code",
   "execution_count": 57,
   "id": "decb941e",
   "metadata": {},
   "outputs": [
    {
     "name": "stdout",
     "output_type": "stream",
     "text": [
      "Enter your Age: 59\n",
      "Adult\n"
     ]
    }
   ],
   "source": [
    "a=int(input(\"Enter your Age: \"))\n",
    "if a<=12:\n",
    "        print(\"Child\")\n",
    "elif a<=19:\n",
    "        print(\"Teenager\")\n",
    "elif a<=59:\n",
    "        print(\"Adult\")\n",
    "elif a>=60:\n",
    "        print(\"Senior\")\n",
    "\n",
    "    "
   ]
  },
  {
   "cell_type": "markdown",
   "id": "a41d181b",
   "metadata": {},
   "source": [
    "### Largest number"
   ]
  },
  {
   "cell_type": "code",
   "execution_count": 63,
   "id": "039d7b09",
   "metadata": {},
   "outputs": [
    {
     "name": "stdout",
     "output_type": "stream",
     "text": [
      "Enter a number: 5\n",
      "Enter a number: 3\n",
      "Enter a number: 2\n",
      "largest no is 5\n"
     ]
    }
   ],
   "source": [
    "x=int(input(\"Enter a number: \"))\n",
    "y=int(input(\"Enter a number: \"))\n",
    "z=int(input(\"Enter a number: \"))\n",
    "largest = max(x,y,z)\n",
    "print(\"largest no is\",largest)"
   ]
  },
  {
   "cell_type": "markdown",
   "id": "03d0fff9",
   "metadata": {},
   "source": [
    "### Triangle\n",
    "\n"
   ]
  },
  {
   "cell_type": "code",
   "execution_count": 4,
   "id": "97922de3",
   "metadata": {},
   "outputs": [
    {
     "name": "stdout",
     "output_type": "stream",
     "text": [
      "Enter a number: 1\n",
      "Enter a number: 1\n",
      "Enter a number: 3\n",
      "it is not a valid triangle\n"
     ]
    }
   ],
   "source": [
    "a=int(input(\"Enter a number: \"))\n",
    "b=int(input(\"Enter a number: \"))\n",
    "c=int(input(\"Enter a number: \"))\n",
    "x=a+b\n",
    "if x>c:\n",
    "    print(\"it is a valid triangle\")\n",
    "else:\n",
    "    print(\"it is not a valid triangle\")"
   ]
  },
  {
   "cell_type": "markdown",
   "id": "48c5d2e1",
   "metadata": {},
   "source": [
    "### Time"
   ]
  },
  {
   "cell_type": "code",
   "execution_count": 8,
   "id": "50c88ae3",
   "metadata": {},
   "outputs": [
    {
     "name": "stdout",
     "output_type": "stream",
     "text": [
      "Enter the time in 24 hour format: 22:45\n",
      "Time in 12 hour format:  10 : 45 : PM\n"
     ]
    }
   ],
   "source": [
    "time=input(\"Enter the time in 24 hour format: \")\n",
    "hour, minute = map(int,time.split(':'))\n",
    "if (hour>=12):\n",
    "    period=\"PM\"\n",
    "    if (hour>12):\n",
    "        hour=hour-12\n",
    "else:\n",
    "    period=\"AM\"\n",
    "    if (hour==0):\n",
    "        hour=12\n",
    "print(\"Time in 12 hour format: \",hour,\":\",minute,\":\",period)"
   ]
  },
  {
   "cell_type": "markdown",
   "id": "411aae7f",
   "metadata": {},
   "source": [
    "### Vowels Consonant "
   ]
  },
  {
   "cell_type": "code",
   "execution_count": null,
   "id": "e21df5a8",
   "metadata": {},
   "outputs": [],
   "source": [
    "a=(input(\"Enter a alphabet: \"))\n",
    "if a==\"a\" or a==\"e\" or a==\"i\" or a==\"o\" or a==\"u\":\n",
    "    print(\"it is vowels\")\n",
    "elif a.isalpha():\n",
    "    print(\"not a vowels\")\n",
    "else:\n",
    "    print(\"It is neither a vowel nor a consonant\")"
   ]
  },
  {
   "cell_type": "markdown",
   "id": "f3c669ec",
   "metadata": {},
   "source": [
    "### sum"
   ]
  },
  {
   "cell_type": "code",
   "execution_count": 8,
   "id": "a3bc3359",
   "metadata": {},
   "outputs": [
    {
     "name": "stdout",
     "output_type": "stream",
     "text": [
      "Enter a sum: 9\n",
      "(1, 8)\n",
      "(2, 7)\n",
      "(3, 6)\n",
      "(4, 5)\n",
      "(9, 0)\n"
     ]
    }
   ],
   "source": [
    "array=[1,2,3,4,5,6,7,8,9,0]\n",
    "a=int(input(\"Enter a sum: \"))\n",
    "for i in range (len(array)):\n",
    "    for j in range (i+1,len(array)):\n",
    "        if(array[i]==array[j]):\n",
    "            continue\n",
    "        elif(array[i]+array[j])==a:\n",
    "            print((array[i],array[j]))"
   ]
  },
  {
   "cell_type": "markdown",
   "id": "65e2c429",
   "metadata": {},
   "source": [
    "### largest product of any three elements\n",
    "\n"
   ]
  },
  {
   "cell_type": "code",
   "execution_count": 13,
   "id": "2e455ea6",
   "metadata": {},
   "outputs": [
    {
     "name": "stdout",
     "output_type": "stream",
     "text": [
      "720\n"
     ]
    }
   ],
   "source": [
    "element=[-1,2,3,4,5,6,7,8,9,10]\n",
    "element.sort()\n",
    "max_pdt1=element[-1]*element[-2]*element[-3]\n",
    "max_pdt2=element[0]*element[1]*element[-1]\n",
    "print(max(max_pdt1,max_pdt2))"
   ]
  }
 ],
 "metadata": {
  "kernelspec": {
   "display_name": "Python 3 (ipykernel)",
   "language": "python",
   "name": "python3"
  },
  "language_info": {
   "codemirror_mode": {
    "name": "ipython",
    "version": 3
   },
   "file_extension": ".py",
   "mimetype": "text/x-python",
   "name": "python",
   "nbconvert_exporter": "python",
   "pygments_lexer": "ipython3",
   "version": "3.11.4"
  }
 },
 "nbformat": 4,
 "nbformat_minor": 5
}
