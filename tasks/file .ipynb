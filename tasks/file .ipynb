{
 "cells": [
  {
   "cell_type": "markdown",
   "id": "313a0076",
   "metadata": {},
   "source": [
    "### 1. count lines"
   ]
  },
  {
   "cell_type": "code",
   "execution_count": 13,
   "id": "df161d93",
   "metadata": {},
   "outputs": [
    {
     "name": "stdout",
     "output_type": "stream",
     "text": [
      "Number of lines in the file: 5\n"
     ]
    }
   ],
   "source": [
    "file_path = 'newfiles.txt'\n",
    "line_count = 0\n",
    "with open(file_path, 'r') as file:\n",
    "        for line in file:\n",
    "            line_count += 1\n",
    "print(f\"Number of lines in the file: {line_count}\")\n",
    "\n"
   ]
  },
  {
   "cell_type": "markdown",
   "id": "7c83ea9e",
   "metadata": {},
   "source": [
    "### 2. print lines"
   ]
  },
  {
   "cell_type": "code",
   "execution_count": 1,
   "id": "1cf253da",
   "metadata": {},
   "outputs": [
    {
     "name": "stdout",
     "output_type": "stream",
     "text": [
      "Enter the number of lines to print: 3\n",
      "sandhra\n",
      "manoj\n",
      "SANDHRA\n"
     ]
    }
   ],
   "source": [
    "file_path = 'newfiles.txt'\n",
    "n = int(input(\"Enter the number of lines to print: \"))\n",
    "with open(file_path, 'r') as file:\n",
    "        for i in range(n):\n",
    "            line = file.readline()\n",
    "            print(line, end='')"
   ]
  },
  {
   "cell_type": "markdown",
   "id": "0739865d",
   "metadata": {},
   "source": [
    "### 3."
   ]
  },
  {
   "cell_type": "code",
   "execution_count": 15,
   "id": "16171642",
   "metadata": {},
   "outputs": [
    {
     "name": "stdout",
     "output_type": "stream",
     "text": [
      "Enter the number of lines to print: 1\n",
      "MANOJ"
     ]
    }
   ],
   "source": [
    "file_path = 'newfiles.txt'\n",
    "n = int(input(\"Enter the number of lines to print: \"))\n",
    "with open(file_path, 'r') as file:\n",
    "        lines = file.readlines()\n",
    "        last_n_lines = lines[-n:]\n",
    "        for line in last_n_lines:\n",
    "            print(line, end='')"
   ]
  },
  {
   "cell_type": "markdown",
   "id": "1c525c05",
   "metadata": {},
   "source": [
    "### 4."
   ]
  },
  {
   "cell_type": "code",
   "execution_count": 2,
   "id": "ef62f74e",
   "metadata": {},
   "outputs": [
    {
     "name": "stdout",
     "output_type": "stream",
     "text": [
      "Blank lines removed from the file.\n"
     ]
    }
   ],
   "source": [
    "file_path = 'newfiles.txt'\n",
    "with open(file_path, 'r') as file:\n",
    "        lines = file.readlines()\n",
    "        blank_lines = [line for line in lines if line.strip()]\n",
    "with open(file_path, 'w') as file:\n",
    "    file.writelines(blank_lines)\n",
    "print(\"Blank lines removed from the file.\")"
   ]
  },
  {
   "cell_type": "markdown",
   "id": "0710958b",
   "metadata": {},
   "source": [
    "### 5."
   ]
  },
  {
   "cell_type": "code",
   "execution_count": 10,
   "id": "9f410e4c",
   "metadata": {},
   "outputs": [
    {
     "name": "stdout",
     "output_type": "stream",
     "text": [
      "All lines removed from the file. sandhra\n",
      "manoj\n",
      "SANDHRA\n",
      "MANOJ\n"
     ]
    }
   ],
   "source": [
    "file_path = 'newfiles.txt'\n",
    "with open(file_path, 'r') as file:\n",
    "       \n",
    "        lines = [line for line in lines if line.strip()]\n",
    "with open(file_path, 'r') as file:\n",
    "    items=file.read()\n",
    "print(\"All lines removed from the file.\",items)"
   ]
  },
  {
   "cell_type": "markdown",
   "id": "0a70677e",
   "metadata": {},
   "source": [
    "### 6\n"
   ]
  },
  {
   "cell_type": "code",
   "execution_count": 13,
   "id": "f92fa223",
   "metadata": {},
   "outputs": [
    {
     "name": "stdout",
     "output_type": "stream",
     "text": [
      "Remove lines: SANDHRA\n",
      "['sandhra\\n', 'manoj\\n', 'MANOJ']\n",
      "All lines containing 'SANDHRA' removed from the file.\n"
     ]
    }
   ],
   "source": [
    "file_path = 'newfiles.txt'\n",
    "string_to_remove =input(\"Remove lines: \")\n",
    "with open(file_path, 'r') as file:\n",
    "        lines = file.readlines()\n",
    "        filtered_lines = [line for line in lines if string_to_remove not in line]\n",
    "\n",
    "print(filtered_lines)\n",
    "print(f\"All lines containing '{string_to_remove}' removed from the file.\")"
   ]
  },
  {
   "cell_type": "markdown",
   "id": "454fa6da",
   "metadata": {},
   "source": [
    "### 7"
   ]
  },
  {
   "cell_type": "code",
   "execution_count": 25,
   "id": "13685a0a",
   "metadata": {},
   "outputs": [],
   "source": [
    "with open(\"message.txt\",'w') as file:\n",
    "    file.write(\"hello...!,  WORLD...\")"
   ]
  },
  {
   "cell_type": "code",
   "execution_count": 26,
   "id": "f0558544",
   "metadata": {},
   "outputs": [
    {
     "name": "stdout",
     "output_type": "stream",
     "text": [
      "hello  WORLD\n"
     ]
    }
   ],
   "source": [
    "import string\n",
    "\n",
    "with open(\"message.txt\", 'r') as file:\n",
    "    text = file.read()\n",
    "    no_punctuation = text.translate(str.maketrans('', '', string.punctuation))\n",
    "print(no_punctuation)"
   ]
  },
  {
   "cell_type": "markdown",
   "id": "ac63e3ba",
   "metadata": {},
   "source": [
    "### 8"
   ]
  },
  {
   "cell_type": "code",
   "execution_count": 27,
   "id": "142a5bc4",
   "metadata": {},
   "outputs": [
    {
     "name": "stdout",
     "output_type": "stream",
     "text": [
      "Hello...!,  World...\n"
     ]
    }
   ],
   "source": [
    "with open(\"message.txt\", 'r') as file:\n",
    "    text = file.read()\n",
    "    capitalized_text=text.title()\n",
    "print(capitalized_text)"
   ]
  },
  {
   "cell_type": "markdown",
   "id": "b7552858",
   "metadata": {},
   "source": [
    "### 9"
   ]
  },
  {
   "cell_type": "code",
   "execution_count": 28,
   "id": "0346b5fc",
   "metadata": {},
   "outputs": [
    {
     "name": "stdout",
     "output_type": "stream",
     "text": [
      "HELLO...!,  WORLD...\n"
     ]
    }
   ],
   "source": [
    "with open(\"message.txt\", 'r') as file:\n",
    "    text = file.read()\n",
    "    uppercase_text=text.upper()\n",
    "print(uppercase_text)"
   ]
  },
  {
   "cell_type": "markdown",
   "id": "542e8547",
   "metadata": {},
   "source": [
    "### 10"
   ]
  },
  {
   "cell_type": "code",
   "execution_count": 29,
   "id": "e6ad738d",
   "metadata": {},
   "outputs": [
    {
     "name": "stdout",
     "output_type": "stream",
     "text": [
      "hello...!,  world...\n"
     ]
    }
   ],
   "source": [
    "with open(\"message.txt\", 'r') as file:\n",
    "    text = file.read()\n",
    "    lowercase_text=text.lower()\n",
    "print(lowercase_text)"
   ]
  },
  {
   "cell_type": "markdown",
   "id": "417be886",
   "metadata": {},
   "source": [
    "### 11"
   ]
  },
  {
   "cell_type": "code",
   "execution_count": 30,
   "id": "727e693b",
   "metadata": {},
   "outputs": [
    {
     "name": "stdout",
     "output_type": "stream",
     "text": [
      "Remove vowels:  hll...!,  WRLD...\n"
     ]
    }
   ],
   "source": [
    "with open(\"message.txt\", 'r') as file:\n",
    "    text = file.read()\n",
    "vowels=\"aeiouAEIOU\"\n",
    "modified_text=\"\".join(char for char in text if char not in vowels)\n",
    "print(\"Remove vowels: \",modified_text)"
   ]
  },
  {
   "cell_type": "markdown",
   "id": "1f2513da",
   "metadata": {},
   "source": [
    "### 12"
   ]
  },
  {
   "cell_type": "code",
   "execution_count": 3,
   "id": "9bc85d87",
   "metadata": {},
   "outputs": [],
   "source": [
    "with open(\"sample.txt\",'w')as f:\n",
    "    f.write(\"the boy ran to the park\")"
   ]
  },
  {
   "cell_type": "code",
   "execution_count": 4,
   "id": "1ce3d2df",
   "metadata": {},
   "outputs": [
    {
     "name": "stdout",
     "output_type": "stream",
     "text": [
      "the:2\n",
      "boy:1\n",
      "ran:1\n",
      "to:1\n",
      "park:1\n",
      "\n"
     ]
    }
   ],
   "source": [
    "output_file_name=\"newfile.txt\"\n",
    "with open(\"sample.txt\",'r')as f:\n",
    "    text=f.read()\n",
    "word_count={}\n",
    "words=text.split()\n",
    "for word in words:\n",
    "    word=word.strip('.,!?')\n",
    "    if word in word_count:\n",
    "        word_count[word]+=1\n",
    "    else:\n",
    "        word_count[word]=1\n",
    "sorted_word_count=dict(sorted(word_count.items(),key=lambda item:item[1],reverse=True))\n",
    "with open(\"newfile.txt\",\"w\")as f1:\n",
    "    for word,count in sorted_word_count.items():\n",
    "        f1.write(f\"{word}:{count}\\n\")\n",
    "with open(\"newfile.txt\",\"r\")as f1:\n",
    "    text=f1.read()\n",
    "print(text)"
   ]
  },
  {
   "cell_type": "markdown",
   "id": "63dc6356",
   "metadata": {},
   "source": [
    "### 13"
   ]
  },
  {
   "cell_type": "code",
   "execution_count": 5,
   "id": "0c18fe5e",
   "metadata": {},
   "outputs": [],
   "source": [
    "with open(\"binary1_file.bin\",'wb')as f:\n",
    "    data=b'Hello welcome back'\n",
    "    f.write(data)"
   ]
  },
  {
   "cell_type": "code",
   "execution_count": 6,
   "id": "0d0cfaf4",
   "metadata": {},
   "outputs": [
    {
     "name": "stdout",
     "output_type": "stream",
     "text": [
      "hexadecimal representation is:  48 65 6c 6c 6f 20 77 65 6c 63 6f 6d 65 20 62 61 63 6b\n"
     ]
    }
   ],
   "source": [
    "with open(\"binary1_file.bin\",'rb')as f:\n",
    "    text=f.read()\n",
    "hexadecimal=' '.join(format(byte,'02x')for byte in data)\n",
    "print(\"hexadecimal representation is: \",hexadecimal)"
   ]
  },
  {
   "cell_type": "markdown",
   "id": "790f11ff",
   "metadata": {},
   "source": [
    "### 14"
   ]
  },
  {
   "cell_type": "code",
   "execution_count": 1,
   "id": "bb82799e",
   "metadata": {},
   "outputs": [],
   "source": [
    "input_csv_file = \"input.csv\"\n",
    "output_html_file = \"message.html\"\n",
    "\n",
    "with open(input_csv_file, 'r') as csv_file:\n",
    "    lines = csv_file.readlines()\n",
    "\n",
    "html_table = \"<table>\\n\"\n",
    "for line in lines:\n",
    "    cells = line.strip().split(',')\n",
    "    row = \"  <tr>\\n\"\n",
    "    for cell in cells:\n",
    "        row += f\"    <td>{cell}</td>\\n\"\n",
    "    row += \"  </tr>\\n\"\n",
    "    html_table += row\n",
    "html_table += \"</table>\"\n",
    "\n",
    "with open(output_html_file, 'w') as html_file:\n",
    "    html_file.write(html_table)"
   ]
  },
  {
   "cell_type": "markdown",
   "id": "41235ea2",
   "metadata": {},
   "source": [
    "### 15"
   ]
  },
  {
   "cell_type": "code",
   "execution_count": 4,
   "id": "fa2c7464",
   "metadata": {},
   "outputs": [
    {
     "name": "stdout",
     "output_type": "stream",
     "text": [
      "{'name': 'Anju', 'age': 24}\n",
      "{'name': 'Anu', 'age': 25}\n",
      "{'name': 'Malu', 'age': 22}\n",
      "{'name': 'Sanu', 'age': 35}\n"
     ]
    }
   ],
   "source": [
    "import json\n",
    "input_json_file = \"input.json\"\n",
    "sort_field = \"name\"\n",
    "\n",
    "with open(input_json_file, 'r') as json_file:\n",
    "    data = json.load(json_file)\n",
    "\n",
    "sorted_data = sorted(data, key=lambda item: item[sort_field])\n",
    "\n",
    "for item in sorted_data:\n",
    "    print(item)"
   ]
  },
  {
   "cell_type": "markdown",
   "id": "7fd983ce",
   "metadata": {},
   "source": [
    "### 16"
   ]
  },
  {
   "cell_type": "code",
   "execution_count": 4,
   "id": "237c29d4",
   "metadata": {},
   "outputs": [
    {
     "name": "stdout",
     "output_type": "stream",
     "text": [
      "Replacement completed.\n",
      "sandhraaaa\n",
      "manoj\n",
      "SANDHRA\n",
      "MANOJ\n"
     ]
    }
   ],
   "source": [
    "def replace_word_in_file(input_file, output_file, old_word, new_word):\n",
    "    try:\n",
    "        with open(input_file, 'r') as file:\n",
    "            text = file.read()\n",
    "        modified_text = text.replace(old_word, new_word)\n",
    "        with open(output_file, 'w') as file:\n",
    "            file.write(modified_text)\n",
    "        print(f\"Replacement completed.\")\n",
    "    except FileNotFoundError:\n",
    "        print(\"Input file not found.\")\n",
    "input_file = \"newfiles.txt\"  \n",
    "output_file = \"newfile.txt\"  \n",
    "old_word=\"sandhra\"\n",
    "new_word = \"sandhraaaa\"  \n",
    "replace_word_in_file(input_file, output_file, old_word, new_word)\n",
    "with open(output_file,\"r\")as f:\n",
    "    text=f.read()\n",
    "print(text)"
   ]
  },
  {
   "cell_type": "code",
   "execution_count": null,
   "id": "4bb7c996",
   "metadata": {},
   "outputs": [],
   "source": []
  }
 ],
 "metadata": {
  "kernelspec": {
   "display_name": "Python 3 (ipykernel)",
   "language": "python",
   "name": "python3"
  },
  "language_info": {
   "codemirror_mode": {
    "name": "ipython",
    "version": 3
   },
   "file_extension": ".py",
   "mimetype": "text/x-python",
   "name": "python",
   "nbconvert_exporter": "python",
   "pygments_lexer": "ipython3",
   "version": "3.11.4"
  }
 },
 "nbformat": 4,
 "nbformat_minor": 5
}
