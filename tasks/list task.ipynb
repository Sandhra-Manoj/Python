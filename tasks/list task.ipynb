{
 "cells": [
  {
   "cell_type": "markdown",
   "id": "03e52b95",
   "metadata": {},
   "source": [
    "### 1.sum\n"
   ]
  },
  {
   "cell_type": "code",
   "execution_count": 1,
   "id": "dfdc5aa9",
   "metadata": {},
   "outputs": [
    {
     "name": "stdout",
     "output_type": "stream",
     "text": [
      "45\n"
     ]
    }
   ],
   "source": [
    "element=[1,2,3,4,5,6,7,8,9,]\n",
    "sum_element=sum(element)\n",
    "print(sum_element)"
   ]
  },
  {
   "cell_type": "markdown",
   "id": "e6e58824",
   "metadata": {},
   "source": [
    "### 2.reverse"
   ]
  },
  {
   "cell_type": "code",
   "execution_count": 4,
   "id": "0c06aadf",
   "metadata": {},
   "outputs": [
    {
     "name": "stdout",
     "output_type": "stream",
     "text": [
      "['e', 'd', 'c', 'b', 'a']\n"
     ]
    }
   ],
   "source": [
    "characters = ['a', 'b', 'c', 'd', 'e']\n",
    "characters.reverse()\n",
    "print(characters)\n",
    "\n"
   ]
  },
  {
   "cell_type": "markdown",
   "id": "fd0b8e6c",
   "metadata": {},
   "source": [
    "### 3.empty"
   ]
  },
  {
   "cell_type": "code",
   "execution_count": 3,
   "id": "46d3eba5",
   "metadata": {},
   "outputs": [
    {
     "name": "stdout",
     "output_type": "stream",
     "text": [
      "['Mike', 'Emma', 'Kelly', 'Brad']\n"
     ]
    }
   ],
   "source": [
    "list1 = [\"Mike\", \"\", \"Emma\", \"Kelly\", \"\", \"Brad\"]\n",
    "list1.remove(\"\")\n",
    "list1.remove(\"\")\n",
    "\n",
    "print(list1)\n"
   ]
  },
  {
   "cell_type": "markdown",
   "id": "2fda1a34",
   "metadata": {},
   "source": [
    "### 4.Add items"
   ]
  },
  {
   "cell_type": "code",
   "execution_count": 1,
   "id": "05969ef6",
   "metadata": {},
   "outputs": [
    {
     "name": "stdout",
     "output_type": "stream",
     "text": [
      "[10, 20, [300, 400, [5000, 6000, 7000], 500], 30, 40]\n"
     ]
    }
   ],
   "source": [
    "list1 = [10, 20, [300, 400, [5000, 6000], 500], 30, 40]\n",
    "list1[2][2].append(7000)\n",
    "print(list1)"
   ]
  },
  {
   "cell_type": "markdown",
   "id": "caf863a3",
   "metadata": {},
   "source": [
    "### 5."
   ]
  },
  {
   "cell_type": "code",
   "execution_count": 9,
   "id": "6e45418a",
   "metadata": {},
   "outputs": [
    {
     "name": "stdout",
     "output_type": "stream",
     "text": [
      "value 20 is present at  3\n",
      "[5, 10, 15, 200, 25, 50, 20]\n"
     ]
    }
   ],
   "source": [
    "list1=[5,10,15,20,25,50,20]\n",
    "x=list1.index(20)\n",
    "\n",
    "print(\"value 20 is present at \",x)\n",
    "list1[x]=200\n",
    "print(list1)"
   ]
  },
  {
   "cell_type": "markdown",
   "id": "cacc5a00",
   "metadata": {},
   "source": [
    "### 6.max-min"
   ]
  },
  {
   "cell_type": "code",
   "execution_count": 10,
   "id": "da61eb04",
   "metadata": {},
   "outputs": [
    {
     "name": "stdout",
     "output_type": "stream",
     "text": [
      "60\n"
     ]
    }
   ],
   "source": [
    "numbers = [10,22,33,70,44,55,60]\n",
    "max_number = max(numbers)\n",
    "min_number = min(numbers)\n",
    "diff = max_number - min_number\n",
    "print(diff)\n"
   ]
  },
  {
   "cell_type": "markdown",
   "id": "1b1e709c",
   "metadata": {},
   "source": [
    "### 7.count"
   ]
  },
  {
   "cell_type": "code",
   "execution_count": 4,
   "id": "c7f2f5b6",
   "metadata": {},
   "outputs": [
    {
     "name": "stdout",
     "output_type": "stream",
     "text": [
      "3\n"
     ]
    }
   ],
   "source": [
    "numbers=[10,22,3,10,17,237,10]\n",
    "count=numbers.count(10)\n",
    "print(count)"
   ]
  },
  {
   "cell_type": "markdown",
   "id": "f7607945",
   "metadata": {},
   "source": [
    "### 8.Insert"
   ]
  },
  {
   "cell_type": "code",
   "execution_count": 60,
   "id": "63e26ff7",
   "metadata": {},
   "outputs": [
    {
     "name": "stdout",
     "output_type": "stream",
     "text": [
      "['s', 'a', 'n', 'd', 'h', 'r', 'a']\n"
     ]
    }
   ],
   "source": [
    "element=[\"s\",\"a\",\"n\",\"d\",\"r\",\"a\"]\n",
    "element.insert(4,\"h\")\n",
    "print(element)"
   ]
  },
  {
   "cell_type": "code",
   "execution_count": null,
   "id": "b6d665a6",
   "metadata": {},
   "outputs": [],
   "source": []
  }
 ],
 "metadata": {
  "kernelspec": {
   "display_name": "Python 3 (ipykernel)",
   "language": "python",
   "name": "python3"
  },
  "language_info": {
   "codemirror_mode": {
    "name": "ipython",
    "version": 3
   },
   "file_extension": ".py",
   "mimetype": "text/x-python",
   "name": "python",
   "nbconvert_exporter": "python",
   "pygments_lexer": "ipython3",
   "version": "3.11.4"
  }
 },
 "nbformat": 4,
 "nbformat_minor": 5
}
