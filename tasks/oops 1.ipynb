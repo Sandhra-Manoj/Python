{
 "cells": [
  {
   "cell_type": "markdown",
   "id": "61e68b78",
   "metadata": {},
   "source": [
    "### 1 "
   ]
  },
  {
   "cell_type": "code",
   "execution_count": 1,
   "id": "fc4488c0",
   "metadata": {},
   "outputs": [
    {
     "name": "stdout",
     "output_type": "stream",
     "text": [
      "Area: 8\n",
      "Perimeter 12\n"
     ]
    }
   ],
   "source": [
    "class Rectangle:\n",
    "    def __init__(self, width, height):\n",
    "        self.width = max(width, 0)\n",
    "        self.height = max(height, 0)\n",
    "    def width(self):\n",
    "        return self.width\n",
    "    def width(self, value):\n",
    "        self.width = max(value, 0)\n",
    "    def height(self):\n",
    "        return self.height\n",
    "    def height(self, value):\n",
    "        self.height = max(value, 0)\n",
    "\n",
    "    def get_area(self):\n",
    "        return self.width * self.height\n",
    "\n",
    "    def get_perimeter(self):\n",
    "        return 2 * (self.width + self.height)\n",
    "\n",
    "\n",
    "rectangle = Rectangle(2,4)\n",
    "print(\"Area:\",rectangle.get_area())  \n",
    "print(\"Perimeter\",rectangle.get_perimeter())  \n",
    " \n"
   ]
  },
  {
   "cell_type": "markdown",
   "id": "16364cbe",
   "metadata": {},
   "source": [
    "### 2"
   ]
  },
  {
   "cell_type": "code",
   "execution_count": 4,
   "id": "67040aef",
   "metadata": {},
   "outputs": [
    {
     "name": "stdout",
     "output_type": "stream",
     "text": [
      "Name: Anu\n",
      "Age: 30\n",
      "Position: Manager\n",
      "Salary: 55000\n"
     ]
    }
   ],
   "source": [
    "class Employee:\n",
    "    def __init__(self, name, age, position, salary):\n",
    "        self.name = name\n",
    "        self.age = age\n",
    "        self.position = position\n",
    "        self.salary = salary\n",
    "\n",
    "    def give_raise(self, raise_amount):\n",
    "        self.salary += raise_amount\n",
    "\n",
    "    def print_info(self):\n",
    "        print(f\"Name: {self.name}\")\n",
    "        print(f\"Age: {self.age}\")\n",
    "        print(f\"Position: {self.position}\")\n",
    "        print(f\"Salary: {self.salary}\")\n",
    "\n",
    "employee = Employee(\"Anu\", 30, \"Manager\", 50000)\n",
    "employee.give_raise(5000)  \n",
    "employee.print_info() \n"
   ]
  },
  {
   "cell_type": "markdown",
   "id": "a702669d",
   "metadata": {},
   "source": [
    "### 3"
   ]
  },
  {
   "cell_type": "code",
   "execution_count": 16,
   "id": "081522a9",
   "metadata": {},
   "outputs": [
    {
     "name": "stdout",
     "output_type": "stream",
     "text": [
      "20/23\n",
      "20/23\n",
      "2/2\n",
      "1/1\n"
     ]
    }
   ],
   "source": [
    "class Fraction:\n",
    "    def __init__(self, numerator, denominator):\n",
    "        self.numerator = numerator\n",
    "        self.denominator = denominator\n",
    "\n",
    "    def simplify_fraction(self, num, den):\n",
    "        while den:\n",
    "            num, den = den, num % den\n",
    "        gcd = num\n",
    "        self.numerator //= gcd\n",
    "        self.denominator //= gcd\n",
    "\n",
    "    def add(self, other):\n",
    "        new_num = self.numerator * other.denominator + other.numerator * self.denominator\n",
    "        new_den = self.denominator * other.denominator\n",
    "        self.simplify_fraction(new_num, new_den)\n",
    "\n",
    "    def sub(self, other):\n",
    "        new_num = self.numerator * other.denominator - other.numerator * self.denominator\n",
    "        new_den = self.denominator * other.denominator\n",
    "        self.simplify_fraction(new_num, new_den)\n",
    "\n",
    "    def mul(self, other):\n",
    "        new_num = self.numerator * other.numerator\n",
    "        new_den = self.denominator * other.denominator\n",
    "        self.simplify_fraction(new_num, new_den)\n",
    "\n",
    "    def div(self, other):\n",
    "        new_num = self.numerator * other.denominator\n",
    "        new_den = self.denominator * other.numerator\n",
    "        self.simplify_fraction(new_num, new_den)\n",
    "\n",
    "    def print_fraction(self):\n",
    "        print(f\"{self.numerator}/{self.denominator}\")\n",
    "\n",
    "fraction1 = Fraction(20,23)\n",
    "fraction2 = Fraction(7,10)\n",
    "\n",
    "fraction1.add(fraction2)\n",
    "fraction1.print_fraction()  \n",
    "\n",
    "fraction1.sub(fraction2)\n",
    "fraction1.print_fraction() \n",
    "\n",
    "fraction1.mul(fraction2)\n",
    "fraction1.print_fraction()  \n",
    "\n",
    "fraction1.div(fraction2)\n",
    "fraction1.print_fraction()  \n"
   ]
  },
  {
   "cell_type": "markdown",
   "id": "1a629ec7",
   "metadata": {},
   "source": [
    "### 4"
   ]
  },
  {
   "cell_type": "code",
   "execution_count": 24,
   "id": "cc5b68b1",
   "metadata": {},
   "outputs": [
    {
     "name": "stdout",
     "output_type": "stream",
     "text": [
      "The age difference is 15 years.\n"
     ]
    }
   ],
   "source": [
    "class Person:\n",
    "    def __init__(self, name, age):\n",
    "        self.name = name\n",
    "        self.age = age\n",
    "    def age_(self, other_person):\n",
    "        return abs(self.age - other_person.age)\n",
    "\n",
    "person1 = Person(\"Manu\", 45)\n",
    "person2 = Person(\"Vinu\", 30)\n",
    "\n",
    "age_diff = person1.age_(person2)\n",
    "print(f\"The age difference is {age_diff} years.\")\n"
   ]
  },
  {
   "cell_type": "markdown",
   "id": "f5ecdf93",
   "metadata": {},
   "source": [
    "### 5"
   ]
  },
  {
   "cell_type": "code",
   "execution_count": 30,
   "id": "8f23aaad",
   "metadata": {},
   "outputs": [
    {
     "name": "stdout",
     "output_type": "stream",
     "text": [
      "Songs:  ['Song 1', 'Song 2', 'Song 3']\n",
      "Playlist after removing 'Song 2': ['Song 1', 'Song 3']\n",
      "Shuffled Playlist: ['Song 3', 'Song 1']\n"
     ]
    }
   ],
   "source": [
    "import random\n",
    "\n",
    "class Playlist:\n",
    "    def __init__(self):\n",
    "        self.songs = []\n",
    "\n",
    "    def add_song(self, song):\n",
    "        self.songs.append(song)\n",
    "\n",
    "    def remove_song(self, song):\n",
    "        if song in self.songs:\n",
    "            self.songs.remove(song)\n",
    "        else:\n",
    "            print(f\"{song} is not in the playlist.\")\n",
    "\n",
    "    def shuffle_playlist(self):\n",
    "        random.shuffle(self.songs)\n",
    "my_playlist = Playlist()\n",
    "\n",
    "my_playlist.add_song(\"Song 1\")\n",
    "my_playlist.add_song(\"Song 2\")\n",
    "my_playlist.add_song(\"Song 3\")\n",
    "print(\"Songs: \",my_playlist.songs)\n",
    "\n",
    "my_playlist.remove_song(\"Song 2\")\n",
    "print(\"Playlist after removing 'Song 2':\", my_playlist.songs)\n",
    "\n",
    "my_playlist.shuffle_playlist()\n",
    "print(\"Shuffled Playlist:\", my_playlist.songs)\n"
   ]
  },
  {
   "cell_type": "markdown",
   "id": "8a4ada40",
   "metadata": {},
   "source": [
    "### 6"
   ]
  },
  {
   "cell_type": "code",
   "execution_count": 39,
   "id": "e4f0efaa",
   "metadata": {},
   "outputs": [
    {
     "name": "stdout",
     "output_type": "stream",
     "text": [
      "Transaction History for Account 123:\n",
      "Transferred 500 to account 456\n",
      "Received 800 from account 456\n",
      "Transaction History for Account 456:\n",
      "Received 500 from account 123\n",
      "Transferred 800 to account 123\n"
     ]
    }
   ],
   "source": [
    "class BankAccount:\n",
    "    def __init__(self, account_number, balance=0):\n",
    "        self.account_number = account_number\n",
    "        self.balance = balance\n",
    "        self.transaction_history = []\n",
    "\n",
    "    def transfer(self, other_account, amount):\n",
    "        if self.balance >= amount:\n",
    "            self.balance -= amount\n",
    "            other_account.balance += amount\n",
    "            self.transaction_history.append(f\"Transferred {amount} to account {other_account.account_number}\")\n",
    "            other_account.transaction_history.append(f\"Received {amount} from account {self.account_number}\")\n",
    "        else:\n",
    "            print(\"Insufficient balance to perform this transfer.\")\n",
    "\n",
    "    def print_transaction_history(self):\n",
    "        print(f\"Transaction History for Account {self.account_number}:\")\n",
    "        for transaction in self.transaction_history:\n",
    "            print(transaction)\n",
    "\n",
    "account1 = BankAccount(\"123\", 1000)\n",
    "account2 = BankAccount(\"456\", 500)\n",
    "\n",
    "account1.transfer(account2, 500)\n",
    "account2.transfer(account1, 800)\n",
    "\n",
    "account1.print_transaction_history()\n",
    "account2.print_transaction_history()\n"
   ]
  },
  {
   "cell_type": "markdown",
   "id": "94e32297",
   "metadata": {},
   "source": [
    "### 7"
   ]
  },
  {
   "cell_type": "code",
   "execution_count": 43,
   "id": "ca679bd9",
   "metadata": {},
   "outputs": [
    {
     "name": "stdout",
     "output_type": "stream",
     "text": [
      "Deck: ['Ace of Spades', 'King of Hearts', 'Queen of Diamonds']\n",
      "Shuffled Deck: ['Queen of Diamonds', 'King of Hearts', 'Ace of Spades']\n",
      "Drawn Card: Queen of Diamonds\n"
     ]
    }
   ],
   "source": [
    "import random\n",
    "\n",
    "class Deck:\n",
    "    def __init__(self):\n",
    "        self.cards = []\n",
    "\n",
    "    def shuffle_deck(self):\n",
    "        random.shuffle(self.cards)\n",
    "\n",
    "    def draw_card(self):\n",
    "        if self.cards:\n",
    "            return self.cards.pop(0)\n",
    "        else:\n",
    "            print(\"No cards left in the deck.\")\n",
    "\n",
    "    def add_card(self, card):\n",
    "        self.cards.append(card)\n",
    "\n",
    "\n",
    "my_deck = Deck()\n",
    "\n",
    "\n",
    "my_deck.add_card(\"Ace of Spades\")\n",
    "my_deck.add_card(\"King of Hearts\")\n",
    "my_deck.add_card(\"Queen of Diamonds\")\n",
    "\n",
    "print(\"Deck:\", my_deck.cards)\n",
    "\n",
    "my_deck.shuffle_deck()\n",
    "print(\"Shuffled Deck:\", my_deck.cards)\n",
    "\n",
    "drawn_card = my_deck.draw_card()\n",
    "print(\"Drawn Card:\", drawn_card)\n",
    "\n"
   ]
  },
  {
   "cell_type": "code",
   "execution_count": null,
   "id": "026c62bf",
   "metadata": {},
   "outputs": [],
   "source": []
  }
 ],
 "metadata": {
  "kernelspec": {
   "display_name": "Python 3 (ipykernel)",
   "language": "python",
   "name": "python3"
  },
  "language_info": {
   "codemirror_mode": {
    "name": "ipython",
    "version": 3
   },
   "file_extension": ".py",
   "mimetype": "text/x-python",
   "name": "python",
   "nbconvert_exporter": "python",
   "pygments_lexer": "ipython3",
   "version": "3.11.4"
  }
 },
 "nbformat": 4,
 "nbformat_minor": 5
}
