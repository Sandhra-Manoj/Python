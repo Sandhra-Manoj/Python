{
 "cells": [
  {
   "cell_type": "markdown",
   "id": "ce043cb9",
   "metadata": {},
   "source": [
    "### 1"
   ]
  },
  {
   "cell_type": "code",
   "execution_count": 16,
   "id": "a00019fa",
   "metadata": {},
   "outputs": [
    {
     "name": "stdout",
     "output_type": "stream",
     "text": [
      "Roar\n"
     ]
    }
   ],
   "source": [
    "class Animal:\n",
    "    def __init__(self, name, species, sound):\n",
    "        self.name = name\n",
    "        self.species = species\n",
    "        self.sound = sound\n",
    "\n",
    "    def make_sound(self):\n",
    "        print(self.sound)\n",
    "\n",
    "\n",
    "animal = Animal(\"Lion\", \"Felidae\", \"Roar\")\n",
    "animal.make_sound() \n"
   ]
  },
  {
   "cell_type": "markdown",
   "id": "d7fbd62a",
   "metadata": {},
   "source": [
    "### 2"
   ]
  },
  {
   "cell_type": "code",
   "execution_count": 17,
   "id": "4410367d",
   "metadata": {},
   "outputs": [
    {
     "name": "stdout",
     "output_type": "stream",
     "text": [
      "Woof!\n"
     ]
    }
   ],
   "source": [
    "class Dog(Animal): \n",
    "    def __init__(self, name, species, sound, breed):\n",
    "        super().__init__(name, species, sound)\n",
    "        self.breed = breed\n",
    "\n",
    "    def make_sound(self):\n",
    "        print(\"Woof!\")\n",
    "\n",
    "\n",
    "dog = Dog(\"Buddy\", \"Dog\", \"Sound\", \"Labrador\")\n",
    "dog.make_sound() \n",
    "\n"
   ]
  },
  {
   "cell_type": "markdown",
   "id": "702124c7",
   "metadata": {},
   "source": [
    "### 3"
   ]
  },
  {
   "cell_type": "code",
   "execution_count": 14,
   "id": "cab8c245",
   "metadata": {},
   "outputs": [
    {
     "name": "stdout",
     "output_type": "stream",
     "text": [
      "meow!\n"
     ]
    }
   ],
   "source": [
    "class Cat(Animal): \n",
    "    def __init__(self, name, species, sound,color):\n",
    "        super().__init__(name, species, sound)\n",
    "        self.color=color\n",
    "\n",
    "    def make_sound(self):\n",
    "        print(\"meow!\")\n",
    "\n",
    "\n",
    "cat = Cat(\"whiskers\", \"Cat\", \"Sound\", \"white\")\n",
    "cat.make_sound() \n",
    "\n"
   ]
  },
  {
   "cell_type": "markdown",
   "id": "8c6c5b68",
   "metadata": {},
   "source": [
    "### 4"
   ]
  },
  {
   "cell_type": "code",
   "execution_count": 20,
   "id": "3bc10a91",
   "metadata": {},
   "outputs": [
    {
     "name": "stdout",
     "output_type": "stream",
     "text": [
      "Name: Buddy, Species: Dog\n",
      "Name: Whiskers, Species: Felidae\n"
     ]
    }
   ],
   "source": [
    "class Animal:\n",
    "    def __init__(self, name, species, sound):\n",
    "        self.name = name\n",
    "        self.species = species\n",
    "        self.sound = sound\n",
    "\n",
    "    def make_sound(self):\n",
    "        print(self.sound)\n",
    "\n",
    "\n",
    "class Dog(Animal):\n",
    "    def __init__(self, name, species, sound, breed):\n",
    "        super().__init__(name, species, sound)\n",
    "        self.breed = breed\n",
    "\n",
    "    def make_sound(self):\n",
    "        print(\"Woof!\")\n",
    "\n",
    "\n",
    "class Cat(Animal):\n",
    "    def __init__(self, name, species, sound, color):\n",
    "        super().__init__(name, species, sound)\n",
    "        self.color = color\n",
    "\n",
    "    def make_sound(self):\n",
    "        print(\"Meow!\")\n",
    "\n",
    "class Zoo:\n",
    "    def __init__(self):\n",
    "        self.animals = []\n",
    "\n",
    "    def add_animal(self, animal):\n",
    "        self.animals.append(animal)\n",
    "\n",
    "    def list_animals(self):\n",
    "        for animal in self.animals:\n",
    "            print(f\"Name: {animal.name}, Species: {animal.species}\")\n",
    "\n",
    "\n",
    "zoo = Zoo()\n",
    "\n",
    "dog = Dog(\"Buddy\", \"Dog\", \"Woof!\", \"Labrador\")\n",
    "cat = Cat(\"Whiskers\", \"Felidae\", \"Meow!\", \"Grey\")\n",
    "\n",
    "zoo.add_animal(my_dog)\n",
    "zoo.add_animal(my_cat)\n",
    "\n",
    "zoo.list_animals()\n"
   ]
  },
  {
   "cell_type": "markdown",
   "id": "7b52ba0e",
   "metadata": {},
   "source": [
    "### 5"
   ]
  },
  {
   "cell_type": "code",
   "execution_count": 25,
   "id": "122d9912",
   "metadata": {},
   "outputs": [
    {
     "name": "stdout",
     "output_type": "stream",
     "text": [
      "Bark!\n"
     ]
    }
   ],
   "source": [
    "class GuideDog(Dog):\n",
    "    def __init__(self, name, species, sound, breed, trained_for):\n",
    "        super().__init__(self)\n",
    "        self.trained_for = trained_for\n",
    "\n",
    "    def make_sound(self):\n",
    "        print(\"Bark!\")\n",
    "\n",
    "guide_dog = GuideDog(\"Rex\", \"Dog\", \"Woof!\", \"German Shepherd\", \"Guide\")\n",
    "\n",
    "guide_dog.make_sound()\n"
   ]
  },
  {
   "cell_type": "markdown",
   "id": "abb94c14",
   "metadata": {},
   "source": [
    "### 6"
   ]
  },
  {
   "cell_type": "code",
   "execution_count": 42,
   "id": "8c31ee9b",
   "metadata": {},
   "outputs": [
    {
     "name": "stdout",
     "output_type": "stream",
     "text": [
      "Circle Area: 78.53981633974483\n",
      "Rectangle Area: 8\n"
     ]
    }
   ],
   "source": [
    "class Shape:\n",
    "    def __init__(self, color, filled):\n",
    "        self.color = color\n",
    "        self.filled = filled\n",
    "\n",
    "    def get_area(self):\n",
    "        raise NotImplementedError(\"Subclasses must implement the get_area method.\")\n",
    "import math\n",
    "\n",
    "class Circle(Shape):\n",
    "    def __init__(self, color, filled, radius):\n",
    "        super().__init__(color, filled)\n",
    "        self.radius = radius\n",
    "\n",
    "    def get_area(self):\n",
    "        return math.pi * self.radius**2\n",
    "\n",
    "class Rectangle(Shape):\n",
    "    def __init__(self, color, filled, width, height):\n",
    "        super().__init__(color, filled)\n",
    "        self.width = width\n",
    "        self.height = height\n",
    "\n",
    "    def get_area(self):\n",
    "        return self.width * self.height\n",
    "circle = Circle(color=\"Red\", filled=True, radius=5)\n",
    "rectangle = Rectangle(color=\"Blue\", filled=False, width=2, height=4)\n",
    "\n",
    "print(\"Circle Area:\", circle.get_area())\n",
    "print(\"Rectangle Area:\", rectangle.get_area())\n"
   ]
  },
  {
   "cell_type": "markdown",
   "id": "d3bcaa77",
   "metadata": {},
   "source": [
    "### 7"
   ]
  },
  {
   "cell_type": "code",
   "execution_count": 41,
   "id": "2908965a",
   "metadata": {},
   "outputs": [
    {
     "name": "stdout",
     "output_type": "stream",
     "text": [
      "The total area of all shapes is:  86.53975\n"
     ]
    }
   ],
   "source": [
    "class ShapeList:\n",
    "    def __init__(self):\n",
    "        self.shapes = []\n",
    "\n",
    "    def add_shape(self, shape):\n",
    "        self.shapes.append(shape)\n",
    "\n",
    "    def total_area(self):\n",
    "        total = 0\n",
    "        for shape in self.shapes:\n",
    "            total += shape.get_area()\n",
    "        return total\n",
    "\n",
    "\n",
    "shape_list = ShapeList()\n",
    "\n",
    "rectangle = Rectangle(\"Green\", True, 2,4 )\n",
    "circle = Circle(\"Red\", True, 5)\n",
    "\n",
    "\n",
    "shape_list.add_shape(rectangle)\n",
    "shape_list.add_shape(circle)\n",
    "\n",
    "total_area_shapes = shape_list.total_area()\n",
    "print(f\"The total area of all shapes is: \",total_area_shapes)\n"
   ]
  },
  {
   "cell_type": "markdown",
   "id": "eaddc0bb",
   "metadata": {},
   "source": [
    "### 8"
   ]
  },
  {
   "cell_type": "code",
   "execution_count": 43,
   "id": "dab6bbc3",
   "metadata": {},
   "outputs": [
    {
     "name": "stdout",
     "output_type": "stream",
     "text": [
      "The area of the square is:  25\n"
     ]
    }
   ],
   "source": [
    "class Shape:\n",
    "    def __init__(self, color, filled):\n",
    "        self.color = color\n",
    "        self.filled = filled\n",
    "\n",
    "    def get_area(self):\n",
    "        pass \n",
    "\n",
    "\n",
    "class Rectangle(Shape):\n",
    "    def __init__(self, color, filled, width, height):\n",
    "        super().__init__(color, filled)\n",
    "        self.width = width\n",
    "        self.height = height\n",
    "\n",
    "    def get_area(self):\n",
    "        return self.width * self.height\n",
    "\n",
    "\n",
    "class Square(Rectangle):\n",
    "    def __init__(self, color, filled, side):\n",
    "        super().__init__(color, filled, side, side)\n",
    "\n",
    "    def get_area(self):\n",
    "        return self.width * self.width\n",
    "\n",
    "\n",
    "\n",
    "square = Square(\"Blue\", True, 5)\n",
    "\n",
    "area_square = square.get_area()\n",
    "print(f\"The area of the square is: \",area_square)\n"
   ]
  },
  {
   "cell_type": "code",
   "execution_count": null,
   "id": "eeb7ace4",
   "metadata": {},
   "outputs": [],
   "source": []
  }
 ],
 "metadata": {
  "kernelspec": {
   "display_name": "Python 3 (ipykernel)",
   "language": "python",
   "name": "python3"
  },
  "language_info": {
   "codemirror_mode": {
    "name": "ipython",
    "version": 3
   },
   "file_extension": ".py",
   "mimetype": "text/x-python",
   "name": "python",
   "nbconvert_exporter": "python",
   "pygments_lexer": "ipython3",
   "version": "3.11.4"
  }
 },
 "nbformat": 4,
 "nbformat_minor": 5
}
