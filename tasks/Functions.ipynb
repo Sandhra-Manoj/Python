{
 "cells": [
  {
   "cell_type": "markdown",
   "id": "1b672eed",
   "metadata": {},
   "source": [
    "### 1"
   ]
  },
  {
   "cell_type": "code",
   "execution_count": 3,
   "id": "25b9e0d3",
   "metadata": {},
   "outputs": [
    {
     "name": "stdout",
     "output_type": "stream",
     "text": [
      "Hip\n",
      "Hip\n",
      "Hooray!\n",
      "\n",
      "Hip\n",
      "Hip\n",
      "Hooray!\n",
      "\n",
      "Hip\n",
      "Hip\n",
      "Hooray!\n",
      "\n"
     ]
    }
   ],
   "source": [
    "def say_hip():\n",
    "    print(\"Hip\")\n",
    "\n",
    "def say_horray():\n",
    "    print(\"Hooray!\")\n",
    "\n",
    "for i in range(3):\n",
    "    say_hip()\n",
    "    say_hip()\n",
    "    say_horray()\n",
    "    print()\n"
   ]
  },
  {
   "cell_type": "markdown",
   "id": "098e8321",
   "metadata": {},
   "source": [
    "### 2"
   ]
  },
  {
   "cell_type": "code",
   "execution_count": 19,
   "id": "e8bf1693",
   "metadata": {},
   "outputs": [
    {
     "name": "stdout",
     "output_type": "stream",
     "text": [
      "Enter project score: 20\n",
      "Enter exam score: 30\n",
      "\n",
      "Total: 50\n",
      "Project : ====\n",
      "Exam    : ======\n",
      "Total   : ==========\n",
      "Grade   : B\n"
     ]
    }
   ],
   "source": [
    "project_score = int(input(\"Enter project score: \"))\n",
    "exam_score = int(input(\"Enter exam score: \"))\n",
    "total_score = project_score + exam_score\n",
    "if total_score >= 60 and project_score >= 25 and exam_score >= 25:\n",
    "    grade = \"A\"\n",
    "elif total_score >= 50 and (project_score >= 25 or exam_score >= 25):\n",
    "    grade = \"B\"\n",
    "elif total_score >= 40:\n",
    "    grade = \"C\"\n",
    "else:\n",
    "    grade = \"D\"\n",
    "\n",
    "print(\"\\nTotal: \" + str(total_score))\n",
    "print(\"Project : \" + \"=\" * (project_score // 5))\n",
    "print(\"Exam    : \" + \"=\" * (exam_score // 5))\n",
    "print(\"Total   : \" + \"=\" * (total_score // 5))\n",
    "print(\"Grade   : \" + grade)\n"
   ]
  },
  {
   "cell_type": "markdown",
   "id": "b784a162",
   "metadata": {},
   "source": [
    "### 3"
   ]
  },
  {
   "cell_type": "code",
   "execution_count": 18,
   "id": "93c1b998",
   "metadata": {},
   "outputs": [
    {
     "name": "stdout",
     "output_type": "stream",
     "text": [
      "Enter project score: 30\n",
      "Enter exam score: 40\n",
      "\n",
      "Total: 70\n",
      "Project :: ======\n",
      "Exam    :: ========\n",
      "Total   :: ==============\n",
      "Grade   : A\n"
     ]
    }
   ],
   "source": [
    "def print_score(label, score):\n",
    "    print(f\"{label:8}\", end=': ')\n",
    "    print(\"=\" * (score // 5))\n",
    "project_score = int(input(\"Enter project score: \"))\n",
    "exam_score = int(input(\"Enter exam score: \"))\n",
    "total_score = project_score + exam_score\n",
    "if total_score >= 60 and project_score >= 25 and exam_score >= 25:\n",
    "    grade = \"A\"\n",
    "elif total_score >= 50 and (project_score >= 25 or exam_score >= 25):\n",
    "    grade = \"B\"\n",
    "elif total_score >= 40:\n",
    "    grade = \"C\"\n",
    "else:\n",
    "    grade = \"D\"\n",
    "print(\"\\nTotal: \" + str(total_score))\n",
    "print_score(\"Project :\", project_score)\n",
    "print_score(\"Exam    :\", exam_score)\n",
    "print_score(\"Total   :\", total_score)\n",
    "print(\"Grade   : \" + grade)\n"
   ]
  },
  {
   "cell_type": "markdown",
   "id": "ba9f344e",
   "metadata": {},
   "source": [
    "### 4"
   ]
  },
  {
   "cell_type": "code",
   "execution_count": 20,
   "id": "889f2fec",
   "metadata": {},
   "outputs": [
    {
     "name": "stdout",
     "output_type": "stream",
     "text": [
      "Enter project score: 50\n",
      "Enter exam score: 20\n",
      "\n",
      "Total: 70\n",
      "Project :: ==========\n",
      "Exam    :: ====\n",
      "Total   :: ==============\n",
      "Grade   : B\n"
     ]
    }
   ],
   "source": [
    "# Function to calculate the grade\n",
    "def calculate_grade(project_score, exam_score):\n",
    "    total = project_score + exam_score\n",
    "    if total >= 60 and project_score >= 25 and exam_score >= 25:\n",
    "        return 'A'\n",
    "    elif total >= 50 and (project_score >= 25 or exam_score >= 25):\n",
    "        return 'B'\n",
    "    elif total >= 40:\n",
    "        return 'C'\n",
    "    else:\n",
    "        return 'D'\n",
    "\n",
    "# Function to print a score with a bar chart\n",
    "def print_score(label, score):\n",
    "    print(f\"{label:8}\", end=': ')\n",
    "    print(\"=\" * (score // 5))\n",
    "\n",
    "# Read project score from the user\n",
    "project_score = int(input(\"Enter project score: \"))\n",
    "\n",
    "# Read exam score from the user\n",
    "exam_score = int(input(\"Enter exam score: \"))\n",
    "\n",
    "# Calculate the total score\n",
    "total_score = project_score + exam_score\n",
    "\n",
    "# Determine the grade using the calculate_grade function\n",
    "grade = calculate_grade(project_score, exam_score)\n",
    "\n",
    "# Print the results with the print_score function\n",
    "print(\"\\nTotal: \" + str(total_score))\n",
    "print_score(\"Project :\", project_score)\n",
    "print_score(\"Exam    :\", exam_score)\n",
    "print_score(\"Total   :\", total_score)\n",
    "print(\"Grade   : \" + grade)\n"
   ]
  },
  {
   "cell_type": "markdown",
   "id": "e0d4dad0",
   "metadata": {},
   "source": [
    "### 5"
   ]
  },
  {
   "cell_type": "code",
   "execution_count": 12,
   "id": "d305bf1a",
   "metadata": {},
   "outputs": [
    {
     "name": "stdout",
     "output_type": "stream",
     "text": [
      "Enter your name: sandhra\n",
      "Enter your project score: 50\n",
      "Enter your exam score: 40\n",
      "\n",
      "\n"
     ]
    }
   ],
   "source": [
    "def print_score(name, value):\n",
    "    print()\n",
    "\n",
    "def calculate_grade(project, exam):\n",
    "    print()\n",
    "\n",
    "def main():\n",
    "    \n",
    "    name = input(\"Enter your name: \")\n",
    "    project_score = float(input(\"Enter your project score: \"))\n",
    "    exam_score = float(input(\"Enter your exam score: \"))\n",
    "\n",
    "    grade = calculate_grade(project_score, exam_score)\n",
    "    print_score(name, grade)\n",
    "\n",
    "if __name__ == \"__main__\":\n",
    "    main()\n"
   ]
  },
  {
   "cell_type": "markdown",
   "id": "09203f25",
   "metadata": {},
   "source": [
    "### 6"
   ]
  },
  {
   "cell_type": "code",
   "execution_count": 21,
   "id": "0ce93531",
   "metadata": {},
   "outputs": [
    {
     "name": "stdout",
     "output_type": "stream",
     "text": [
      "Enter project score:40\n",
      "Enter exam score:30\n",
      "Grade C\n"
     ]
    }
   ],
   "source": [
    "def read_number(a):\n",
    "    while True:\n",
    "        try:\n",
    "            return float(input(a))\n",
    "        except ValueError:\n",
    "            print(\"Invalid input. Please enter a valid number.\")\n",
    "\n",
    "def calculate_grade(project, exam):\n",
    "    total_score = project + exam\n",
    "    if total_score >= 90:\n",
    "        return 'A'\n",
    "    elif 80 <= total_score < 90:\n",
    "        return 'B'\n",
    "    elif 70 <= total_score < 80:\n",
    "        return 'C'\n",
    "    elif 60 <= total_score < 70:\n",
    "        return 'D'\n",
    "    else:\n",
    "        return 'F'\n",
    "\n",
    "def print_report(project_score, exam_score, grade):\n",
    "    print('Grade', grade)\n",
    "main()\n"
   ]
  },
  {
   "cell_type": "code",
   "execution_count": null,
   "id": "8eac83b3",
   "metadata": {},
   "outputs": [],
   "source": []
  }
 ],
 "metadata": {
  "kernelspec": {
   "display_name": "Python 3 (ipykernel)",
   "language": "python",
   "name": "python3"
  },
  "language_info": {
   "codemirror_mode": {
    "name": "ipython",
    "version": 3
   },
   "file_extension": ".py",
   "mimetype": "text/x-python",
   "name": "python",
   "nbconvert_exporter": "python",
   "pygments_lexer": "ipython3",
   "version": "3.11.4"
  }
 },
 "nbformat": 4,
 "nbformat_minor": 5
}
