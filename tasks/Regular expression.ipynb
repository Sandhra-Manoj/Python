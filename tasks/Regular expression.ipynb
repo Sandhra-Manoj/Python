{
 "cells": [
  {
   "cell_type": "markdown",
   "id": "6a86978c",
   "metadata": {},
   "source": [
    "### 1"
   ]
  },
  {
   "cell_type": "code",
   "execution_count": 14,
   "id": "8504932c",
   "metadata": {},
   "outputs": [
    {
     "name": "stdout",
     "output_type": "stream",
     "text": [
      "Match!\n"
     ]
    }
   ],
   "source": [
    "import re\n",
    "s = \"sss@gmail.com\"\n",
    "if re.search(\"[\\w\\.-]+@[\\w\\.-]+\", s):\n",
    "    print(\"Match!\")\n",
    "else: print(\"Not a match!\")"
   ]
  },
  {
   "cell_type": "markdown",
   "id": "15e220be",
   "metadata": {},
   "source": [
    "### 2"
   ]
  },
  {
   "cell_type": "code",
   "execution_count": 6,
   "id": "02a05c2f",
   "metadata": {},
   "outputs": [
    {
     "name": "stdout",
     "output_type": "stream",
     "text": [
      "Match!\n"
     ]
    }
   ],
   "source": [
    "import re\n",
    "s = \"1999-12-08\"\n",
    "if re.search(\"^\\d{4}-\\d{2}-\\d{2}$\", s):\n",
    "    print(\"Match!\")\n",
    "else: print(\"Not a match!\")"
   ]
  },
  {
   "cell_type": "markdown",
   "id": "33209b36",
   "metadata": {},
   "source": [
    "### 3"
   ]
  },
  {
   "cell_type": "code",
   "execution_count": 24,
   "id": "0dc09acf",
   "metadata": {},
   "outputs": [
    {
     "name": "stdout",
     "output_type": "stream",
     "text": [
      "Match!\n"
     ]
    }
   ],
   "source": [
    "s=\"1,2,3,4,5,6,7,8,9,10\"\n",
    "if re.search(\"[13579]\",s):\n",
    "    print(\"Match!\")\n",
    "else: print(\"Not a match!\")"
   ]
  },
  {
   "cell_type": "markdown",
   "id": "19d2a758",
   "metadata": {},
   "source": [
    "### 4"
   ]
  },
  {
   "cell_type": "code",
   "execution_count": 29,
   "id": "e59e8936",
   "metadata": {},
   "outputs": [
    {
     "name": "stdout",
     "output_type": "stream",
     "text": [
      "Match!\n"
     ]
    }
   ],
   "source": [
    "s=\"Hello world\"\n",
    "if re.search(\"^[a-zA-Z\\s]+$\",s):\n",
    "    print(\"Match!\")\n",
    "else: print(\"Not a match!\")"
   ]
  },
  {
   "cell_type": "markdown",
   "id": "74301ff2",
   "metadata": {},
   "source": [
    "### 5"
   ]
  },
  {
   "cell_type": "code",
   "execution_count": 2,
   "id": "0d8b720c",
   "metadata": {},
   "outputs": [
    {
     "name": "stdout",
     "output_type": "stream",
     "text": [
      "ice cream: Match!\n",
      "banana: Not a match!\n",
      "ant: Match!\n"
     ]
    }
   ],
   "source": [
    "import re\n",
    "s = [\"ice cream\", \"banana\", \"ant\"]\n",
    "\n",
    "for word in s:\n",
    "    if re.search(\"^[aeiouAEIOU].*[bcdfghjklmnpqrstvwxyzBCDFGHJKLMNPQRSTVWXYZ]$\", word):\n",
    "        print(f\"{word}: Match!\")\n",
    "    else:\n",
    "        print(f\"{word}: Not a match!\")\n"
   ]
  },
  {
   "cell_type": "markdown",
   "id": "df9f53b3",
   "metadata": {},
   "source": [
    "### 6"
   ]
  },
  {
   "cell_type": "code",
   "execution_count": 27,
   "id": "0ca9a47f",
   "metadata": {},
   "outputs": [
    {
     "name": "stdout",
     "output_type": "stream",
     "text": [
      "Not a match!\n"
     ]
    }
   ],
   "source": [
    "import re\n",
    "s = \"python\"\n",
    "if re.search(r\"\\b\\w{2}python\\w{2}\\b\", s, re.IGNORECASE):\n",
    "    print(\"Match!\")\n",
    "else:\n",
    "    print(\"Not a match!\")\n"
   ]
  },
  {
   "cell_type": "markdown",
   "id": "78a98b8f",
   "metadata": {},
   "source": [
    "### 7"
   ]
  },
  {
   "cell_type": "code",
   "execution_count": 53,
   "id": "1b660f4a",
   "metadata": {},
   "outputs": [
    {
     "name": "stdout",
     "output_type": "stream",
     "text": [
      "Match!\n"
     ]
    }
   ],
   "source": [
    "s=\"hello world\"\n",
    "if re.search(\"[a-z]{3,}\",s):\n",
    "    print(\"Match!\")\n",
    "else: print(\"Not a match!\")"
   ]
  },
  {
   "cell_type": "markdown",
   "id": "92028847",
   "metadata": {},
   "source": [
    "### 8"
   ]
  },
  {
   "cell_type": "code",
   "execution_count": 4,
   "id": "856cd849",
   "metadata": {},
   "outputs": [
    {
     "name": "stdout",
     "output_type": "stream",
     "text": [
      "Matched: 192.168.0.1\n"
     ]
    }
   ],
   "source": [
    "import re\n",
    "ipv4 = r'\\b(?:\\d{1,3}\\.){3}\\d{1,3}\\b'\n",
    "x = \"This is an example IP address: 192.168.0.1\"\n",
    "matches = re.search(ipv4, x)\n",
    "if matches:\n",
    "    print(f\"Matched: {matches.group()}\")\n",
    "else:\n",
    "    print(\"No valid IPv4 address found.\")\n"
   ]
  },
  {
   "cell_type": "code",
   "execution_count": null,
   "id": "138b3a96",
   "metadata": {},
   "outputs": [],
   "source": []
  }
 ],
 "metadata": {
  "kernelspec": {
   "display_name": "Python 3 (ipykernel)",
   "language": "python",
   "name": "python3"
  },
  "language_info": {
   "codemirror_mode": {
    "name": "ipython",
    "version": 3
   },
   "file_extension": ".py",
   "mimetype": "text/x-python",
   "name": "python",
   "nbconvert_exporter": "python",
   "pygments_lexer": "ipython3",
   "version": "3.11.4"
  }
 },
 "nbformat": 4,
 "nbformat_minor": 5
}
