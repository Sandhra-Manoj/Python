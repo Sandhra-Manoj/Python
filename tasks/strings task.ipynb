{
 "cells": [
  {
   "cell_type": "markdown",
   "id": "c4d2d070",
   "metadata": {},
   "source": [
    "### 1. Print"
   ]
  },
  {
   "cell_type": "code",
   "execution_count": 1,
   "id": "fcf8e4ae",
   "metadata": {},
   "outputs": [
    {
     "name": "stdout",
     "output_type": "stream",
     "text": [
      "Hello  How are You?\n"
     ]
    }
   ],
   "source": [
    "a = \"Hello \"\n",
    "b = \"How are You?\"\n",
    "print(a,b)"
   ]
  },
  {
   "cell_type": "markdown",
   "id": "32ce7c3c",
   "metadata": {},
   "source": [
    "### 2. Message"
   ]
  },
  {
   "cell_type": "code",
   "execution_count": 1,
   "id": "8a31d76c",
   "metadata": {},
   "outputs": [
    {
     "name": "stdout",
     "output_type": "stream",
     "text": [
      "Enter your name: sandhra\n",
      "Have a nice Day sandhra\n"
     ]
    }
   ],
   "source": [
    "a=input(\"Enter your name: \")\n",
    "print(\"Have a nice Day \" + a)"
   ]
  },
  {
   "cell_type": "markdown",
   "id": "78ea3b08",
   "metadata": {},
   "source": [
    "### 3. Sum of 2 numbers"
   ]
  },
  {
   "cell_type": "code",
   "execution_count": 1,
   "id": "aa49ff59",
   "metadata": {},
   "outputs": [
    {
     "name": "stdout",
     "output_type": "stream",
     "text": [
      "Enter the first number: 1\n",
      "Enter the second number: 2\n",
      "3\n"
     ]
    }
   ],
   "source": [
    "a =int(input(\"Enter the first number: \"))\n",
    "b =int(input(\"Enter the second number: \"))\n",
    "print(a+b)"
   ]
  },
  {
   "cell_type": "markdown",
   "id": "a6f742eb",
   "metadata": {},
   "source": [
    "### 4. String length"
   ]
  },
  {
   "cell_type": "code",
   "execution_count": 2,
   "id": "c3416244",
   "metadata": {},
   "outputs": [
    {
     "name": "stdout",
     "output_type": "stream",
     "text": [
      "Enter a string: sandhrakmanoj\n",
      "13\n"
     ]
    }
   ],
   "source": [
    "a =input(\"Enter a string: \")\n",
    "b =len(a)\n",
    "print(b)\n"
   ]
  },
  {
   "cell_type": "markdown",
   "id": "7b902b01",
   "metadata": {},
   "source": [
    "### 5. Sentence length"
   ]
  },
  {
   "cell_type": "code",
   "execution_count": 2,
   "id": "81c8586e",
   "metadata": {},
   "outputs": [
    {
     "name": "stdout",
     "output_type": "stream",
     "text": [
      "Enter a sentence: sandhra manoj kumar\n",
      "3\n"
     ]
    }
   ],
   "source": [
    "sentence = input(\"Enter a sentence: \")\n",
    "print(len(sentence.split()))\n"
   ]
  },
  {
   "cell_type": "markdown",
   "id": "576fd920",
   "metadata": {},
   "source": [
    "### 6.  Count Uppercase"
   ]
  },
  {
   "cell_type": "code",
   "execution_count": 3,
   "id": "32f8aee4",
   "metadata": {},
   "outputs": [
    {
     "name": "stdout",
     "output_type": "stream",
     "text": [
      "Enter a string: Sandhra K ManoJ\n",
      "Number of uppercase letters:  4\n"
     ]
    }
   ],
   "source": [
    "input_string = input(\"Enter a string: \")\n",
    "uppercase_count = sum(map(str.isupper,input_string))\n",
    "\n",
    "print(\"Number of uppercase letters: \", uppercase_count)"
   ]
  },
  {
   "cell_type": "markdown",
   "id": "7387711f",
   "metadata": {},
   "source": [
    "### 7. Convert uppercase"
   ]
  },
  {
   "cell_type": "code",
   "execution_count": 5,
   "id": "856d12ed",
   "metadata": {},
   "outputs": [
    {
     "name": "stdout",
     "output_type": "stream",
     "text": [
      "Enter a sentence: sandhra\n",
      "SANDHRA\n"
     ]
    }
   ],
   "source": [
    "a=input(\"Enter a sentence: \")\n",
    "print(a.upper())\n"
   ]
  },
  {
   "cell_type": "markdown",
   "id": "86bef5a1",
   "metadata": {},
   "source": [
    "### 8. Replace letter"
   ]
  },
  {
   "cell_type": "code",
   "execution_count": 1,
   "id": "4f22dd66",
   "metadata": {},
   "outputs": [
    {
     "name": "stdout",
     "output_type": "stream",
     "text": [
      "Enter a string: apple\n",
      "New string: epple\n"
     ]
    }
   ],
   "source": [
    "x = input(\"Enter a string: \")\n",
    "y = x.replace('a', 'e')\n",
    "print(\"New string:\", y)\n"
   ]
  },
  {
   "cell_type": "markdown",
   "id": "e1c2e2c0",
   "metadata": {},
   "source": [
    "### 9. Palindrome"
   ]
  },
  {
   "cell_type": "code",
   "execution_count": 4,
   "id": "71cb240f",
   "metadata": {},
   "outputs": [
    {
     "name": "stdout",
     "output_type": "stream",
     "text": [
      "Enter a string: malayalam\n",
      "The string is a palindrome.\n"
     ]
    }
   ],
   "source": [
    "input_string = input(\"Enter a string: \")\n",
    "reverse_string = input_string[::-1]\n",
    "if input_string == reverse_string:\n",
    "    print(\"The string is a palindrome.\")\n",
    "else:\n",
    "    print(\"The string is not a palindrome.\")\n",
    "\n"
   ]
  },
  {
   "cell_type": "markdown",
   "id": "c9940ade",
   "metadata": {},
   "source": [
    "### 10. Substring"
   ]
  },
  {
   "cell_type": "code",
   "execution_count": 5,
   "id": "42b124c9",
   "metadata": {},
   "outputs": [
    {
     "name": "stdout",
     "output_type": "stream",
     "text": [
      "Enter a string: Hello\n",
      "Enter substring to check: lo\n",
      "yes\n"
     ]
    }
   ],
   "source": [
    "x=input(\"Enter a string: \")\n",
    "y=input(\"Enter substring to check: \")\n",
    "if y in x:\n",
    "    print(\"yes\")\n",
    "else:\n",
    "    print(\"no\")"
   ]
  },
  {
   "cell_type": "markdown",
   "id": "f50998a1",
   "metadata": {},
   "source": [
    "### 11. Reverse the Sentance"
   ]
  },
  {
   "cell_type": "code",
   "execution_count": 10,
   "id": "9e909c8c",
   "metadata": {},
   "outputs": [
    {
     "name": "stdout",
     "output_type": "stream",
     "text": [
      "['world', 'Hello']\n"
     ]
    }
   ],
   "source": [
    "sentance=[\"Hello\" ,\"world\"]\n",
    "sentance.reverse()\n",
    "print(sentance)\n",
    "\n"
   ]
  },
  {
   "cell_type": "markdown",
   "id": "c59cdd0e",
   "metadata": {},
   "source": [
    "### 12. Longest word "
   ]
  },
  {
   "cell_type": "code",
   "execution_count": null,
   "id": "89f962af",
   "metadata": {},
   "outputs": [],
   "source": [
    "x=input(\"Enter a sentance: \")\n",
    "long=max(x.split(),key=len)\n",
    "print(long)"
   ]
  }
 ],
 "metadata": {
  "kernelspec": {
   "display_name": "Python 3 (ipykernel)",
   "language": "python",
   "name": "python3"
  },
  "language_info": {
   "codemirror_mode": {
    "name": "ipython",
    "version": 3
   },
   "file_extension": ".py",
   "mimetype": "text/x-python",
   "name": "python",
   "nbconvert_exporter": "python",
   "pygments_lexer": "ipython3",
   "version": "3.11.4"
  }
 },
 "nbformat": 4,
 "nbformat_minor": 5
}
