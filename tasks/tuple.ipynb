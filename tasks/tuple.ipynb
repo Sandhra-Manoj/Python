{
 "cells": [
  {
   "cell_type": "markdown",
   "id": "858e186d",
   "metadata": {},
   "source": [
    "### 1.max min"
   ]
  },
  {
   "cell_type": "code",
   "execution_count": 9,
   "id": "b28e7373",
   "metadata": {},
   "outputs": [
    {
     "name": "stdout",
     "output_type": "stream",
     "text": [
      "max no is:  6\n",
      "min no is:  1\n"
     ]
    }
   ],
   "source": [
    "x=(1,2,3,4,5,6)\n",
    "max_num=max(x)\n",
    "print(\"max no is: \" ,max_num)\n",
    "\n",
    "min_num=min(x)\n",
    "print(\"min no is: \" ,min_num)"
   ]
  },
  {
   "cell_type": "markdown",
   "id": "71629646",
   "metadata": {},
   "source": [
    "### 2.concatenate"
   ]
  },
  {
   "cell_type": "code",
   "execution_count": 2,
   "id": "8a0f1291",
   "metadata": {},
   "outputs": [
    {
     "name": "stdout",
     "output_type": "stream",
     "text": [
      "((1, 'a'), (2, 'b'), (3, 'c'))\n"
     ]
    }
   ],
   "source": [
    "tuple1 = (1, 2, 3)\n",
    "tuple2 = ('a', 'b', 'c')\n",
    "\n",
    "result = zip(tuple1, tuple2)\n",
    "print(tuple(result))\n"
   ]
  },
  {
   "cell_type": "markdown",
   "id": "1185b37a",
   "metadata": {},
   "source": [
    "### 3.count"
   ]
  },
  {
   "cell_type": "code",
   "execution_count": 16,
   "id": "95742e7d",
   "metadata": {},
   "outputs": [
    {
     "name": "stdout",
     "output_type": "stream",
     "text": [
      "4\n"
     ]
    }
   ],
   "source": [
    "my_tuple=[1,2,3,4,5,2,3,4,1,2,4,5,2]\n",
    "count=my_tuple.count(2)\n",
    "print(count)"
   ]
  },
  {
   "cell_type": "markdown",
   "id": "7f185ceb",
   "metadata": {},
   "source": [
    "### 4.convrt in to dictionary"
   ]
  },
  {
   "cell_type": "code",
   "execution_count": 3,
   "id": "f470ce00",
   "metadata": {},
   "outputs": [
    {
     "name": "stdout",
     "output_type": "stream",
     "text": [
      "{'name': 1, 'age': 2, 'class': 3}\n"
     ]
    }
   ],
   "source": [
    "a=[(\"name\",1),(\"age\",2),(\"class\",3)]\n",
    "dic={}\n",
    "for item in a:\n",
    "    key,value=item\n",
    "    dic[key]=value\n",
    "print(dic)"
   ]
  },
  {
   "cell_type": "markdown",
   "id": "b4c0666a",
   "metadata": {},
   "source": [
    "### 5.slice"
   ]
  },
  {
   "cell_type": "code",
   "execution_count": 11,
   "id": "310c468d",
   "metadata": {},
   "outputs": [
    {
     "name": "stdout",
     "output_type": "stream",
     "text": [
      "enter the slice size: 2\n",
      "[(1, 2), (3, 4), (5, 6), (7, 8), (9,)]\n"
     ]
    }
   ],
   "source": [
    "tuples=(1,2,3,4,5,6,7,8,9)\n",
    "x=int(input(\"enter the slice size: \"))\n",
    "sub_tuples=[]\n",
    "for i in range(0,len(tuples),x):\n",
    "    sub_tuple=tuples[i:i+x]\n",
    "    sub_tuples.append(sub_tuple)\n",
    "print(sub_tuples)"
   ]
  },
  {
   "cell_type": "markdown",
   "id": "4f4118bb",
   "metadata": {},
   "source": [
    "### 6. nested"
   ]
  },
  {
   "cell_type": "code",
   "execution_count": 3,
   "id": "d94312d5",
   "metadata": {},
   "outputs": [
    {
     "name": "stdout",
     "output_type": "stream",
     "text": [
      "7\n"
     ]
    }
   ],
   "source": [
    "nested_list=((1, 2, 3), (4, 5, 6), (7, 8, 9))\n",
    "a=nested_list[2][0]\n",
    "\n",
    "print(a)\n"
   ]
  },
  {
   "cell_type": "markdown",
   "id": "8cd82da1",
   "metadata": {},
   "source": [
    "### 7. remove element"
   ]
  },
  {
   "cell_type": "code",
   "execution_count": 27,
   "id": "99f03ea2",
   "metadata": {},
   "outputs": [
    {
     "name": "stdout",
     "output_type": "stream",
     "text": [
      "('banana', 'cherry')\n"
     ]
    }
   ],
   "source": [
    "my_tuple=(\"apple\",\"banana\",\"cherry\")\n",
    "y=list(my_tuple)\n",
    "y.remove(\"apple\")\n",
    "my_tuple=tuple(y)\n",
    "\n",
    "print(my_tuple)"
   ]
  },
  {
   "cell_type": "markdown",
   "id": "69637600",
   "metadata": {},
   "source": [
    "### 8.merge and remove duplicate"
   ]
  },
  {
   "cell_type": "code",
   "execution_count": 19,
   "id": "a0599109",
   "metadata": {},
   "outputs": [
    {
     "name": "stdout",
     "output_type": "stream",
     "text": [
      "{1, 2, 3, 4, 5, 6, 7, 8, 9, 10}\n"
     ]
    }
   ],
   "source": [
    "x=(1,3,5,7,9,10)\n",
    "y=(1,2,4,6,8,10)\n",
    "z=x+y\n",
    "a=(set(z))\n",
    "print(a)"
   ]
  },
  {
   "cell_type": "markdown",
   "id": "347ffa72",
   "metadata": {},
   "source": [
    "### 9.unpack"
   ]
  },
  {
   "cell_type": "code",
   "execution_count": 42,
   "id": "7454b047",
   "metadata": {},
   "outputs": [
    {
     "name": "stdout",
     "output_type": "stream",
     "text": [
      "5\n",
      "apple\n",
      "['banana', 'cherry', 'mango']\n",
      "orange\n"
     ]
    }
   ],
   "source": [
    "x=(\"apple\",\"banana\",\"cherry\",\"mango\",\"orange\")\n",
    "print(len(x))\n",
    "a,*b,c=x\n",
    "print(a)\n",
    "print(b)\n",
    "print(c)"
   ]
  },
  {
   "cell_type": "markdown",
   "id": "38cb18d8",
   "metadata": {},
   "source": [
    "### 10.index"
   ]
  },
  {
   "cell_type": "code",
   "execution_count": 21,
   "id": "540fd387",
   "metadata": {},
   "outputs": [
    {
     "name": "stdout",
     "output_type": "stream",
     "text": [
      "Enter the element: 5\n",
      "The position of  5 is 4\n"
     ]
    }
   ],
   "source": [
    "tuples=(1,2,3,4,5,6,7,8,9,10)\n",
    "x=int(input(\"Enter the element: \"))\n",
    "y=tuples.index(x)\n",
    "print(\"The position of \",x, \"is\",y)"
   ]
  }
 ],
 "metadata": {
  "kernelspec": {
   "display_name": "Python 3 (ipykernel)",
   "language": "python",
   "name": "python3"
  },
  "language_info": {
   "codemirror_mode": {
    "name": "ipython",
    "version": 3
   },
   "file_extension": ".py",
   "mimetype": "text/x-python",
   "name": "python",
   "nbconvert_exporter": "python",
   "pygments_lexer": "ipython3",
   "version": "3.11.4"
  }
 },
 "nbformat": 4,
 "nbformat_minor": 5
}
