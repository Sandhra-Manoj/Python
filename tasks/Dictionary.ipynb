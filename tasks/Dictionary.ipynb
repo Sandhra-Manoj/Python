{
 "cells": [
  {
   "cell_type": "markdown",
   "id": "d4cf9acc",
   "metadata": {},
   "source": [
    "### 1.ascending and descending"
   ]
  },
  {
   "cell_type": "code",
   "execution_count": 17,
   "id": "370bb85e",
   "metadata": {},
   "outputs": [
    {
     "name": "stdout",
     "output_type": "stream",
     "text": [
      "Ascending Order: [('banana', 1), ('cherry', 2), ('apple', 3), ('orange', 4)]\n",
      "Descending Order: [('orange', 4), ('apple', 3), ('cherry', 2), ('banana', 1)]\n"
     ]
    }
   ],
   "source": [
    "sample_dict={\n",
    "    \"apple\": 3,\n",
    "    \"banana\": 1,\n",
    "    \"cherry\": 2,\n",
    "    \"orange\": 4\n",
    "}\n",
    "dict_ascending = sorted(sample_dict.items(),key=lambda item: item[1])\n",
    "dict_descending =sorted(sample_dict.items(),key=lambda item: item[1], reverse=True)\n",
    "\n",
    "print(\"Ascending Order:\", dict_ascending)\n",
    "print(\"Descending Order:\", dict_descending)\n"
   ]
  },
  {
   "cell_type": "markdown",
   "id": "fe67c949",
   "metadata": {},
   "source": [
    "### 2 "
   ]
  },
  {
   "cell_type": "code",
   "execution_count": 21,
   "id": "c7b8b022",
   "metadata": {},
   "outputs": [
    {
     "name": "stdout",
     "output_type": "stream",
     "text": [
      "The key is exist.\n"
     ]
    }
   ],
   "source": [
    "dict1 ={\"apple\": 3,\n",
    "    \"banana\": 1,\n",
    "    \"cherry\": 2,\n",
    "    \"orange\": 4\n",
    "}\n",
    "   \n",
    "check = \"apple\"\n",
    "if check in dict1:\n",
    "    print(\"The key is exist.\")\n",
    "else:\n",
    "    print(\"The key does not exist.\")\n"
   ]
  },
  {
   "cell_type": "markdown",
   "id": "aad27ee4",
   "metadata": {},
   "source": [
    "### 3"
   ]
  },
  {
   "cell_type": "code",
   "execution_count": 2,
   "id": "07704e2d",
   "metadata": {},
   "outputs": [
    {
     "name": "stdout",
     "output_type": "stream",
     "text": [
      "{1: 1, 2: 4, 3: 9, 4: 16, 5: 25}\n"
     ]
    }
   ],
   "source": [
    "n=5\n",
    "dict1={}\n",
    "for x in range(1,n+1):\n",
    "    dict1[x]=x*x\n",
    "print(dict1)"
   ]
  },
  {
   "cell_type": "markdown",
   "id": "32d64102",
   "metadata": {},
   "source": [
    "### 4"
   ]
  },
  {
   "cell_type": "code",
   "execution_count": 26,
   "id": "02c3507a",
   "metadata": {},
   "outputs": [
    {
     "name": "stdout",
     "output_type": "stream",
     "text": [
      "maximum value:  4\n",
      "minimum value:  1\n"
     ]
    }
   ],
   "source": [
    "dictnew ={\"apple\": 3,\n",
    "    \"banana\": 1,\n",
    "    \"cherry\": 2,\n",
    "    \"orange\": 4\n",
    "}\n",
    "maximum = (max(dictnew.values()))\n",
    "minimum = (min(dictnew.values()))\n",
    "\n",
    "print(\"maximum value: \", maximum)\n",
    "print(\"minimum value: \", minimum)\n",
    "   "
   ]
  },
  {
   "cell_type": "markdown",
   "id": "c18da5a9",
   "metadata": {},
   "source": [
    "### 5"
   ]
  },
  {
   "cell_type": "code",
   "execution_count": 6,
   "id": "69a52c9a",
   "metadata": {},
   "outputs": [
    {
     "name": "stdout",
     "output_type": "stream",
     "text": [
      "Enter a name: sandhra\n",
      "Enter the age: 24\n",
      "Enter a name: manasa\n",
      "Enter the age: 28\n",
      "Dictionary of names and ages: {'sandhra': 24, 'manasa': 28}\n"
     ]
    }
   ],
   "source": [
    "dict1={}\n",
    "for i in range(2):\n",
    "    name = input(\"Enter a name: \")\n",
    "    age = int(input(\"Enter the age: \"))\n",
    "    dict1[name] = age\n",
    "\n",
    "print(\"Dictionary of names and ages:\", dict1)\n"
   ]
  },
  {
   "cell_type": "markdown",
   "id": "93868d48",
   "metadata": {},
   "source": [
    "### 6"
   ]
  },
  {
   "cell_type": "code",
   "execution_count": 8,
   "id": "2f1bc296",
   "metadata": {},
   "outputs": [
    {
     "name": "stdout",
     "output_type": "stream",
     "text": [
      "Words with length: {6: ['banana', 'cherry'], 5: ['apple', 'grape'], 4: ['date'], 3: ['fig']}\n"
     ]
    }
   ],
   "source": [
    "words = [\"banana\",\"apple\", \"cherry\", \"date\", \"fig\", \"grape\"]\n",
    "new_dict={}\n",
    "for word in words:\n",
    "        if len(word) not in new_dict:\n",
    "            new_dict[len(word)]=[word]\n",
    "        else:\n",
    "            new_dict[len(word)].append(word)\n",
    "print(\"Words with length:\", new_dict)\n"
   ]
  },
  {
   "cell_type": "markdown",
   "id": "b98df54d",
   "metadata": {},
   "source": [
    "### 7"
   ]
  },
  {
   "cell_type": "code",
   "execution_count": 9,
   "id": "3b6c0219",
   "metadata": {},
   "outputs": [
    {
     "name": "stdout",
     "output_type": "stream",
     "text": [
      "{(1, 2): 3, (3, 4): 7, (5, 6): 11, (7, 8): 15, (9, 10): 19}\n"
     ]
    }
   ],
   "source": [
    "dict1={}\n",
    "tuples=[(1,2),(3,4),(5,6),(7,8),(9,10)]\n",
    "for tup in tuples:\n",
    "    key=tup\n",
    "    value=sum(tup)\n",
    "    dict1[key]=value\n",
    "print(dict1)"
   ]
  },
  {
   "cell_type": "code",
   "execution_count": 2,
   "id": "2a41c4e6",
   "metadata": {},
   "outputs": [
    {
     "name": "stdout",
     "output_type": "stream",
     "text": [
      "Intersection of the dictionaries:\n",
      "{'b': 2, 'c': 3}\n"
     ]
    }
   ],
   "source": [
    "dict1 = {\"a\": 1, \"b\": 2, \"c\": 3}\n",
    "dict2 = {\"b\": 2, \"c\": 3, \"d\": 4}\n",
    "intersection = {key: dict1[key] for key in dict1 if key in dict2}\n",
    "print(\"Intersection of the dictionaries:\")\n",
    "print(intersection)\n"
   ]
  }
 ],
 "metadata": {
  "kernelspec": {
   "display_name": "Python 3 (ipykernel)",
   "language": "python",
   "name": "python3"
  },
  "language_info": {
   "codemirror_mode": {
    "name": "ipython",
    "version": 3
   },
   "file_extension": ".py",
   "mimetype": "text/x-python",
   "name": "python",
   "nbconvert_exporter": "python",
   "pygments_lexer": "ipython3",
   "version": "3.11.4"
  }
 },
 "nbformat": 4,
 "nbformat_minor": 5
}
