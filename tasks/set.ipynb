{
 "cells": [
  {
   "cell_type": "markdown",
   "id": "51875a05",
   "metadata": {},
   "source": [
    "### 1. common elements"
   ]
  },
  {
   "cell_type": "code",
   "execution_count": 1,
   "id": "e93866ad",
   "metadata": {},
   "outputs": [
    {
     "name": "stdout",
     "output_type": "stream",
     "text": [
      "{5, 6}\n"
     ]
    }
   ],
   "source": [
    "a={1,2,3,4,5,6}\n",
    "b={5,6,7,8,9,10}\n",
    "common=a.intersection(b)\n",
    "print(common)"
   ]
  },
  {
   "cell_type": "markdown",
   "id": "6f0bb134",
   "metadata": {},
   "source": [
    "### 2.Difference "
   ]
  },
  {
   "cell_type": "code",
   "execution_count": 3,
   "id": "63536276",
   "metadata": {},
   "outputs": [
    {
     "name": "stdout",
     "output_type": "stream",
     "text": [
      "{8, 9, 5}\n"
     ]
    }
   ],
   "source": [
    "a={3,5,8,2,9,1}\n",
    "b={3,1,4,0,7,2}\n",
    "diff=a.difference(b)\n",
    "print(diff)\n"
   ]
  },
  {
   "cell_type": "markdown",
   "id": "37716e59",
   "metadata": {},
   "source": [
    "### 3.symmetric"
   ]
  },
  {
   "cell_type": "code",
   "execution_count": 1,
   "id": "aa4599d0",
   "metadata": {},
   "outputs": [
    {
     "name": "stdout",
     "output_type": "stream",
     "text": [
      "{2, 4, 7, 9}\n"
     ]
    }
   ],
   "source": [
    "x={1,3,5,7,9}\n",
    "y={1,2,3,4,5}\n",
    "symmetric=x.symmetric_difference(y)\n",
    "print(symmetric)"
   ]
  },
  {
   "cell_type": "markdown",
   "id": "4784d77a",
   "metadata": {},
   "source": [
    "### 4.Remove duplicates"
   ]
  },
  {
   "cell_type": "code",
   "execution_count": 2,
   "id": "251baeff",
   "metadata": {},
   "outputs": [
    {
     "name": "stdout",
     "output_type": "stream",
     "text": [
      "{1, 2, 3, 4, 5, 6, 7, 8, 9}\n"
     ]
    }
   ],
   "source": [
    "a=[1,2,3,1,2,3,4,5,6,4,5,6,7,8,9]\n",
    "print(set(list(a)))"
   ]
  },
  {
   "cell_type": "markdown",
   "id": "64830cf3",
   "metadata": {},
   "source": [
    "### 5.exclude common one"
   ]
  },
  {
   "cell_type": "code",
   "execution_count": 2,
   "id": "8e41b0b6",
   "metadata": {},
   "outputs": [
    {
     "name": "stdout",
     "output_type": "stream",
     "text": [
      "{1, 4, 7, 8}\n"
     ]
    }
   ],
   "source": [
    "a={2,3,5,6,7,8}\n",
    "b={1,2,3,4,5,6}\n",
    "c=a.symmetric_difference(b)\n",
    "print(c)"
   ]
  },
  {
   "cell_type": "markdown",
   "id": "dea50bd0",
   "metadata": {},
   "source": [
    "### 6.subset of another"
   ]
  },
  {
   "cell_type": "code",
   "execution_count": 2,
   "id": "23963816",
   "metadata": {},
   "outputs": [
    {
     "name": "stdout",
     "output_type": "stream",
     "text": [
      "It is a subset\n"
     ]
    }
   ],
   "source": [
    "a={6,12,18,24,30,36}\n",
    "b={6,24}\n",
    "subset=b.issubset(a)\n",
    "if subset:\n",
    "    print(\"It is a subset\")\n",
    "else:\n",
    "    print(\"It is not a subset\")"
   ]
  },
  {
   "cell_type": "markdown",
   "id": "3d74d340",
   "metadata": {},
   "source": [
    "### 7.max min"
   ]
  },
  {
   "cell_type": "code",
   "execution_count": 2,
   "id": "852551a6",
   "metadata": {},
   "outputs": [
    {
     "name": "stdout",
     "output_type": "stream",
     "text": [
      "30\n",
      "5\n"
     ]
    }
   ],
   "source": [
    "numbers = {5,10,15,20,25,30}\n",
    "max_num = max(numbers)\n",
    "print(max_num)\n",
    "\n",
    "min_num = min(numbers)\n",
    "print(min_num)"
   ]
  },
  {
   "cell_type": "markdown",
   "id": "9cfd4149",
   "metadata": {},
   "source": [
    "### 8.remove all elements"
   ]
  },
  {
   "cell_type": "code",
   "execution_count": 20,
   "id": "29c7cec1",
   "metadata": {},
   "outputs": [
    {
     "name": "stdout",
     "output_type": "stream",
     "text": [
      "set()\n"
     ]
    }
   ],
   "source": [
    "elements={\"red\",\"green\",\"blue\"}\n",
    "elements.clear()\n",
    "\n",
    "print(elements)\n"
   ]
  },
  {
   "cell_type": "markdown",
   "id": "556dfb3d",
   "metadata": {},
   "source": [
    "### 9.update sets"
   ]
  },
  {
   "cell_type": "code",
   "execution_count": 4,
   "id": "4fa688b1",
   "metadata": {},
   "outputs": [
    {
     "name": "stdout",
     "output_type": "stream",
     "text": [
      "{1, 2, 3, 4, 5, 6, 7, 8, 9, 10, 11}\n"
     ]
    }
   ],
   "source": [
    "update={1,2,3,4,5,6}\n",
    "update2={1,3,4,4,6}\n",
    "update3={7,8,9,10,11}\n",
    "new=update.union(update2)\n",
    "new2=new.union(update3)\n",
    "print(new2)"
   ]
  },
  {
   "cell_type": "markdown",
   "id": "3f2b7157",
   "metadata": {},
   "source": [
    "### 10.sum elements"
   ]
  },
  {
   "cell_type": "code",
   "execution_count": 24,
   "id": "963c1091",
   "metadata": {},
   "outputs": [
    {
     "name": "stdout",
     "output_type": "stream",
     "text": [
      "45\n"
     ]
    }
   ],
   "source": [
    "element={1,2,3,4,5,6,7,8,9}\n",
    "sum_element=sum(element)\n",
    "print(sum_element)"
   ]
  }
 ],
 "metadata": {
  "kernelspec": {
   "display_name": "Python 3 (ipykernel)",
   "language": "python",
   "name": "python3"
  },
  "language_info": {
   "codemirror_mode": {
    "name": "ipython",
    "version": 3
   },
   "file_extension": ".py",
   "mimetype": "text/x-python",
   "name": "python",
   "nbconvert_exporter": "python",
   "pygments_lexer": "ipython3",
   "version": "3.11.4"
  }
 },
 "nbformat": 4,
 "nbformat_minor": 5
}
