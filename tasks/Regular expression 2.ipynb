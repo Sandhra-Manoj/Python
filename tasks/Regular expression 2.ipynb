{
 "cells": [
  {
   "cell_type": "markdown",
   "id": "55469101",
   "metadata": {},
   "source": [
    "### 1"
   ]
  },
  {
   "cell_type": "code",
   "execution_count": 24,
   "id": "9827095c",
   "metadata": {},
   "outputs": [
    {
     "name": "stdout",
     "output_type": "stream",
     "text": [
      "Matched String: 192.168.1.1\n",
      "Starting Position: 0\n"
     ]
    }
   ],
   "source": [
    "import re\n",
    "\n",
    "ipv4_pattern = re.compile(r'^(\\d{1,3}\\.){3}\\d{1,3}$')\n",
    "ip_address = \"192.168.1.1\"\n",
    "match = ipv4_pattern.match(ip_address)\n",
    "\n",
    "if match:\n",
    "    matched_string = match.group(0)\n",
    "    start_position = match.start()\n",
    "    print(f\"Matched String: {matched_string}\")\n",
    "    print(f\"Starting Position: {start_position}\")\n",
    "else:\n",
    "    print(\"No match found.\")\n"
   ]
  },
  {
   "cell_type": "markdown",
   "id": "b23f25e9",
   "metadata": {},
   "source": [
    "### 2"
   ]
  },
  {
   "cell_type": "code",
   "execution_count": 25,
   "id": "bff8c270",
   "metadata": {},
   "outputs": [
    {
     "name": "stdout",
     "output_type": "stream",
     "text": [
      "['2023-04-13']\n"
     ]
    }
   ],
   "source": [
    "import re\n",
    "date = re.compile(r'\\b\\d{4}-\\d{2}-\\d{2}\\b')\n",
    "x = \"Today's date is 2023-04-13\"\n",
    "d = re.findall(date, x)\n",
    "print(d)\n"
   ]
  },
  {
   "cell_type": "markdown",
   "id": "efc02625",
   "metadata": {},
   "source": [
    "### 3"
   ]
  },
  {
   "cell_type": "code",
   "execution_count": 5,
   "id": "1fb1ffee",
   "metadata": {},
   "outputs": [
    {
     "name": "stdout",
     "output_type": "stream",
     "text": [
      "['sandhra@gmail.com']\n"
     ]
    }
   ],
   "source": [
    "import re\n",
    "mail = re.compile(\"[\\w\\.-]+@[\\w\\.-]+\")\n",
    "x = \"sandhra@gmail.com\"\n",
    "d = re.findall(mail, x)\n",
    "print(d)\n"
   ]
  },
  {
   "cell_type": "markdown",
   "id": "704b9ba1",
   "metadata": {},
   "source": [
    "### 4"
   ]
  },
  {
   "cell_type": "code",
   "execution_count": 4,
   "id": "90b72d3c",
   "metadata": {},
   "outputs": [
    {
     "name": "stdout",
     "output_type": "stream",
     "text": [
      "Visit [URL REDACTED] for more information, or visit [URL REDACTED] for secure access.\n"
     ]
    }
   ],
   "source": [
    "import re\n",
    "url= re.compile(r'https?://www\\.[\\w\\.-]+')\n",
    "x = \"Visit http://www.example.com for more information, or visit https://www.example.com for secure access.\"\n",
    "d = re.sub(url, '[URL REDACTED]', x)\n",
    "print(d)"
   ]
  },
  {
   "cell_type": "markdown",
   "id": "2555e4b6",
   "metadata": {},
   "source": [
    "### 5"
   ]
  },
  {
   "cell_type": "code",
   "execution_count": 4,
   "id": "1f4ec03b",
   "metadata": {},
   "outputs": [
    {
     "name": "stdout",
     "output_type": "stream",
     "text": [
      "Matched: 3.14, Start: 33, End: 37\n",
      "Matched: 2.71828, Start: 62, End: 69\n"
     ]
    }
   ],
   "source": [
    "import re\n",
    "pattern = r'\\d+(\\.\\d+)?'\n",
    "a = \"The value of pi is approximately 3.14, and e is approximately 2.71828.\"\n",
    "b = re.finditer(pattern, a)\n",
    "for match in b:\n",
    "    matched_string = match.group(0)\n",
    "    start_position = match.start()\n",
    "    end_position = match.end()\n",
    "    print(f\"Matched: {matched_string}, Start: {start_position}, End: {end_position}\")\n"
   ]
  },
  {
   "cell_type": "markdown",
   "id": "17f7e598",
   "metadata": {},
   "source": [
    "### 6"
   ]
  },
  {
   "cell_type": "code",
   "execution_count": 20,
   "id": "7d9814cc",
   "metadata": {},
   "outputs": [
    {
     "name": "stdout",
     "output_type": "stream",
     "text": [
      "['1234-5678-9012-3456']\n"
     ]
    }
   ],
   "source": [
    "import re\n",
    "credit_card = r'\\b\\d{4}-\\d{4}-\\d{4}-\\d{4}\\b'\n",
    "a = \"My credit card number is 1234-5678-9012-3456.\"\n",
    "b = re.findall(credit_card, a)\n",
    "print(b)\n"
   ]
  },
  {
   "cell_type": "markdown",
   "id": "b5ca9fdf",
   "metadata": {},
   "source": [
    "### 7"
   ]
  },
  {
   "cell_type": "code",
   "execution_count": 9,
   "id": "ca18310c",
   "metadata": {},
   "outputs": [
    {
     "name": "stdout",
     "output_type": "stream",
     "text": [
      "Please call [PHONE REDACTED] for assistance.\n"
     ]
    }
   ],
   "source": [
    "import re\n",
    "phone_num = r'\\(\\d{3}\\) \\d{3}-\\d{4}'\n",
    "x = \"Please call (555) 123-4567 for assistance.\"\n",
    "y = re.sub(phone_num, '[PHONE REDACTED]', x)\n",
    "print(y)\n"
   ]
  },
  {
   "cell_type": "markdown",
   "id": "e249abca",
   "metadata": {},
   "source": [
    "### 8"
   ]
  },
  {
   "cell_type": "code",
   "execution_count": 18,
   "id": "5b429dcf",
   "metadata": {},
   "outputs": [
    {
     "name": "stdout",
     "output_type": "stream",
     "text": [
      "No valid time found.\n"
     ]
    }
   ],
   "source": [
    "import re\n",
    "time = r'([01]\\d|2[0-3]):[0-5]\\d:[0-5]\\d'\n",
    "x = \"The current time is 23:09:42.\"\n",
    "y = re.match(time, x)\n",
    "if y:\n",
    "    matched_string = y.group(0)\n",
    "    start_position = y.start()\n",
    "    print(f\"Matched: {matched_string}, Start: {start_position}\")\n",
    "else:\n",
    "    print(\"No valid time found.\")\n"
   ]
  },
  {
   "cell_type": "markdown",
   "id": "0651aad7",
   "metadata": {},
   "source": [
    "### 9"
   ]
  },
  {
   "cell_type": "code",
   "execution_count": 22,
   "id": "d4c08437",
   "metadata": {},
   "outputs": [
    {
     "name": "stdout",
     "output_type": "stream",
     "text": [
      "['jane_smith@mycompany.com']\n"
     ]
    }
   ],
   "source": [
    "import re\n",
    "mail = r'\\b[A-Za-z0-9._%+-]+@(?!example\\.com)\\w+\\.\\w+\\b'\n",
    "x = \"My email is john_doe@example.com, but my colleague's email is jane_smith@mycompany.com.\"\n",
    "y = re.findall(mail, x)\n",
    "print(y)\n"
   ]
  },
  {
   "cell_type": "markdown",
   "id": "7c6ad536",
   "metadata": {},
   "source": [
    "### 10"
   ]
  },
  {
   "cell_type": "code",
   "execution_count": 23,
   "id": "09721f95",
   "metadata": {},
   "outputs": [
    {
     "name": "stdout",
     "output_type": "stream",
     "text": [
      "Visit [URL REDACTED] for more information, or visit [URL REDACTED] for secure access.\n"
     ]
    }
   ],
   "source": [
    "import re\n",
    "url = r'https?://(?!example\\.com)[^\\s]+'\n",
    "x = \"Visit http://www.example.com for more information, or visit http://www.mycompany.com for secure access.\"\n",
    "y = re.sub(url, '[URL REDACTED]', x)\n",
    "print(y)\n"
   ]
  },
  {
   "cell_type": "code",
   "execution_count": null,
   "id": "ba056adf",
   "metadata": {},
   "outputs": [],
   "source": []
  }
 ],
 "metadata": {
  "kernelspec": {
   "display_name": "Python 3 (ipykernel)",
   "language": "python",
   "name": "python3"
  },
  "language_info": {
   "codemirror_mode": {
    "name": "ipython",
    "version": 3
   },
   "file_extension": ".py",
   "mimetype": "text/x-python",
   "name": "python",
   "nbconvert_exporter": "python",
   "pygments_lexer": "ipython3",
   "version": "3.11.4"
  }
 },
 "nbformat": 4,
 "nbformat_minor": 5
}
