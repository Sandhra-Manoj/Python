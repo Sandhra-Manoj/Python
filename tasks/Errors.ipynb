{
 "cells": [
  {
   "cell_type": "markdown",
   "id": "3d77ce65",
   "metadata": {},
   "source": [
    "### 1"
   ]
  },
  {
   "cell_type": "code",
   "execution_count": 3,
   "id": "651cbf50",
   "metadata": {},
   "outputs": [
    {
     "name": "stdout",
     "output_type": "stream",
     "text": [
      "Enter a number: -9\n",
      "Error: Enter a non-negative number.. Please enter a valid number.\n",
      "Enter a number: k\n",
      "Error: invalid literal for int() with base 10: 'k'. Please enter a valid number.\n",
      "Enter a number: 9\n",
      "The square root of 9 is 3.0\n"
     ]
    }
   ],
   "source": [
    "while True:\n",
    "    try:\n",
    "        num = int(input(\"Enter a number: \"))\n",
    "        if num < 0:\n",
    "            raise ValueError(\"Enter a non-negative number.\")\n",
    "        result = num ** 0.5\n",
    "        print(f\"The square root of {num} is {result}\")\n",
    "        break\n",
    "    except ValueError as e:\n",
    "        print(f\"Error: {e}. Please enter a valid number.\")\n"
   ]
  },
  {
   "cell_type": "markdown",
   "id": "6af7ceed",
   "metadata": {},
   "source": [
    "### 2"
   ]
  },
  {
   "cell_type": "code",
   "execution_count": 1,
   "id": "ea1efc42",
   "metadata": {},
   "outputs": [
    {
     "name": "stdout",
     "output_type": "stream",
     "text": [
      "Please enter a list of numbers separated by commas: 1,2,3,4\n",
      "The sum of numbers is 10.0\n"
     ]
    }
   ],
   "source": [
    "while True:\n",
    "    try:\n",
    "        num = input(\"Please enter a list of numbers separated by commas: \").split(',')\n",
    "        num=[float(n)for n in num]\n",
    "        result = sum(num)\n",
    "        print(f\"The sum of numbers is {result}\")\n",
    "        break\n",
    "    except ValueError:\n",
    "        print(f\"Error: Please enter a valid number.\")"
   ]
  },
  {
   "cell_type": "markdown",
   "id": "0bf8be52",
   "metadata": {},
   "source": [
    "### 3"
   ]
  },
  {
   "cell_type": "code",
   "execution_count": 2,
   "id": "691105f5",
   "metadata": {},
   "outputs": [
    {
     "name": "stdout",
     "output_type": "stream",
     "text": [
      "Enter a filename: file.txt\n",
      "Error: File not found. Please enter a valid filename.\n",
      "Enter a filename: newfile.txt\n",
      "sandhraaaa\n",
      "manoj\n",
      "SANDHRA\n",
      "MANOJ\n"
     ]
    }
   ],
   "source": [
    "while True:\n",
    "    try:\n",
    "        filename = input(\"Enter a filename: \")\n",
    "        with open(filename, 'r') as file:\n",
    "            contents = file.read()\n",
    "            print(contents)\n",
    "        break\n",
    "    except FileNotFoundError:\n",
    "        print(\"Error: File not found. Please enter a valid filename.\")\n",
    "    except Exception as e:\n",
    "        print(f\"Error: {e}. Please enter a valid filename.\")\n"
   ]
  },
  {
   "cell_type": "markdown",
   "id": "a10838c8",
   "metadata": {},
   "source": [
    "### 4"
   ]
  },
  {
   "cell_type": "code",
   "execution_count": 5,
   "id": "dfc26196",
   "metadata": {},
   "outputs": [
    {
     "name": "stdout",
     "output_type": "stream",
     "text": [
      "Enter a number: -3\n",
      "Error: Please enter a non-negative number.. Please enter a valid number.\n",
      "Enter a number: 3\n",
      "The factorial of 3 is 6\n"
     ]
    }
   ],
   "source": [
    "import math\n",
    "while True:\n",
    "    try:\n",
    "        num = int(input(\"Enter a number: \"))\n",
    "        if num < 0:\n",
    "            raise ValueError(\"Please enter a non-negative number.\")\n",
    "        result = math.factorial(num)\n",
    "        print(f\"The factorial of {num} is {result}\")\n",
    "        break\n",
    "    except ValueError as e:\n",
    "        print(f\"Error: {e}. Please enter a valid number.\")\n"
   ]
  },
  {
   "cell_type": "markdown",
   "id": "d2580889",
   "metadata": {},
   "source": [
    "### 5"
   ]
  },
  {
   "cell_type": "code",
   "execution_count": 4,
   "id": "d009964f",
   "metadata": {},
   "outputs": [
    {
     "name": "stdout",
     "output_type": "stream",
     "text": [
      "Enter a string: sandhra\n",
      "The length of the string is 7\n"
     ]
    }
   ],
   "source": [
    "while True:\n",
    "    try:\n",
    "        x = input(\"Enter a string: \")\n",
    "        if not x:\n",
    "            raise ValueError(\"Please enter a non-empty string.\")\n",
    "        result = len(x)\n",
    "        print(f\"The length of the string is {result}\")\n",
    "        break\n",
    "    except ValueError as e:\n",
    "        print(f\"Error: {e}. Please enter a valid string.\")\n"
   ]
  },
  {
   "cell_type": "markdown",
   "id": "a2c1713d",
   "metadata": {},
   "source": [
    "### 6"
   ]
  },
  {
   "cell_type": "code",
   "execution_count": 1,
   "id": "ef28cc30",
   "metadata": {},
   "outputs": [
    {
     "name": "stdout",
     "output_type": "stream",
     "text": [
      "================================================================================\n",
      "Welcome to the FLEXIBLE WORD GAME\n",
      "================================================================================\n",
      "Enter the word size (4 to 8): 5\n",
      "Give all 5 -letter words you know, one word at a time\n",
      "Enter the word 'end' to exit\n",
      "What's the next word? great\n",
      "What's the next word? frame\n",
      "What's the next word? treat\n",
      "What's the next word? treat\n",
      "Repeated word! treat is number 3 in the accepted words list.\n",
      "treat is no longer an accepted word and is banned\n",
      "What's the next word? end\n",
      "Your score: 2\n",
      "Accepted words (in order of entry): great frame\n",
      "Accepted words (in sorted order): frame great\n",
      "Banned words (in sorted order): treat\n",
      "Thank you for playing the FLEXIBLE WORD GAME\n"
     ]
    }
   ],
   "source": [
    "def flexible_word_game():\n",
    "    while True:\n",
    "        try:\n",
    "            word_size = int(input(\"Enter the word size (4 to 8): \"))\n",
    "            if word_size < 4 or word_size > 8:\n",
    "                raise ValueError(\"Number not in correct range.\")\n",
    "            break\n",
    "        except ValueError:\n",
    "            print(\"That is not a number or not in the correct range. Try again.\")\n",
    "\n",
    "    print(\"Give all\", word_size, \"-letter words you know, one word at a time\")\n",
    "    print(\"Enter the word 'end' to exit\")\n",
    "    \n",
    "    accepted_words = []\n",
    "    banned_words = []\n",
    "    score = 0\n",
    "    \n",
    "    while True:\n",
    "        word = input(\"What's the next word? \").strip().lower()\n",
    "        \n",
    "        if word == 'end':\n",
    "            break\n",
    "        \n",
    "        if len(word) != word_size:\n",
    "            print(f\"Not a {word_size}-letter word\")\n",
    "            continue\n",
    "        \n",
    "        if word in accepted_words:\n",
    "            print(f\"Repeated word! {word} is number {accepted_words.index(word) + 1} in the accepted words list.\")\n",
    "            banned_words.append(word)\n",
    "            accepted_words.remove(word)\n",
    "            score -= 1\n",
    "            print(f\"{word} is no longer an accepted word and is banned\")\n",
    "            continue\n",
    "        \n",
    "        if word in banned_words:\n",
    "            print(f\"{word} is banned!\")\n",
    "            continue\n",
    "        \n",
    "        accepted_words.append(word)\n",
    "        score += 1\n",
    "        \n",
    "    print(\"Your score:\", score)\n",
    "    print(\"Accepted words (in order of entry):\", ' '.join(accepted_words))\n",
    "    print(\"Accepted words (in sorted order):\", ' '.join(sorted(accepted_words)))\n",
    "    print(\"Banned words (in sorted order):\", ' '.join(sorted(banned_words)))\n",
    "    print(\"Thank you for playing the FLEXIBLE WORD GAME\")\n",
    "\n",
    "# Run the game\n",
    "print(\"=\" * 80)\n",
    "print(\"Welcome to the FLEXIBLE WORD GAME\")\n",
    "print(\"=\" * 80)\n",
    "flexible_word_game()\n"
   ]
  },
  {
   "cell_type": "code",
   "execution_count": null,
   "id": "d9d01660",
   "metadata": {},
   "outputs": [],
   "source": []
  }
 ],
 "metadata": {
  "kernelspec": {
   "display_name": "Python 3 (ipykernel)",
   "language": "python",
   "name": "python3"
  },
  "language_info": {
   "codemirror_mode": {
    "name": "ipython",
    "version": 3
   },
   "file_extension": ".py",
   "mimetype": "text/x-python",
   "name": "python",
   "nbconvert_exporter": "python",
   "pygments_lexer": "ipython3",
   "version": "3.11.4"
  }
 },
 "nbformat": 4,
 "nbformat_minor": 5
}
