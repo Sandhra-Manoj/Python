{
 "cells": [
  {
   "cell_type": "markdown",
   "id": "64853f3b",
   "metadata": {},
   "source": [
    "### 1.Multiples of 7"
   ]
  },
  {
   "cell_type": "code",
   "execution_count": 4,
   "id": "e7a562a9",
   "metadata": {},
   "outputs": [
    {
     "name": "stdout",
     "output_type": "stream",
     "text": [
      "7\n",
      "14\n",
      "21\n",
      "28\n",
      "35\n",
      "42\n",
      "49\n"
     ]
    }
   ],
   "source": [
    "i=1\n",
    "n=7\n",
    "while i<=n:\n",
    "    \n",
    "    print(i*7)\n",
    "    i=i+1"
   ]
  },
  {
   "cell_type": "markdown",
   "id": "e6b633fe",
   "metadata": {},
   "source": [
    "### 2 sum numbers \n"
   ]
  },
  {
   "cell_type": "code",
   "execution_count": 3,
   "id": "756e6de3",
   "metadata": {},
   "outputs": [
    {
     "name": "stdout",
     "output_type": "stream",
     "text": [
      "total: 15\n"
     ]
    }
   ],
   "source": [
    "num=[1,2,3,4,5]\n",
    "total=0\n",
    "i=0\n",
    "while i<len(num):\n",
    "    total+=num[i]\n",
    "    i+=1\n",
    "print(\"total:\", total)"
   ]
  },
  {
   "cell_type": "markdown",
   "id": "67118b7b",
   "metadata": {},
   "source": [
    "###  3.seperate positive and negative numbers"
   ]
  },
  {
   "cell_type": "code",
   "execution_count": 14,
   "id": "42f42222",
   "metadata": {},
   "outputs": [
    {
     "name": "stdout",
     "output_type": "stream",
     "text": [
      "Positive numbers: [1, 3, 5, 7]\n",
      "Negative numbers: [-2, -4, -6, -8]\n"
     ]
    }
   ],
   "source": [
    "numbers=[1,-2,3,-4,5,-6,7,-8]\n",
    "positive= []\n",
    "negative= []\n",
    "i=0\n",
    "while i<len(numbers):\n",
    "    if numbers[i]>=0:\n",
    "        positive.append(numbers[i])\n",
    "    else:\n",
    "        negative.append(numbers[i])\n",
    "    i+=1\n",
    "print(\"Positive numbers:\", positive)\n",
    "print(\"Negative numbers:\", negative)\n"
   ]
  },
  {
   "cell_type": "markdown",
   "id": "d3b87f06",
   "metadata": {},
   "source": [
    "### 4. square of each num"
   ]
  },
  {
   "cell_type": "code",
   "execution_count": 7,
   "id": "6e075d74",
   "metadata": {},
   "outputs": [
    {
     "name": "stdout",
     "output_type": "stream",
     "text": [
      "[1, 4, 9, 16, 25, 36, 49, 64, 81, 100]\n"
     ]
    }
   ],
   "source": [
    "numbers=[1,2,3,4,5,6,7,8,9,10]\n",
    "sqr=[]\n",
    "i=0\n",
    "while i < len(numbers):\n",
    "    square = numbers[i] ** 2\n",
    "    sqr.append(square)\n",
    "    i += 1\n",
    "print(sqr)"
   ]
  },
  {
   "cell_type": "markdown",
   "id": "7809f5fd",
   "metadata": {},
   "source": [
    "### 5.reverse word"
   ]
  },
  {
   "cell_type": "code",
   "execution_count": 4,
   "id": "60cb31cc",
   "metadata": {},
   "outputs": [
    {
     "name": "stdout",
     "output_type": "stream",
     "text": [
      "Enter a word: sandhra\n",
      "arhdnas\n"
     ]
    }
   ],
   "source": [
    "word=input(\"Enter a word: \")\n",
    "reversed_word=\"\"\n",
    "i=len(word)-1\n",
    "while i>= 0:\n",
    "    reversed_word += word[i]\n",
    "    i-= 1\n",
    "print(reversed_word)\n"
   ]
  },
  {
   "cell_type": "markdown",
   "id": "ca08e655",
   "metadata": {},
   "source": [
    "### 6.even and odd number"
   ]
  },
  {
   "cell_type": "code",
   "execution_count": 5,
   "id": "19e5dc88",
   "metadata": {},
   "outputs": [
    {
     "name": "stdout",
     "output_type": "stream",
     "text": [
      "even numbers: [2, 4, 6, 8, 10]\n",
      "odd numbers: [1, 3, 5, 7, 9]\n"
     ]
    }
   ],
   "source": [
    "numbers=[1,2,3,4,5,6,7,8,9,10]\n",
    "odd= []\n",
    "even= []\n",
    "i=0\n",
    "while i<len(numbers):\n",
    "    if numbers[i]%2==0:\n",
    "        even.append(numbers[i])\n",
    "    else:\n",
    "        odd.append(numbers[i])\n",
    "    i+=1\n",
    "    \n",
    "\n",
    "print(\"even numbers:\", even)\n",
    "print(\"odd numbers:\", odd)"
   ]
  },
  {
   "cell_type": "markdown",
   "id": "dabc58bd",
   "metadata": {},
   "source": [
    "### 7."
   ]
  },
  {
   "cell_type": "code",
   "execution_count": 7,
   "id": "c3d96578",
   "metadata": {},
   "outputs": [
    {
     "name": "stdout",
     "output_type": "stream",
     "text": [
      "Guess a number: 3\n",
      "Guess is too high\n",
      "Guess a number: 2\n",
      "Guess is too high\n",
      "Guess a number: 1\n",
      "guess is right\n"
     ]
    }
   ],
   "source": [
    "import random \n",
    "number=random.randrange(1,10)\n",
    "guess=0\n",
    "while guess!=number:\n",
    "    guess = int(input(\"Guess a number: \"))\n",
    "    if guess<number:\n",
    "        print(\"Guess is too low\")\n",
    "        \n",
    "    elif guess>number:\n",
    "        print(\"Guess is too high\")\n",
    "    else:\n",
    "        print(\"guess is right\")\n",
    "        "
   ]
  },
  {
   "cell_type": "markdown",
   "id": "c94379cd",
   "metadata": {},
   "source": [
    "### 8."
   ]
  },
  {
   "cell_type": "code",
   "execution_count": 3,
   "id": "9d927239",
   "metadata": {},
   "outputs": [
    {
     "name": "stdout",
     "output_type": "stream",
     "text": [
      "Enter a word:malayalam\n",
      "It is a palindrome\n"
     ]
    }
   ],
   "source": [
    "x=input(\"Enter a word:\" )\n",
    "i=0\n",
    "j=len(x)-1\n",
    "while i<j:\n",
    "    if x[i]!=x[j]:\n",
    "        print(\"It is not a palindrome\")\n",
    "        break\n",
    "    i+=1\n",
    "    j-=1\n",
    "else:\n",
    "        print(\"It is a palindrome\")"
   ]
  },
  {
   "cell_type": "markdown",
   "id": "7d797510",
   "metadata": {},
   "source": [
    "### 9. Multiplication table"
   ]
  },
  {
   "cell_type": "code",
   "execution_count": 13,
   "id": "eb68adf4",
   "metadata": {},
   "outputs": [
    {
     "name": "stdout",
     "output_type": "stream",
     "text": [
      "Enter a number2\n",
      "1 x 2 = 2\n",
      "2 x 2 = 4\n",
      "3 x 2 = 6\n",
      "4 x 2 = 8\n",
      "5 x 2 = 10\n",
      "6 x 2 = 12\n",
      "7 x 2 = 14\n",
      "8 x 2 = 16\n",
      "9 x 2 = 18\n",
      "10 x 2 = 20\n"
     ]
    }
   ],
   "source": [
    "n=int(input(\"Enter a number\"))\n",
    "i=1\n",
    "while i<=10:\n",
    "    \n",
    "    print(i,\"x\",n,\"=\",n*i)\n",
    "    i+=1"
   ]
  },
  {
   "cell_type": "markdown",
   "id": "6577c7b9",
   "metadata": {},
   "source": [
    "### 10.prime number"
   ]
  },
  {
   "cell_type": "code",
   "execution_count": 6,
   "id": "ef81ab7d",
   "metadata": {},
   "outputs": [
    {
     "name": "stdout",
     "output_type": "stream",
     "text": [
      "Enter a number: 9\n",
      "9 is not a prime number\n"
     ]
    }
   ],
   "source": [
    "n=int(input(\"Enter a number: \"))\n",
    "i=2\n",
    "f=0\n",
    "while i<=n/2:\n",
    "    if n%i==0:\n",
    "        f=1\n",
    "        break\n",
    "    i+=1\n",
    "if f==0:\n",
    "    print(n,\"is a prime number\")\n",
    "else:\n",
    "    print(n,\"is not a prime number\")"
   ]
  },
  {
   "cell_type": "markdown",
   "id": "22203cf5",
   "metadata": {},
   "source": [
    "### 11."
   ]
  },
  {
   "cell_type": "code",
   "execution_count": 9,
   "id": "490deaf0",
   "metadata": {},
   "outputs": [
    {
     "name": "stdout",
     "output_type": "stream",
     "text": [
      "enter a number3\n",
      "enter the exponent5\n",
      "3 Power of 5 is:  243\n"
     ]
    }
   ],
   "source": [
    "a=int(input(\"enter a number\"))\n",
    "b=int(input(\"enter the exponent\"))\n",
    "x=1\n",
    "i=1\n",
    "while i<=b:\n",
    "    x*=a\n",
    "    i+=1\n",
    "print(a, \"Power of\",b, \"is: \",x)"
   ]
  },
  {
   "cell_type": "markdown",
   "id": "5cd9cf53",
   "metadata": {},
   "source": [
    "### 12. Armstrong number"
   ]
  },
  {
   "cell_type": "code",
   "execution_count": 13,
   "id": "ce1b2ad6",
   "metadata": {},
   "outputs": [
    {
     "name": "stdout",
     "output_type": "stream",
     "text": [
      "enter a number153\n",
      "153 It is an armstrog number\n"
     ]
    }
   ],
   "source": [
    "num=int(input(\"enter a number\"))\n",
    "length=len(str(num))\n",
    "sum=0\n",
    "temp=num\n",
    "while temp>0:\n",
    "    digit=temp%10\n",
    "    sum=sum+digit**length\n",
    "    temp//=10\n",
    "if num==sum:\n",
    "    print(num,\"It is an armstrog number\")\n",
    "else:\n",
    "    print(num,\"It is not an armstrog number\")"
   ]
  },
  {
   "cell_type": "markdown",
   "id": "dfaa7b46",
   "metadata": {},
   "source": [
    "### 13. GCD"
   ]
  },
  {
   "cell_type": "code",
   "execution_count": 10,
   "id": "88275450",
   "metadata": {},
   "outputs": [
    {
     "name": "stdout",
     "output_type": "stream",
     "text": [
      "GCD of 50 and 100 is: 50\n"
     ]
    }
   ],
   "source": [
    "x = 50\n",
    "y = 100\n",
    "while x > y:\n",
    "    x, y = y, x\n",
    "for i in range(1,x+1):\n",
    "    if x%i == 0 and y%i == 0:\n",
    "        gcd = i\n",
    "\n",
    "print(\"GCD of\", x, \"and\", y, \"is:\", gcd)"
   ]
  },
  {
   "cell_type": "markdown",
   "id": "ce86205a",
   "metadata": {},
   "source": [
    "### 14. largest element"
   ]
  },
  {
   "cell_type": "code",
   "execution_count": 6,
   "id": "fcf2f3cf",
   "metadata": {},
   "outputs": [
    {
     "name": "stdout",
     "output_type": "stream",
     "text": [
      "Largest element is:  66\n"
     ]
    }
   ],
   "source": [
    "numbers=[12,23,43,11,5,66,4]\n",
    "i=0\n",
    "largest=numbers[i]\n",
    "while i<len(numbers):\n",
    "    if numbers[i]>largest:\n",
    "        largest=numbers[i]\n",
    "    i+=1\n",
    "print(\"Largest element is: \", largest)"
   ]
  },
  {
   "cell_type": "markdown",
   "id": "e37366df",
   "metadata": {},
   "source": [
    "### 15.Pattern of asterisks"
   ]
  },
  {
   "cell_type": "code",
   "execution_count": 3,
   "id": "ae586dbc",
   "metadata": {},
   "outputs": [
    {
     "name": "stdout",
     "output_type": "stream",
     "text": [
      "*\n",
      "**\n",
      "***\n",
      "****\n",
      "*****\n"
     ]
    }
   ],
   "source": [
    "row =5\n",
    "i=1\n",
    "while i<=row:\n",
    "    \n",
    "    print(\"*\" *i)\n",
    "    i+=1"
   ]
  },
  {
   "cell_type": "markdown",
   "id": "6caf983b",
   "metadata": {},
   "source": [
    "### 16. Count numbers"
   ]
  },
  {
   "cell_type": "code",
   "execution_count": 10,
   "id": "214d7dec",
   "metadata": {},
   "outputs": [
    {
     "name": "stdout",
     "output_type": "stream",
     "text": [
      "Please Enter any Number: 12345\n",
      "Number of Digits in a Given Number =  5\n"
     ]
    }
   ],
   "source": [
    "number = int(input(\"Please Enter any Number: \"))\n",
    "count = 0\n",
    "while(number > 0):\n",
    "    number = number // 10\n",
    "    count = count + 1\n",
    "\n",
    "print(\"Number of Digits in a Given Number = \", count)"
   ]
  }
 ],
 "metadata": {
  "kernelspec": {
   "display_name": "Python 3 (ipykernel)",
   "language": "python",
   "name": "python3"
  },
  "language_info": {
   "codemirror_mode": {
    "name": "ipython",
    "version": 3
   },
   "file_extension": ".py",
   "mimetype": "text/x-python",
   "name": "python",
   "nbconvert_exporter": "python",
   "pygments_lexer": "ipython3",
   "version": "3.11.4"
  }
 },
 "nbformat": 4,
 "nbformat_minor": 5
}
