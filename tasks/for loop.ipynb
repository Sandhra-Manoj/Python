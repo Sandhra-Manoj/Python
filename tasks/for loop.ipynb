{
 "cells": [
  {
   "cell_type": "markdown",
   "id": "9c8a955c",
   "metadata": {},
   "source": [
    "### 1. Pairs sum"
   ]
  },
  {
   "cell_type": "code",
   "execution_count": 6,
   "id": "4feb9d87",
   "metadata": {},
   "outputs": [
    {
     "name": "stdout",
     "output_type": "stream",
     "text": [
      "Enter a number: 8\n",
      "Pairs with sum is: [2, 6]\n",
      "Pairs with sum is: [3, 5]\n"
     ]
    }
   ],
   "source": [
    "x = [1, 2, 3, 4, 5, 6]\n",
    "y=int(input(\"Enter a number: \"))\n",
    "n=len(x)\n",
    "\n",
    "for i in range(0,n):\n",
    "    for j in range(i+1,n):\n",
    "        if (x[i]+x[j]==y):\n",
    "            print(\"Pairs with sum is:\",[x[i],x[j]])\n"
   ]
  },
  {
   "cell_type": "markdown",
   "id": "ee2d48c8",
   "metadata": {},
   "source": [
    "### 2. Median"
   ]
  },
  {
   "cell_type": "code",
   "execution_count": 15,
   "id": "0198f71f",
   "metadata": {},
   "outputs": [
    {
     "name": "stdout",
     "output_type": "stream",
     "text": [
      "[1, 9, 3, 7, 5]\n",
      "sorted list:  [1, 3, 5, 7, 9]\n",
      "5\n"
     ]
    }
   ],
   "source": [
    "num=[1,9,3,7,5]\n",
    "print(num)\n",
    "num.sort()\n",
    "mid=len(num)//2\n",
    "mid2=len(num)-mid\n",
    "for median in num:\n",
    "    if median==(num[mid]+num[mid])/2:\n",
    "        print(\"sorted list: \",num)\n",
    "        break\n",
    "print(median)"
   ]
  },
  {
   "cell_type": "markdown",
   "id": "fdd7ab83",
   "metadata": {},
   "source": [
    "### 3."
   ]
  },
  {
   "cell_type": "code",
   "execution_count": 4,
   "id": "2ae96fab",
   "metadata": {},
   "outputs": [
    {
     "name": "stdout",
     "output_type": "stream",
     "text": [
      "The longest increasing subsequence is:  [1, 3, 9]\n"
     ]
    }
   ],
   "source": [
    "def longest_incresing_subsequence(arr):\n",
    "    if not arr:\n",
    "        return []\n",
    "    n=len(arr)\n",
    "    lis=[1]*n                                      \n",
    "    for i in range(1,n):\n",
    "        for j in range(0,i):\n",
    "            if arr[i]>arr[j] and lis[i]<lis[j]+1:\n",
    "                lis[i]=lis[j]+1\n",
    "    max_len=max(lis)\n",
    "    max_index=lis.index(max_len)\n",
    "    result=[]\n",
    "    for i in  range(max_index,-1,-1):\n",
    "                    if lis[i]==max_len:\n",
    "                        result.insert(0,arr[i])\n",
    "                        max_len-=1\n",
    "    return result\n",
    "        \n",
    "arr=[1,7,3,9,2,6]\n",
    "print( \"The longest increasing subsequence is: \",longest_incresing_subsequence(arr))"
   ]
  },
  {
   "cell_type": "markdown",
   "id": "9a76efe5",
   "metadata": {},
   "source": [
    "### 4"
   ]
  },
  {
   "cell_type": "code",
   "execution_count": 4,
   "id": "ce533239",
   "metadata": {},
   "outputs": [
    {
     "name": "stdout",
     "output_type": "stream",
     "text": [
      "The 3th element is: 5\n"
     ]
    }
   ],
   "source": [
    "arr=[9,2,5,7,3]\n",
    "n=len(arr)\n",
    "k=3\n",
    "for i in range(k):\n",
    "    for j in range(i+1,n):\n",
    "        if arr[i]>arr[j]:\n",
    "            arr[i],arr[j]=arr[j],arr[i]\n",
    "print(f\"The {k}th element is: {arr[k-1]}\")"
   ]
  },
  {
   "cell_type": "markdown",
   "id": "5fadd80b",
   "metadata": {},
   "source": [
    "### 5"
   ]
  },
  {
   "cell_type": "code",
   "execution_count": 6,
   "id": "2a3659e7",
   "metadata": {},
   "outputs": [
    {
     "name": "stdout",
     "output_type": "stream",
     "text": [
      "The list before sorting [1, 3, 5, 11, 7, 9, 10, 13, 12]\n",
      "The list after sorting [1, 3, 5, 7, 9, 10, 11, 12, 13]\n"
     ]
    }
   ],
   "source": [
    "def bubble_sort(list1):\n",
    "    n=len(list1)\n",
    "    for i in range(n):\n",
    "        for j in range(0,n-i-1):\n",
    "            if list1[j]>list1[j+1]:\n",
    "                list1[j],list1[j+1]=list1[j+1],list1[j]\n",
    "list1=[1,3,5,11,7,9,10,13,12]\n",
    "print(\"The list before sorting\",list1)\n",
    "bubble_sort(list1)\n",
    "print(\"The list after sorting\",list1)\n"
   ]
  },
  {
   "cell_type": "markdown",
   "id": "19eb84a6",
   "metadata": {},
   "source": [
    "### 6"
   ]
  },
  {
   "cell_type": "code",
   "execution_count": 2,
   "id": "6301fcc1",
   "metadata": {},
   "outputs": [
    {
     "name": "stdout",
     "output_type": "stream",
     "text": [
      "7 found at index 4\n"
     ]
    }
   ],
   "source": [
    "def binary_search(arr,x):\n",
    "    left,right=0,len(arr)-1\n",
    "    for i in range(len(arr)):\n",
    "        mid = (left+right) // 2\n",
    "        if arr[mid]==x:\n",
    "            print(x,\"found at index\",mid)\n",
    "            break\n",
    "        elif arr[mid] < x:\n",
    "            left=mid+1\n",
    "        else:\n",
    "            right=mid-1\n",
    "    else:\n",
    "        print('not found')\n",
    "arr =[2,4,5,6,7,8,9,10,12]\n",
    "x =7\n",
    "binary_search(arr,x)"
   ]
  },
  {
   "cell_type": "markdown",
   "id": "b9775a33",
   "metadata": {},
   "source": [
    "### 7 Largest product of 3 element"
   ]
  },
  {
   "cell_type": "code",
   "execution_count": 9,
   "id": "fac8028d",
   "metadata": {},
   "outputs": [
    {
     "name": "stdout",
     "output_type": "stream",
     "text": [
      "[2, 3, 5, 9, 7]\n",
      "the largest product of 3 elements is:  315\n"
     ]
    }
   ],
   "source": [
    "a=[1,2,3,4,5]\n",
    "a.sort()\n",
    "print(arr)\n",
    "n=len(arr)\n",
    "if n<3:\n",
    "    print(\"invalid input\")\n",
    "max_pro=arr[0]*arr[1]*arr[2]\n",
    "for i in range(n-2):\n",
    "    for j in range(i+1,n-1):\n",
    "        for k in range(j+1,n):\n",
    "            pro=arr[i]*arr[j]*arr[k]\n",
    "            if pro>max_pro:\n",
    "                max_pro=pro\n",
    "print(\"the largest product of 3 elements is: \",max_pro)\n",
    "   \n"
   ]
  },
  {
   "cell_type": "markdown",
   "id": "edd1e926",
   "metadata": {},
   "source": [
    "### 8"
   ]
  },
  {
   "cell_type": "code",
   "execution_count": 5,
   "id": "bd8fa547",
   "metadata": {},
   "outputs": [
    {
     "name": "stdout",
     "output_type": "stream",
     "text": [
      "largest sum of contiguous subarray is:   7\n",
      "starting index is:  2\n",
      "ending index is:  6\n"
     ]
    }
   ],
   "source": [
    "arr=[-2,-3,4,-1,-2,1,5,-3]\n",
    "n=len(arr)\n",
    "max_sum=-1\n",
    "curr_sum=0\n",
    "start=0\n",
    "end=0\n",
    "s=0\n",
    "for i in range(0,n):\n",
    "    curr_sum=curr_sum+arr[i]\n",
    "    if max_sum<curr_sum:\n",
    "        max_sum=curr_sum\n",
    "        start=s\n",
    "        end=i\n",
    "    if curr_sum<0:\n",
    "            curr_sum=0\n",
    "            s=i+1\n",
    "print(\"largest sum of contiguous subarray is:  \",max_sum)\n",
    "print(\"starting index is: \",start)\n",
    "print(\"ending index is: \",end)"
   ]
  },
  {
   "cell_type": "markdown",
   "id": "03e40b21",
   "metadata": {},
   "source": [
    "### 9"
   ]
  },
  {
   "cell_type": "code",
   "execution_count": 5,
   "id": "ec650742",
   "metadata": {},
   "outputs": [
    {
     "name": "stdout",
     "output_type": "stream",
     "text": [
      "The common elements is: {1, 3, 5}\n"
     ]
    }
   ],
   "source": [
    "a=[1,3,5,7,9]\n",
    "b=[1,2,3,4,5]\n",
    "for i in a:\n",
    "    for j in b:\n",
    "        element=((set(a)&set(b)))\n",
    "print(\"The common elements is:\",element)"
   ]
  },
  {
   "cell_type": "markdown",
   "id": "d00a6a9c",
   "metadata": {},
   "source": [
    "### 10"
   ]
  },
  {
   "cell_type": "code",
   "execution_count": 19,
   "id": "cbd7e582",
   "metadata": {},
   "outputs": [
    {
     "name": "stdout",
     "output_type": "stream",
     "text": [
      "enter a string: amma racecar\n",
      "racecar\n"
     ]
    }
   ],
   "source": [
    "x=input(\"enter a string: \")\n",
    "long=\"\"\n",
    "n=len(x)\n",
    "for i in range(n):\n",
    "    for j in range(i+1,n+1):\n",
    "        word=x[i:j]\n",
    "        if word==word[::-1]:\n",
    "            if len(word)>len(long):\n",
    "                long=word\n",
    "print(long)"
   ]
  }
 ],
 "metadata": {
  "kernelspec": {
   "display_name": "Python 3 (ipykernel)",
   "language": "python",
   "name": "python3"
  },
  "language_info": {
   "codemirror_mode": {
    "name": "ipython",
    "version": 3
   },
   "file_extension": ".py",
   "mimetype": "text/x-python",
   "name": "python",
   "nbconvert_exporter": "python",
   "pygments_lexer": "ipython3",
   "version": "3.11.4"
  }
 },
 "nbformat": 4,
 "nbformat_minor": 5
}
