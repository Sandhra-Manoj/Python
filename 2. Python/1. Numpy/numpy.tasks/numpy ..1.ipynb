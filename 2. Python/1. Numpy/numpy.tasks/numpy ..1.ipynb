{
 "cells": [
  {
   "cell_type": "code",
   "execution_count": 1,
   "id": "762a2f63",
   "metadata": {},
   "outputs": [],
   "source": [
    "import numpy as np"
   ]
  },
  {
   "cell_type": "markdown",
   "id": "1662e4be",
   "metadata": {},
   "source": [
    "### 1"
   ]
  },
  {
   "cell_type": "code",
   "execution_count": 11,
   "id": "ff334348",
   "metadata": {},
   "outputs": [
    {
     "name": "stdout",
     "output_type": "stream",
     "text": [
      "[1 2 3 4 5 6 7 8 9]\n",
      "[[1 2 3]\n",
      " [4 5 6]\n",
      " [7 8 9]]\n"
     ]
    }
   ],
   "source": [
    "a=np.array([1,2,3,4,5,6,7,8,9])\n",
    "print(a)\n",
    "b=a.reshape(3,3)\n",
    "print(b)"
   ]
  },
  {
   "cell_type": "markdown",
   "id": "3ccd746a",
   "metadata": {},
   "source": [
    "### 2"
   ]
  },
  {
   "cell_type": "code",
   "execution_count": 9,
   "id": "ba77e10e",
   "metadata": {},
   "outputs": [
    {
     "name": "stdout",
     "output_type": "stream",
     "text": [
      "[ 5  6  7  8  9 10 11 12 13]\n",
      "[[ 5  6  7]\n",
      " [ 8  9 10]\n",
      " [11 12 13]]\n"
     ]
    }
   ],
   "source": [
    "b=np.arange(5,14)\n",
    "print(b)\n",
    "x=b.reshape(3,3)\n",
    "print(x)"
   ]
  },
  {
   "cell_type": "markdown",
   "id": "e5770ac3",
   "metadata": {},
   "source": [
    "### 3"
   ]
  },
  {
   "cell_type": "code",
   "execution_count": 3,
   "id": "e6affa1f",
   "metadata": {},
   "outputs": [
    {
     "name": "stdout",
     "output_type": "stream",
     "text": [
      "[1 2]\n",
      "[3 4]\n",
      "11\n"
     ]
    }
   ],
   "source": [
    "a = np.array([1, 2])\n",
    "b = np.array([3, 4])\n",
    "mul = a @ b\n",
    "\n",
    "print(a)\n",
    "print(b)\n",
    "print(mul)\n"
   ]
  },
  {
   "cell_type": "markdown",
   "id": "c435d4cc",
   "metadata": {},
   "source": [
    "### 4"
   ]
  },
  {
   "cell_type": "code",
   "execution_count": 6,
   "id": "b43b5300",
   "metadata": {},
   "outputs": [
    {
     "name": "stdout",
     "output_type": "stream",
     "text": [
      "[[1 2]\n",
      " [3 4]]\n",
      "[[5 6]\n",
      " [7 8]]\n",
      "row of a :  [1 2]\n",
      "colomn of b :  [5 7]\n",
      "Dot product of the first row of a and the first column of b: 19\n",
      "19\n"
     ]
    }
   ],
   "source": [
    "a = np.array([[1, 2], [3, 4]])\n",
    "b = np.array([[5, 6], [7, 8]])\n",
    "\n",
    "row = a[0, :]\n",
    "column = b[:, 0]\n",
    "\n",
    "dot_product = np.dot(row,column)\n",
    "\n",
    "print(a)\n",
    "print(b)\n",
    "print(\"row of a : \",row)\n",
    "print(\"colomn of b : \",column)\n",
    "\n",
    "print(\"Dot product of the first row of a and the first column of b:\",dot_product)\n"
   ]
  },
  {
   "cell_type": "markdown",
   "id": "dc7caeed",
   "metadata": {},
   "source": [
    "### 5"
   ]
  },
  {
   "cell_type": "code",
   "execution_count": 14,
   "id": "6b1d4724",
   "metadata": {},
   "outputs": [
    {
     "name": "stdout",
     "output_type": "stream",
     "text": [
      "55\n"
     ]
    }
   ],
   "source": [
    "a=np.array([1,2,3,4,5,6,7,8,9,10])\n",
    "b=np.sum(a)\n",
    "print(b)"
   ]
  },
  {
   "cell_type": "markdown",
   "id": "0bc25925",
   "metadata": {},
   "source": [
    "### 6"
   ]
  },
  {
   "cell_type": "code",
   "execution_count": 32,
   "id": "6f0cc7df",
   "metadata": {},
   "outputs": [
    {
     "name": "stdout",
     "output_type": "stream",
     "text": [
      "24\n"
     ]
    }
   ],
   "source": [
    "b=np.array([1,2,3,4])\n",
    "b=np.product(b)\n",
    "print(b)"
   ]
  },
  {
   "cell_type": "markdown",
   "id": "8d6e4f52",
   "metadata": {},
   "source": [
    "### 7"
   ]
  },
  {
   "cell_type": "code",
   "execution_count": 29,
   "id": "60a0b852",
   "metadata": {},
   "outputs": [
    {
     "name": "stdout",
     "output_type": "stream",
     "text": [
      "[1 2 0 3 4 5]\n"
     ]
    }
   ],
   "source": [
    "c=np.array([1,2,3,4,5])\n",
    "c=np.insert(c,2,0)\n",
    "print(c)"
   ]
  },
  {
   "cell_type": "markdown",
   "id": "d914da99",
   "metadata": {},
   "source": [
    "### 8"
   ]
  },
  {
   "cell_type": "code",
   "execution_count": 31,
   "id": "756f5c08",
   "metadata": {},
   "outputs": [
    {
     "name": "stdout",
     "output_type": "stream",
     "text": [
      "[1 2 3 5]\n"
     ]
    }
   ],
   "source": [
    "d=np.array([1,2,3,4,5])\n",
    "d=np.delete(d,3)\n",
    "print(d)"
   ]
  },
  {
   "cell_type": "markdown",
   "id": "3e3377d6",
   "metadata": {},
   "source": [
    "### 9"
   ]
  },
  {
   "cell_type": "code",
   "execution_count": 39,
   "id": "e63e693a",
   "metadata": {},
   "outputs": [
    {
     "name": "stdout",
     "output_type": "stream",
     "text": [
      "[ 6  7  8  9 10 11 12]\n"
     ]
    }
   ],
   "source": [
    "e=np.array([[1,2,3,4],[5,6,7,8],[9,10,11,12]])\n",
    "five_up=9e>5]\n",
    "print(five_up)\n"
   ]
  },
  {
   "cell_type": "markdown",
   "id": "cabc04b3",
   "metadata": {},
   "source": [
    "### 10"
   ]
  },
  {
   "cell_type": "code",
   "execution_count": 12,
   "id": "732762dd",
   "metadata": {},
   "outputs": [
    {
     "name": "stdout",
     "output_type": "stream",
     "text": [
      "[ 1  8 15]\n"
     ]
    }
   ],
   "source": [
    "f=np.array([[1,2,3,4,5],\n",
    "            [6,7,8,9,10],\n",
    "            [11,12,13,14,15],\n",
    "            [16,17,18,19,20]])\n",
    "index=np.array([[0,0],\n",
    "        [1,2],\n",
    "        [2,4]])\n",
    "x=f[index[:,0],index[:,1]]\n",
    "print(x)"
   ]
  },
  {
   "cell_type": "markdown",
   "id": "f0cd1fdb",
   "metadata": {},
   "source": [
    "### 11"
   ]
  },
  {
   "cell_type": "code",
   "execution_count": 3,
   "id": "be788436",
   "metadata": {},
   "outputs": [
    {
     "name": "stdout",
     "output_type": "stream",
     "text": [
      "[[0.5 0.  0.  0.  0. ]\n",
      " [0.  0.5 0.  0.  0. ]\n",
      " [0.  0.  0.5 0.  0. ]\n",
      " [0.  0.  0.  0.5 0. ]\n",
      " [0.  0.  0.  0.  0.5]]\n"
     ]
    }
   ],
   "source": [
    "a = 0.5 * np.eye(5)\n",
    "print(a)\n"
   ]
  },
  {
   "cell_type": "markdown",
   "id": "10d7c212",
   "metadata": {},
   "source": [
    "### 12"
   ]
  },
  {
   "cell_type": "code",
   "execution_count": 6,
   "id": "f5b243b3",
   "metadata": {},
   "outputs": [
    {
     "name": "stdout",
     "output_type": "stream",
     "text": [
      "[[[ 2  1  1]\n",
      "  [ 6  2  0]\n",
      "  [ 0  4  0]]\n",
      "\n",
      " [[ 0  8  7]\n",
      "  [ 3  9  8]\n",
      "  [ 1  9 10]]\n",
      "\n",
      " [[ 5  3  8]\n",
      "  [ 6  3  7]\n",
      "  [ 5  5  2]]]\n"
     ]
    }
   ],
   "source": [
    "b = np.random.randint(0, 11, size=(3, 3, 3))\n",
    "print(b)\n"
   ]
  },
  {
   "cell_type": "markdown",
   "id": "6a72013b",
   "metadata": {},
   "source": [
    "### 13"
   ]
  },
  {
   "cell_type": "code",
   "execution_count": 10,
   "id": "23f8f5a3",
   "metadata": {},
   "outputs": [
    {
     "name": "stdout",
     "output_type": "stream",
     "text": [
      "[[5.33333333 4.33333333 7.33333333]\n",
      " [2.66666667 3.66666667 4.66666667]\n",
      " [5.33333333 5.66666667 3.        ]]\n"
     ]
    }
   ],
   "source": [
    "b = np.random.randint(0, 11, size=(3, 3, 3))\n",
    "row_means = np.mean(b, axis=2)\n",
    "print(row_means)\n"
   ]
  },
  {
   "cell_type": "markdown",
   "id": "89a2b694",
   "metadata": {},
   "source": [
    "### 14"
   ]
  },
  {
   "cell_type": "code",
   "execution_count": 18,
   "id": "53521faa",
   "metadata": {},
   "outputs": [
    {
     "name": "stdout",
     "output_type": "stream",
     "text": [
      "[3.26598632 3.26598632 3.26598632 3.26598632]\n"
     ]
    }
   ],
   "source": [
    "a=np.array([[1,2,3,4],\n",
    "            [5,6,7,8],\n",
    "            [9,10,11,12]])\n",
    "\n",
    "column_sd = np.std(a, axis=0)\n",
    "print(column_sd)\n"
   ]
  },
  {
   "cell_type": "markdown",
   "id": "a7bf4d6d",
   "metadata": {},
   "source": [
    "### 15"
   ]
  },
  {
   "cell_type": "code",
   "execution_count": 26,
   "id": "25f3b50e",
   "metadata": {},
   "outputs": [
    {
     "name": "stdout",
     "output_type": "stream",
     "text": [
      "[[ 30  70 110]\n",
      " [ 70 174 278]\n",
      " [110 278 446]]\n"
     ]
    }
   ],
   "source": [
    "a=np.array([[1,2,3,4],\n",
    "            [5,6,7,8],\n",
    "            [9,10,11,12]])\n",
    "b=np.dot(a,a.T)\n",
    "print(b)"
   ]
  },
  {
   "cell_type": "markdown",
   "id": "65d64836",
   "metadata": {},
   "source": [
    "### 16"
   ]
  },
  {
   "cell_type": "code",
   "execution_count": 28,
   "id": "8c355b35",
   "metadata": {},
   "outputs": [
    {
     "name": "stdout",
     "output_type": "stream",
     "text": [
      "[[0. 1. 0. 0. 0. 0.]\n",
      " [0. 0. 1. 0. 0. 0.]\n",
      " [0. 0. 0. 1. 0. 0.]\n",
      " [0. 0. 0. 0. 1. 0.]\n",
      " [0. 0. 0. 0. 0. 1.]\n",
      " [1. 0. 0. 0. 0. 0.]]\n"
     ]
    }
   ],
   "source": [
    "c = np.eye(6)\n",
    "c = np.roll(c, 1, axis=1)\n",
    "\n",
    "print(c)\n"
   ]
  },
  {
   "cell_type": "markdown",
   "id": "41375a62",
   "metadata": {},
   "source": [
    "### 17"
   ]
  },
  {
   "cell_type": "code",
   "execution_count": 38,
   "id": "dea9a95a",
   "metadata": {},
   "outputs": [
    {
     "name": "stdout",
     "output_type": "stream",
     "text": [
      "[[1. 0. 0. 0.]\n",
      " [0. 1. 0. 0.]\n",
      " [0. 0. 1. 0.]\n",
      " [0. 0. 0. 1.]]\n"
     ]
    }
   ],
   "source": [
    "d = np.eye(4)\n",
    "x= d / d.sum(axis=1,)\n",
    "\n",
    "print(x)\n"
   ]
  },
  {
   "cell_type": "markdown",
   "id": "68ff04dd",
   "metadata": {},
   "source": [
    "### 18"
   ]
  },
  {
   "cell_type": "code",
   "execution_count": 40,
   "id": "2a438e1f",
   "metadata": {},
   "outputs": [
    {
     "name": "stdout",
     "output_type": "stream",
     "text": [
      "[[7 8 9]\n",
      " [4 5 6]\n",
      " [1 2 3]]\n"
     ]
    }
   ],
   "source": [
    "e=np.array([[1,2,3],\n",
    "            [4,5,6],\n",
    "            [7,8,9]])\n",
    "e=np.flipud(e)\n",
    "print(e)"
   ]
  },
  {
   "cell_type": "markdown",
   "id": "190fa746",
   "metadata": {},
   "source": [
    "### 19"
   ]
  },
  {
   "cell_type": "code",
   "execution_count": 45,
   "id": "71fc5635",
   "metadata": {},
   "outputs": [
    {
     "name": "stdout",
     "output_type": "stream",
     "text": [
      "[[ 0  1  2  3]\n",
      " [ 4  5  6  7]\n",
      " [ 4  8  9 10]\n",
      " [ 2  4  6  8]]\n"
     ]
    }
   ],
   "source": [
    "f=np.array([[1,2,0,3],\n",
    "           [5,4,6,7],\n",
    "           [8,9,10,4],\n",
    "           [2,6,4,8]])\n",
    "x=np.sort(f,axis=1)\n",
    "print(x)"
   ]
  },
  {
   "cell_type": "markdown",
   "id": "ff4a206a",
   "metadata": {},
   "source": [
    "### 20"
   ]
  },
  {
   "cell_type": "code",
   "execution_count": 48,
   "id": "debcb60f",
   "metadata": {},
   "outputs": [
    {
     "name": "stdout",
     "output_type": "stream",
     "text": [
      "[[1. 0. 0. 0. 0.]\n",
      " [0. 1. 0. 0. 0.]\n",
      " [0. 0. 1. 0. 0.]\n",
      " [0. 0. 0. 1. 0.]\n",
      " [0. 0. 0. 0. 1.]]\n",
      "[[ 1.  0.  0.  0.  0.]\n",
      " [ 0.  1.  0.  0.  0.]\n",
      " [ 0.  0.  1.  0.  0.]\n",
      " [-0. -0. -0.  1. -0.]\n",
      " [ 0.  0.  0.  0.  1.]]\n"
     ]
    }
   ],
   "source": [
    "g = np.eye(5)\n",
    "x= np.linalg.inv(g)\n",
    "print(g)\n",
    "print(x)\n"
   ]
  }
 ],
 "metadata": {
  "kernelspec": {
   "display_name": "Python 3 (ipykernel)",
   "language": "python",
   "name": "python3"
  },
  "language_info": {
   "codemirror_mode": {
    "name": "ipython",
    "version": 3
   },
   "file_extension": ".py",
   "mimetype": "text/x-python",
   "name": "python",
   "nbconvert_exporter": "python",
   "pygments_lexer": "ipython3",
   "version": "3.11.4"
  }
 },
 "nbformat": 4,
 "nbformat_minor": 5
}
