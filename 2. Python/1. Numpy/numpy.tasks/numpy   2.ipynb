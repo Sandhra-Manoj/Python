{
 "cells": [
  {
   "cell_type": "code",
   "execution_count": 1,
   "id": "2d5ff119",
   "metadata": {},
   "outputs": [],
   "source": [
    "import numpy as np"
   ]
  },
  {
   "cell_type": "markdown",
   "id": "6916f598",
   "metadata": {},
   "source": [
    "### 1"
   ]
  },
  {
   "cell_type": "code",
   "execution_count": 20,
   "id": "22c81051",
   "metadata": {},
   "outputs": [
    {
     "name": "stdout",
     "output_type": "stream",
     "text": [
      "16.6\n"
     ]
    }
   ],
   "source": [
    "a=np.array([12,15,17,19,20])\n",
    "a=np.mean(a)\n",
    "print(a)\n"
   ]
  },
  {
   "cell_type": "code",
   "execution_count": 21,
   "id": "5dd4bc65",
   "metadata": {},
   "outputs": [
    {
     "name": "stdout",
     "output_type": "stream",
     "text": [
      "17.0\n"
     ]
    }
   ],
   "source": [
    "b=np.array([12,15,17,19,20])\n",
    "b=np.median(b)\n",
    "print(b)"
   ]
  },
  {
   "cell_type": "code",
   "execution_count": 22,
   "id": "85000e0b",
   "metadata": {},
   "outputs": [
    {
     "name": "stdout",
     "output_type": "stream",
     "text": [
      "2.870540018881465\n"
     ]
    }
   ],
   "source": [
    "c=np.array([12,15,17,19,20])\n",
    "c=np.std(c)\n",
    "print(c)"
   ]
  },
  {
   "cell_type": "markdown",
   "id": "6d1c1148",
   "metadata": {},
   "source": [
    "### 2"
   ]
  },
  {
   "cell_type": "code",
   "execution_count": 29,
   "id": "d46e7c73",
   "metadata": {},
   "outputs": [
    {
     "name": "stdout",
     "output_type": "stream",
     "text": [
      "-2.0000000000000004\n"
     ]
    }
   ],
   "source": [
    "mat = np.array([[1, 2], [3, 4]])\n",
    "\n",
    "x = np.linalg.det(mat)\n",
    "print(x)\n"
   ]
  },
  {
   "cell_type": "markdown",
   "id": "79bb435a",
   "metadata": {},
   "source": [
    "### 3"
   ]
  },
  {
   "cell_type": "code",
   "execution_count": 34,
   "id": "732bf935",
   "metadata": {},
   "outputs": [
    {
     "name": "stdout",
     "output_type": "stream",
     "text": [
      "[50 33 59 10 39 76 83 55 71 80]\n"
     ]
    }
   ],
   "source": [
    "b = np.random.randint(0, 101, size=10)\n",
    "print(b)\n"
   ]
  },
  {
   "cell_type": "markdown",
   "id": "e5fa4af2",
   "metadata": {},
   "source": [
    "### 4"
   ]
  },
  {
   "cell_type": "code",
   "execution_count": 41,
   "id": "9fc36720",
   "metadata": {},
   "outputs": [
    {
     "name": "stdout",
     "output_type": "stream",
     "text": [
      "[[19 22]\n",
      " [43 50]]\n"
     ]
    }
   ],
   "source": [
    "a = np.array([[1, 2], \n",
    "              [3, 4]])\n",
    "b = np.array([[5, 6],\n",
    "              [7, 8]])\n",
    "d = a @ b\n",
    "print(d)\n"
   ]
  },
  {
   "cell_type": "markdown",
   "id": "0e558d64",
   "metadata": {},
   "source": [
    "### 5"
   ]
  },
  {
   "cell_type": "code",
   "execution_count": 43,
   "id": "3f59e1ff",
   "metadata": {},
   "outputs": [
    {
     "name": "stdout",
     "output_type": "stream",
     "text": [
      "[ 2  3  5  7 11 13 17 19 23 29 31 37 41 43 47]\n"
     ]
    }
   ],
   "source": [
    "def is_prime(num):\n",
    "    if num < 2:\n",
    "        return False\n",
    "    for i in range(2, int(np.sqrt(num)) + 1):\n",
    "        if num % i == 0:\n",
    "            return False\n",
    "    return True\n",
    "primes = np.array([x for x in range(1, 51) if is_prime(x)])\n",
    "\n",
    "print(primes)\n"
   ]
  },
  {
   "cell_type": "markdown",
   "id": "da83ad3f",
   "metadata": {},
   "source": [
    "### 6"
   ]
  },
  {
   "cell_type": "code",
   "execution_count": 44,
   "id": "367cb735",
   "metadata": {},
   "outputs": [
    {
     "name": "stdout",
     "output_type": "stream",
     "text": [
      "[-1.41421356 -0.70710678  0.          0.70710678  1.41421356]\n"
     ]
    }
   ],
   "source": [
    "a= np.array([10, 20, 30, 40, 50])\n",
    "b = (a - np.mean(a)) / np.std(a)\n",
    "print(b)\n"
   ]
  },
  {
   "cell_type": "markdown",
   "id": "6a6da147",
   "metadata": {},
   "source": [
    "### 7"
   ]
  },
  {
   "cell_type": "code",
   "execution_count": 3,
   "id": "add3f88d",
   "metadata": {},
   "outputs": [
    {
     "name": "stdout",
     "output_type": "stream",
     "text": [
      "Odd Numbers: [ 5 11 17 23]\n"
     ]
    }
   ],
   "source": [
    "a=np.array([2, 5, 8, 11, 14, 17, 20, 23])\n",
    "odd_numbers = a[a % 2 != 0]\n",
    "print(\"Odd Numbers:\", odd_numbers)\n"
   ]
  },
  {
   "cell_type": "markdown",
   "id": "ef077628",
   "metadata": {},
   "source": [
    "### 8"
   ]
  },
  {
   "cell_type": "code",
   "execution_count": 4,
   "id": "bf56d4d1",
   "metadata": {},
   "outputs": [
    {
     "name": "stdout",
     "output_type": "stream",
     "text": [
      "[1.         1.41421356 1.73205081 2.         2.23606798 2.44948974\n",
      " 2.64575131 2.82842712 3.         3.16227766]\n"
     ]
    }
   ],
   "source": [
    "a=np.array([1,2,3,4,5,6,7,8,9,10])\n",
    "root=np.sqrt(a)\n",
    "print(root)"
   ]
  },
  {
   "cell_type": "markdown",
   "id": "db97eb5e",
   "metadata": {},
   "source": [
    "### 9"
   ]
  },
  {
   "cell_type": "code",
   "execution_count": 17,
   "id": "db8def2b",
   "metadata": {},
   "outputs": [
    {
     "name": "stdout",
     "output_type": "stream",
     "text": [
      "[[0 1 2]\n",
      " [3 4 5]\n",
      " [6 7 8]]\n",
      "\n",
      " [0 4 8]\n"
     ]
    }
   ],
   "source": [
    "a= np.arange(9).reshape(3, 3)\n",
    "diagonal_elements = np.diag(matrix)\n",
    "print(a)\n",
    "print(\"\\n\",diagonal_elements)\n"
   ]
  },
  {
   "cell_type": "markdown",
   "id": "8a2c1bde",
   "metadata": {},
   "source": [
    "### 10"
   ]
  },
  {
   "cell_type": "code",
   "execution_count": 18,
   "id": "051db6c0",
   "metadata": {},
   "outputs": [
    {
     "name": "stdout",
     "output_type": "stream",
     "text": [
      "400\n"
     ]
    }
   ],
   "source": [
    "a=[2,3,4,5]\n",
    "b=[10,20,30,40]\n",
    "c=np.dot(a,b)\n",
    "print(c)"
   ]
  }
 ],
 "metadata": {
  "kernelspec": {
   "display_name": "Python 3 (ipykernel)",
   "language": "python",
   "name": "python3"
  },
  "language_info": {
   "codemirror_mode": {
    "name": "ipython",
    "version": 3
   },
   "file_extension": ".py",
   "mimetype": "text/x-python",
   "name": "python",
   "nbconvert_exporter": "python",
   "pygments_lexer": "ipython3",
   "version": "3.11.4"
  }
 },
 "nbformat": 4,
 "nbformat_minor": 5
}
